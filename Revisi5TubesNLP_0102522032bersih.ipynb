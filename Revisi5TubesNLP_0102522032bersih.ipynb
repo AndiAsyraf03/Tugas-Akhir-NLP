{
 "cells": [
  {
   "cell_type": "markdown",
   "metadata": {
    "id": "oT9GkRnE-nNq"
   },
   "source": [
    "#**Dampak Standardisasi Model Emosi dan Kualitas Dataset terhadap Generalisasi Sistem Deteksi Emosi Multi-label Berbahasa Indonesia**"
   ]
  },
  {
   "cell_type": "markdown",
   "metadata": {
    "id": "hb2zpuPpA1eb"
   },
   "source": [
    "#**1. Persiapan Lingkungan dan Dataset**"
   ]
  },
  {
   "cell_type": "markdown",
   "metadata": {
    "id": "SJF9DVeBBE8G"
   },
   "source": [
    "##**1.1 Instalasi dan Impor Dependensi**"
   ]
  },
  {
   "cell_type": "code",
   "execution_count": null,
   "metadata": {
    "colab": {
     "base_uri": "https://localhost:8080/"
    },
    "id": "2VbKG36tsnWg",
    "outputId": "90884be6-0733-47ff-ed1b-46f0d28f5464"
   },
   "outputs": [
    {
     "name": "stdout",
     "output_type": "stream",
     "text": [
      "Requirement already satisfied: datasets in /usr/local/lib/python3.11/dist-packages (4.0.0)\n",
      "Requirement already satisfied: pandas in /usr/local/lib/python3.11/dist-packages (2.2.2)\n",
      "Requirement already satisfied: numpy in /usr/local/lib/python3.11/dist-packages (1.26.4)\n",
      "Requirement already satisfied: scikit-learn in /usr/local/lib/python3.11/dist-packages (1.6.1)\n",
      "Requirement already satisfied: torch in /usr/local/lib/python3.11/dist-packages (2.6.0+cu124)\n",
      "Requirement already satisfied: transformers in /usr/local/lib/python3.11/dist-packages (4.54.0)\n",
      "Requirement already satisfied: Sastrawi in /usr/local/lib/python3.11/dist-packages (1.0.1)\n",
      "Requirement already satisfied: nltk in /usr/local/lib/python3.11/dist-packages (3.9.1)\n",
      "Requirement already satisfied: textstat in /usr/local/lib/python3.11/dist-packages (0.7.8)\n",
      "Requirement already satisfied: gensim in /usr/local/lib/python3.11/dist-packages (4.3.3)\n",
      "Requirement already satisfied: filelock in /usr/local/lib/python3.11/dist-packages (from datasets) (3.18.0)\n",
      "Requirement already satisfied: pyarrow>=15.0.0 in /usr/local/lib/python3.11/dist-packages (from datasets) (18.1.0)\n",
      "Requirement already satisfied: dill<0.3.9,>=0.3.0 in /usr/local/lib/python3.11/dist-packages (from datasets) (0.3.8)\n",
      "Requirement already satisfied: requests>=2.32.2 in /usr/local/lib/python3.11/dist-packages (from datasets) (2.32.3)\n",
      "Requirement already satisfied: tqdm>=4.66.3 in /usr/local/lib/python3.11/dist-packages (from datasets) (4.67.1)\n",
      "Requirement already satisfied: xxhash in /usr/local/lib/python3.11/dist-packages (from datasets) (3.5.0)\n",
      "Requirement already satisfied: multiprocess<0.70.17 in /usr/local/lib/python3.11/dist-packages (from datasets) (0.70.16)\n",
      "Requirement already satisfied: fsspec<=2025.3.0,>=2023.1.0 in /usr/local/lib/python3.11/dist-packages (from fsspec[http]<=2025.3.0,>=2023.1.0->datasets) (2025.3.0)\n",
      "Requirement already satisfied: huggingface-hub>=0.24.0 in /usr/local/lib/python3.11/dist-packages (from datasets) (0.34.1)\n",
      "Requirement already satisfied: packaging in /usr/local/lib/python3.11/dist-packages (from datasets) (25.0)\n",
      "Requirement already satisfied: pyyaml>=5.1 in /usr/local/lib/python3.11/dist-packages (from datasets) (6.0.2)\n",
      "Requirement already satisfied: python-dateutil>=2.8.2 in /usr/local/lib/python3.11/dist-packages (from pandas) (2.9.0.post0)\n",
      "Requirement already satisfied: pytz>=2020.1 in /usr/local/lib/python3.11/dist-packages (from pandas) (2025.2)\n",
      "Requirement already satisfied: tzdata>=2022.7 in /usr/local/lib/python3.11/dist-packages (from pandas) (2025.2)\n",
      "Requirement already satisfied: scipy>=1.6.0 in /usr/local/lib/python3.11/dist-packages (from scikit-learn) (1.13.1)\n",
      "Requirement already satisfied: joblib>=1.2.0 in /usr/local/lib/python3.11/dist-packages (from scikit-learn) (1.5.1)\n",
      "Requirement already satisfied: threadpoolctl>=3.1.0 in /usr/local/lib/python3.11/dist-packages (from scikit-learn) (3.6.0)\n",
      "Requirement already satisfied: typing-extensions>=4.10.0 in /usr/local/lib/python3.11/dist-packages (from torch) (4.14.1)\n",
      "Requirement already satisfied: networkx in /usr/local/lib/python3.11/dist-packages (from torch) (3.5)\n",
      "Requirement already satisfied: jinja2 in /usr/local/lib/python3.11/dist-packages (from torch) (3.1.6)\n",
      "Requirement already satisfied: nvidia-cuda-nvrtc-cu12==12.4.127 in /usr/local/lib/python3.11/dist-packages (from torch) (12.4.127)\n",
      "Requirement already satisfied: nvidia-cuda-runtime-cu12==12.4.127 in /usr/local/lib/python3.11/dist-packages (from torch) (12.4.127)\n",
      "Requirement already satisfied: nvidia-cuda-cupti-cu12==12.4.127 in /usr/local/lib/python3.11/dist-packages (from torch) (12.4.127)\n",
      "Requirement already satisfied: nvidia-cudnn-cu12==9.1.0.70 in /usr/local/lib/python3.11/dist-packages (from torch) (9.1.0.70)\n",
      "Requirement already satisfied: nvidia-cublas-cu12==12.4.5.8 in /usr/local/lib/python3.11/dist-packages (from torch) (12.4.5.8)\n",
      "Requirement already satisfied: nvidia-cufft-cu12==11.2.1.3 in /usr/local/lib/python3.11/dist-packages (from torch) (11.2.1.3)\n",
      "Requirement already satisfied: nvidia-curand-cu12==10.3.5.147 in /usr/local/lib/python3.11/dist-packages (from torch) (10.3.5.147)\n",
      "Requirement already satisfied: nvidia-cusolver-cu12==11.6.1.9 in /usr/local/lib/python3.11/dist-packages (from torch) (11.6.1.9)\n",
      "Requirement already satisfied: nvidia-cusparse-cu12==12.3.1.170 in /usr/local/lib/python3.11/dist-packages (from torch) (12.3.1.170)\n",
      "Requirement already satisfied: nvidia-cusparselt-cu12==0.6.2 in /usr/local/lib/python3.11/dist-packages (from torch) (0.6.2)\n",
      "Requirement already satisfied: nvidia-nccl-cu12==2.21.5 in /usr/local/lib/python3.11/dist-packages (from torch) (2.21.5)\n",
      "Requirement already satisfied: nvidia-nvtx-cu12==12.4.127 in /usr/local/lib/python3.11/dist-packages (from torch) (12.4.127)\n",
      "Requirement already satisfied: nvidia-nvjitlink-cu12==12.4.127 in /usr/local/lib/python3.11/dist-packages (from torch) (12.4.127)\n",
      "Requirement already satisfied: triton==3.2.0 in /usr/local/lib/python3.11/dist-packages (from torch) (3.2.0)\n",
      "Requirement already satisfied: sympy==1.13.1 in /usr/local/lib/python3.11/dist-packages (from torch) (1.13.1)\n",
      "Requirement already satisfied: mpmath<1.4,>=1.1.0 in /usr/local/lib/python3.11/dist-packages (from sympy==1.13.1->torch) (1.3.0)\n",
      "Requirement already satisfied: regex!=2019.12.17 in /usr/local/lib/python3.11/dist-packages (from transformers) (2024.11.6)\n",
      "Requirement already satisfied: tokenizers<0.22,>=0.21 in /usr/local/lib/python3.11/dist-packages (from transformers) (0.21.2)\n",
      "Requirement already satisfied: safetensors>=0.4.3 in /usr/local/lib/python3.11/dist-packages (from transformers) (0.5.3)\n",
      "Requirement already satisfied: click in /usr/local/lib/python3.11/dist-packages (from nltk) (8.2.1)\n",
      "Requirement already satisfied: pyphen in /usr/local/lib/python3.11/dist-packages (from textstat) (0.17.2)\n",
      "Requirement already satisfied: cmudict in /usr/local/lib/python3.11/dist-packages (from textstat) (1.1.1)\n",
      "Requirement already satisfied: setuptools in /usr/local/lib/python3.11/dist-packages (from textstat) (75.2.0)\n",
      "Requirement already satisfied: smart-open>=1.8.1 in /usr/local/lib/python3.11/dist-packages (from gensim) (7.3.0.post1)\n",
      "Requirement already satisfied: aiohttp!=4.0.0a0,!=4.0.0a1 in /usr/local/lib/python3.11/dist-packages (from fsspec[http]<=2025.3.0,>=2023.1.0->datasets) (3.12.14)\n",
      "Requirement already satisfied: hf-xet<2.0.0,>=1.1.3 in /usr/local/lib/python3.11/dist-packages (from huggingface-hub>=0.24.0->datasets) (1.1.5)\n",
      "Requirement already satisfied: six>=1.5 in /usr/local/lib/python3.11/dist-packages (from python-dateutil>=2.8.2->pandas) (1.17.0)\n",
      "Requirement already satisfied: charset-normalizer<4,>=2 in /usr/local/lib/python3.11/dist-packages (from requests>=2.32.2->datasets) (3.4.2)\n",
      "Requirement already satisfied: idna<4,>=2.5 in /usr/local/lib/python3.11/dist-packages (from requests>=2.32.2->datasets) (3.10)\n",
      "Requirement already satisfied: urllib3<3,>=1.21.1 in /usr/local/lib/python3.11/dist-packages (from requests>=2.32.2->datasets) (2.5.0)\n",
      "Requirement already satisfied: certifi>=2017.4.17 in /usr/local/lib/python3.11/dist-packages (from requests>=2.32.2->datasets) (2025.7.14)\n",
      "Requirement already satisfied: wrapt in /usr/local/lib/python3.11/dist-packages (from smart-open>=1.8.1->gensim) (1.17.2)\n",
      "Requirement already satisfied: importlib-metadata>=5 in /usr/local/lib/python3.11/dist-packages (from cmudict->textstat) (8.7.0)\n",
      "Requirement already satisfied: importlib-resources>=5 in /usr/local/lib/python3.11/dist-packages (from cmudict->textstat) (6.5.2)\n",
      "Requirement already satisfied: MarkupSafe>=2.0 in /usr/local/lib/python3.11/dist-packages (from jinja2->torch) (3.0.2)\n",
      "Requirement already satisfied: aiohappyeyeballs>=2.5.0 in /usr/local/lib/python3.11/dist-packages (from aiohttp!=4.0.0a0,!=4.0.0a1->fsspec[http]<=2025.3.0,>=2023.1.0->datasets) (2.6.1)\n",
      "Requirement already satisfied: aiosignal>=1.4.0 in /usr/local/lib/python3.11/dist-packages (from aiohttp!=4.0.0a0,!=4.0.0a1->fsspec[http]<=2025.3.0,>=2023.1.0->datasets) (1.4.0)\n",
      "Requirement already satisfied: attrs>=17.3.0 in /usr/local/lib/python3.11/dist-packages (from aiohttp!=4.0.0a0,!=4.0.0a1->fsspec[http]<=2025.3.0,>=2023.1.0->datasets) (25.3.0)\n",
      "Requirement already satisfied: frozenlist>=1.1.1 in /usr/local/lib/python3.11/dist-packages (from aiohttp!=4.0.0a0,!=4.0.0a1->fsspec[http]<=2025.3.0,>=2023.1.0->datasets) (1.7.0)\n",
      "Requirement already satisfied: multidict<7.0,>=4.5 in /usr/local/lib/python3.11/dist-packages (from aiohttp!=4.0.0a0,!=4.0.0a1->fsspec[http]<=2025.3.0,>=2023.1.0->datasets) (6.6.3)\n",
      "Requirement already satisfied: propcache>=0.2.0 in /usr/local/lib/python3.11/dist-packages (from aiohttp!=4.0.0a0,!=4.0.0a1->fsspec[http]<=2025.3.0,>=2023.1.0->datasets) (0.3.2)\n",
      "Requirement already satisfied: yarl<2.0,>=1.17.0 in /usr/local/lib/python3.11/dist-packages (from aiohttp!=4.0.0a0,!=4.0.0a1->fsspec[http]<=2025.3.0,>=2023.1.0->datasets) (1.20.1)\n",
      "Requirement already satisfied: zipp>=3.20 in /usr/local/lib/python3.11/dist-packages (from importlib-metadata>=5->cmudict->textstat) (3.23.0)\n"
     ]
    }
   ],
   "source": [
    "# Instalasi library yang dibutuhkan\n",
    "!pip install datasets pandas numpy scikit-learn torch transformers Sastrawi nltk textstat gensim"
   ]
  },
  {
   "cell_type": "code",
   "execution_count": null,
   "metadata": {
    "colab": {
     "base_uri": "https://localhost:8080/"
    },
    "id": "mMObKRBLsiYb",
    "outputId": "52fc96d9-e285-4655-f716-df0c4fda9996"
   },
   "outputs": [
    {
     "name": "stdout",
     "output_type": "stream",
     "text": [
      "\n",
      "Semua dependensi telah diinstal dan diimpor.\n"
     ]
    },
    {
     "name": "stderr",
     "output_type": "stream",
     "text": [
      "[nltk_data] Downloading package punkt to /root/nltk_data...\n",
      "[nltk_data]   Package punkt is already up-to-date!\n",
      "[nltk_data] Downloading package stopwords to /root/nltk_data...\n",
      "[nltk_data]   Package stopwords is already up-to-date!\n",
      "[nltk_data] Downloading package averaged_perceptron_tagger to\n",
      "[nltk_data]     /root/nltk_data...\n",
      "[nltk_data]   Package averaged_perceptron_tagger is already up-to-\n",
      "[nltk_data]       date!\n",
      "[nltk_data] Downloading package tagsets to /root/nltk_data...\n",
      "[nltk_data]   Package tagsets is already up-to-date!\n",
      "[nltk_data] Downloading package punkt_tab to /root/nltk_data...\n",
      "[nltk_data]   Package punkt_tab is already up-to-date!\n",
      "[nltk_data] Downloading package averaged_perceptron_tagger_eng to\n",
      "[nltk_data]     /root/nltk_data...\n",
      "[nltk_data]   Package averaged_perceptron_tagger_eng is already up-to-\n",
      "[nltk_data]       date!\n",
      "[nltk_data] Downloading package universal_tagset to /root/nltk_data...\n",
      "[nltk_data]   Package universal_tagset is already up-to-date!\n"
     ]
    }
   ],
   "source": [
    "# Impor pustaka utama\n",
    "import pandas as pd\n",
    "import numpy as np\n",
    "import torch\n",
    "import re\n",
    "import os\n",
    "import math\n",
    "import requests\n",
    "from collections import Counter, defaultdict\n",
    "import matplotlib.pyplot as plt\n",
    "import seaborn as sns\n",
    "import google.generativeai as genai\n",
    "\n",
    "# Impor pustaka PyTorch\n",
    "import torch.nn as nn\n",
    "from torch.utils.data import DataLoader, Dataset as TorchDataset\n",
    "\n",
    "# Impor dari Transformers\n",
    "from transformers import AutoTokenizer, AutoModelForSequenceClassification, Trainer, TrainingArguments, pipeline\n",
    "from transformers.training_args import IntervalStrategy\n",
    "\n",
    "# Impor dari Scikit-learn\n",
    "from sklearn.model_selection import train_test_split\n",
    "from sklearn.metrics import f1_score, accuracy_score, classification_report, precision_score, recall_score\n",
    "from sklearn.preprocessing import MultiLabelBinarizer\n",
    "\n",
    "# Impor dari NLTK\n",
    "import nltk\n",
    "from nltk.corpus import stopwords\n",
    "from nltk.tokenize import word_tokenize\n",
    "nltk.download('punkt')\n",
    "nltk.download('stopwords')\n",
    "nltk.download('averaged_perceptron_tagger')\n",
    "nltk.download('tagsets')\n",
    "nltk.download('punkt_tab')\n",
    "nltk.download('averaged_perceptron_tagger_eng')\n",
    "nltk.download('universal_tagset')\n",
    "\n",
    "RANDOM_SEED = 42\n",
    "\n",
    "# Impor dari Sastrawi\n",
    "sastrawi_stemmer = None\n",
    "sastrawi_stopword_remover = None\n",
    "try:\n",
    "    from Sastrawi.Stemmer.StemmerFactory import StemmerFactory\n",
    "    from Sastrawi.StopWordRemover.StopWordRemoverFactory import StopWordRemoverFactory\n",
    "    sastrawi_stemmer = StemmerFactory().create_stemmer()\n",
    "    sastrawi_stopword_remover = StopWordRemoverFactory().create_stop_word_remover()\n",
    "except ImportError:\n",
    "    print(\"Sastrawi tidak terinstal. Tidak akan digunakan.\")\n",
    "    pass\n",
    "\n",
    "# Impor dari gensim (untuk Word Embeddings)\n",
    "from gensim.models import KeyedVectors, Word2Vec\n",
    "\n",
    "print(\"\\nSemua dependensi telah diinstal dan diimpor.\")"
   ]
  },
  {
   "cell_type": "markdown",
   "metadata": {
    "id": "KbMtyrTFD-eU"
   },
   "source": [
    "##**1.2 Akses dan Konsolidasi Dataset**"
   ]
  },
  {
   "cell_type": "code",
   "execution_count": null,
   "metadata": {
    "colab": {
     "base_uri": "https://localhost:8080/"
    },
    "id": "Po8I-hC9mCMI",
    "outputId": "1fbeebbf-c29d-448b-d577-e5b2ec71c57c"
   },
   "outputs": [
    {
     "name": "stdout",
     "output_type": "stream",
     "text": [
      "Mounted at /content/drive\n"
     ]
    }
   ],
   "source": [
    "from google.colab import drive\n",
    "drive.mount('/content/drive')"
   ]
  },
  {
   "cell_type": "code",
   "execution_count": null,
   "metadata": {
    "colab": {
     "base_uri": "https://localhost:8080/"
    },
    "id": "GOF_vlsJ_H3N",
    "outputId": "9f6d245d-a61f-4c68-823d-a5ffdfcb6827"
   },
   "outputs": [
    {
     "name": "stdout",
     "output_type": "stream",
     "text": [
      "Peringatan: Ditemukan 17 kombinasi label langka (muncul < 5 kali).\n",
      "Kombinasi ini akan dikelompokkan menjadi ['rare_combination'].\n",
      "\n",
      "Total baris setelah konsolidasi dan filtering: 3417\n",
      "Global target emotion labels (7): ['anger', 'disgust', 'fear', 'joy', 'rare_combination', 'sadness', 'surprise']\n",
      "                                                text         emotions  \\\n",
      "0  Apapun yang Anda putuskan untuk dilakukan, pas...            [joy]   \n",
      "1  bingung banget si, kaget..tapi mari kita hadap...  [joy, surprise]   \n",
      "2  Ya Allah Bioskop TransTv \"Misteri di rusun 313...           [fear]   \n",
      "3                              gak ada gunanya hidup        [sadness]   \n",
      "4  aku tidak berakhir dengan pria populer itu seb...        [sadness]   \n",
      "\n",
      "  emotions_stratify_friendly  \n",
      "0                      [joy]  \n",
      "1            [joy, surprise]  \n",
      "2                     [fear]  \n",
      "3                  [sadness]  \n",
      "4                  [sadness]  \n",
      "\n",
      "Ukuran Dataset Train: 2391\n",
      "Ukuran Dataset Validation: 513\n",
      "Ukuran Dataset Test: 513\n"
     ]
    }
   ],
   "source": [
    "df_path_anotasi = '/content/drive/MyDrive/Data_NLP/df_anotasi.parquet'\n",
    "dev_path = \"/content/drive/MyDrive/Data_NLP/dev-00000-of-00001.parquet\"\n",
    "test_path = \"/content/drive/MyDrive/Data_NLP/test-00000-of-00001.parquet\"\n",
    "\n",
    "df_anotasi = pd.read_parquet(df_path_anotasi)\n",
    "df_dev = pd.read_parquet(dev_path)\n",
    "df_test = pd.read_parquet(test_path)\n",
    "\n",
    "df_semeval = pd.concat([df_dev, df_test], ignore_index=True)\n",
    "df_semeval = df_semeval.drop('id', axis=1)\n",
    "\n",
    "df_full_dataset = pd.concat([df_anotasi, df_semeval], ignore_index=True)\n",
    "\n",
    "df_full_dataset = df_full_dataset[df_full_dataset['emotions'].notna() & (df_full_dataset['emotions'].apply(lambda x: len(x) > 0))]\n",
    "\n",
    "# --- Penanganan Kombinasi Label Langka untuk Stratifikasi ---\n",
    "df_full_dataset['emotions_tuple'] = df_full_dataset['emotions'].apply(lambda x: tuple(sorted(x)))\n",
    "combination_counts = Counter(df_full_dataset['emotions_tuple'])\n",
    "\n",
    "RARE_COMBINATION_THRESHOLD = 5\n",
    "rare_combinations = [\n",
    "    combo for combo, count in combination_counts.items()\n",
    "    if count < RARE_COMBINATION_THRESHOLD\n",
    "]\n",
    "\n",
    "if rare_combinations:\n",
    "    print(f\"Peringatan: Ditemukan {len(rare_combinations)} kombinasi label langka (muncul < {RARE_COMBINATION_THRESHOLD} kali).\")\n",
    "    print(\"Kombinasi ini akan dikelompokkan menjadi ['rare_combination'].\")\n",
    "    df_full_dataset['emotions_stratify_friendly'] = df_full_dataset['emotions_tuple'].apply(\n",
    "        lambda combo: tuple(['rare_combination']) if combo in rare_combinations else combo\n",
    "    )\n",
    "else:\n",
    "    print(\"Tidak ada kombinasi label yang langka (muncul < 5 kali).\")\n",
    "    df_full_dataset['emotions_stratify_friendly'] = df_full_dataset['emotions_tuple']\n",
    "\n",
    "# Konversi kembali ke list untuk MLB\n",
    "df_full_dataset['emotions_stratify_friendly'] = df_full_dataset['emotions_stratify_friendly'].apply(list)\n",
    "\n",
    "# Inisialisasi MultiLabelBinarizer dan fit pada label yang sudah 'stratify-friendly'\n",
    "mlb = MultiLabelBinarizer()\n",
    "mlb.fit(df_full_dataset['emotions_stratify_friendly'])\n",
    "\n",
    "global_target_emotion_labels = mlb.classes_.tolist()\n",
    "global_num_emotion_labels = len(global_target_emotion_labels)\n",
    "\n",
    "print(f\"\\nTotal baris setelah konsolidasi dan filtering: {len(df_full_dataset)}\")\n",
    "print(f\"Global target emotion labels ({global_num_emotion_labels}): {global_target_emotion_labels}\")\n",
    "print(df_full_dataset[['text', 'emotions', 'emotions_stratify_friendly']].head())\n",
    "\n",
    "# --- Lakukan Split Data Utama SEKALI di sini ---\n",
    "X_data = df_full_dataset['text']\n",
    "y_data_multihot = mlb.transform(df_full_dataset['emotions_stratify_friendly'])\n",
    "\n",
    "X_train_val, X_test, y_train_val_multihot, y_test_multihot = train_test_split(\n",
    "    X_data, y_data_multihot, test_size=0.15, random_state=42, stratify=y_data_multihot\n",
    ")\n",
    "X_train, X_validation, y_train_multihot, y_validation_multihot = train_test_split(\n",
    "    X_train_val, y_train_val_multihot, test_size=(0.15 / 0.85), random_state=42, stratify=y_train_val_multihot\n",
    ")\n",
    "\n",
    "df_train = pd.DataFrame({'text': X_train, 'emotions': mlb.inverse_transform(y_train_multihot)})\n",
    "df_validation = pd.DataFrame({'text': X_validation, 'emotions': mlb.inverse_transform(y_validation_multihot)})\n",
    "df_test = pd.DataFrame({'text': X_test, 'emotions': mlb.inverse_transform(y_test_multihot)})\n",
    "\n",
    "for i, label in enumerate(global_target_emotion_labels):\n",
    "    df_train[label] = y_train_multihot[:, i]\n",
    "    df_validation[label] = y_validation_multihot[:, i]\n",
    "    df_test[label] = y_test_multihot[:, i]\n",
    "\n",
    "df_train['final_multi_label_consolidated'] = df_train['emotions']\n",
    "df_validation['final_multi_label_consolidated'] = df_validation['emotions']\n",
    "df_test['final_multi_label_consolidated'] = df_test['emotions']\n",
    "\n",
    "print(f\"\\nUkuran Dataset Train: {len(df_train)}\")\n",
    "print(f\"Ukuran Dataset Validation: {len(df_validation)}\")\n",
    "print(f\"Ukuran Dataset Test: {len(df_test)}\")"
   ]
  },
  {
   "cell_type": "markdown",
   "metadata": {
    "id": "mRII7XjPF_cU"
   },
   "source": [
    "##**1.3 Pra-pemrosesan Data**"
   ]
  },
  {
   "cell_type": "code",
   "execution_count": null,
   "metadata": {
    "colab": {
     "base_uri": "https://localhost:8080/"
    },
    "id": "RNpf_93kfkT5",
    "outputId": "45fccdf9-d1b0-4162-dac5-5f24629cf93d"
   },
   "outputs": [
    {
     "name": "stdout",
     "output_type": "stream",
     "text": [
      "Contoh teks setelah pra-pemrosesan dasar (df_train):\n",
      "                                                   text  \\\n",
      "2651  berbahaya banget ini mah mantap, sehat sehat t...   \n",
      "3145  sampai sekarang saya masih bermain game ini de...   \n",
      "2728  apakah masi ingat keadaan waktu dulu kita sena...   \n",
      "755   Jangan mendidik anak Anda untuk menjadi #kaya,...   \n",
      "1853  Harap diperjelas Pak Ketua [USERNAME] agar mas...   \n",
      "\n",
      "                                           cleaned_text  \\\n",
      "2651  berbahaya banget ini mah mantap sehat sehat te...   \n",
      "3145  sampai sekarang saya masih bermain game ini de...   \n",
      "2728  apakah masi ingat keadaan waktu dulu kita sena...   \n",
      "755   jangan mendidik anak anda untuk menjadi didikl...   \n",
      "1853  harap diperjelas pak ketua username agar masya...   \n",
      "\n",
      "                                      preprocessed_text  \n",
      "2651  bahaya banget ini mah mantap sehat sehat terus...  \n",
      "3145  sampai sekarang saya masih main game ini denga...  \n",
      "2728  apakah mas ingat ada waktu dulu kita senang se...  \n",
      "755   jangan didik anak anda untuk jadi didik mereka...  \n",
      "1853  harap jelas pak ketua username agar masyarakat...  \n"
     ]
    }
   ],
   "source": [
    "indo_stopwords_nltk = set(stopwords.words('indonesian'))\n",
    "indo_stopwords_custom = {'yg', 'yang', 'jd', 'jadi', 'ga', 'gak', 'nya', 'sih', 'dong', 'aja', 'udah'}\n",
    "indo_stopwords = indo_stopwords_nltk.union(indo_stopwords_custom)\n",
    "\n",
    "def clean_text_basic(text):\n",
    "    text = str(text).lower()\n",
    "    text = re.sub(r'http\\S+|www\\S+|https\\S+', '', text, flags=re.MULTILINE)\n",
    "    text = re.sub(r'@\\w+', '', text)\n",
    "    text = re.sub(r'#\\w+', '', text)\n",
    "    text = re.sub(r'[^a-z0-9\\s]', '', text)\n",
    "    text = re.sub(r'\\s+', ' ', text).strip()\n",
    "    return text\n",
    "\n",
    "def preprocess_text_advanced(text, use_stemming=False, use_stopwords=False):\n",
    "    tokens = word_tokenize(text)\n",
    "    if use_stopwords:\n",
    "        tokens = [t for t in tokens if t not in indo_stopwords] if sastrawi_stopword_remover is None else [sastrawi_stopword_remover.remove(t) for t in tokens]\n",
    "        tokens = [t for t in tokens if t] # Hapus token kosong\n",
    "    if use_stemming:\n",
    "        tokens = [sastrawi_stemmer.stem(t) for t in tokens] if sastrawi_stemmer is not None else tokens\n",
    "    return \" \".join(tokens)\n",
    "\n",
    "# Terapkan pra-pemrosesan ke semua DataFrame\n",
    "df_train['cleaned_text'] = df_train['text'].apply(clean_text_basic)\n",
    "df_validation['cleaned_text'] = df_validation['text'].apply(clean_text_basic)\n",
    "df_test['cleaned_text'] = df_test['text'].apply(clean_text_basic)\n",
    "\n",
    "# Untuk eksperimen utama, gunakan pre-processing dasar (tanpa stopwords)\n",
    "df_train['preprocessed_text'] = df_train['cleaned_text'].apply(\n",
    "    lambda x: preprocess_text_advanced(x, use_stemming=True, use_stopwords=False)\n",
    ")\n",
    "df_validation['preprocessed_text'] = df_validation['cleaned_text'].apply(\n",
    "    lambda x: preprocess_text_advanced(x, use_stemming=True, use_stopwords=False)\n",
    ")\n",
    "df_test['preprocessed_text'] = df_test['cleaned_text'].apply(\n",
    "    lambda x: preprocess_text_advanced(x, use_stemming=True, use_stopwords=False)\n",
    ")\n",
    "\n",
    "print(\"Contoh teks setelah pra-pemrosesan dasar (df_train):\")\n",
    "print(df_train[['text', 'cleaned_text', 'preprocessed_text']].head())"
   ]
  },
  {
   "cell_type": "markdown",
   "metadata": {
    "id": "CzHSnrZt-zCz"
   },
   "source": [
    "#**2. Analisis Kualitas Dataset dan Manipulasi**"
   ]
  },
  {
   "cell_type": "markdown",
   "metadata": {
    "id": "TLdXLE45G53t"
   },
   "source": [
    "##**2.1 Perhitungan dan Manipulasi Metrik Kualitas Dataset**"
   ]
  },
  {
   "cell_type": "markdown",
   "metadata": {
    "id": "JI332uQay6sb"
   },
   "source": [
    "###**Definisi Fungsi Metrik Kualitas Dataset**"
   ]
  },
  {
   "cell_type": "code",
   "execution_count": null,
   "metadata": {
    "id": "Gg_EV0wMy2lN"
   },
   "outputs": [],
   "source": [
    "def calculate_gini_index(labels_list_of_lists):\n",
    "    all_labels_flat = [label for sublist in labels_list_of_lists for label in sublist if label != 'neutral']\n",
    "    if not all_labels_flat: return 0.0\n",
    "    counts = Counter(all_labels_flat)\n",
    "    total = sum(counts.values())\n",
    "    if total == 0: return 0.0\n",
    "    sum_sq = sum((c / total)**2 for c in counts.values())\n",
    "    return 1 - sum_sq\n",
    "\n",
    "def calculate_simpsons_diversity(labels_list_of_lists):\n",
    "    all_labels_flat = [label for sublist in labels_list_of_lists for label in sublist if label != 'neutral']\n",
    "    if not all_labels_flat: return 0.0\n",
    "    counts = Counter(all_labels_flat)\n",
    "    total = sum(counts.values())\n",
    "    if total <= 1: return 0.0\n",
    "    sum_pi_sq = sum((count / total)**2 for count in counts.values())\n",
    "    return 1 - sum_pi_sq\n",
    "\n",
    "def calculate_ari(text):\n",
    "    try: return textstat.automated_readability_index(str(text))\n",
    "    except: return 0.0\n",
    "\n",
    "def calculate_cli(text):\n",
    "    try: return textstat.coleman_liau_index(str(text))\n",
    "    except: return 0.0\n",
    "\n",
    "def calculate_word_count(text):\n",
    "    return len(str(text).split())\n",
    "\n",
    "def calculate_ttr(text):\n",
    "    tokens = str(text).split()\n",
    "    if not tokens: return 0.0\n",
    "    return len(set(tokens)) / len(tokens)\n",
    "\n",
    "def calculate_herdans_c(text):\n",
    "    tokens = str(text).split()\n",
    "    if len(tokens) <= 1: return 0.0\n",
    "    unique_tokens = set(tokens)\n",
    "    if len(unique_tokens) == 0: return 0.0\n",
    "    return math.log(len(unique_tokens)) / math.log(len(tokens))\n",
    "\n",
    "def calculate_entropy(text):\n",
    "    tokens = str(text).split()\n",
    "    if not tokens: return 0.0\n",
    "    token_counts = Counter(tokens)\n",
    "    total_tokens = sum(token_counts.values())\n",
    "    entropy_val = 0.0\n",
    "    for count in token_counts.values():\n",
    "        probability = count / total_tokens\n",
    "        entropy_val -= probability * math.log2(probability)\n",
    "    return entropy_val\n",
    "\n",
    "def count_pos_tags(text):\n",
    "    tokens = word_tokenize(str(text))\n",
    "    tokens = [token for token in tokens if token.strip()]\n",
    "    if not tokens: return {'NOUN': 0, 'VERB': 0, 'ADJ': 0, 'OTHER': 0, 'NON_CLASSIFIED': 0}\n",
    "    tagged_tokens = nltk.pos_tag(tokens, tagset='universal')\n",
    "    counts = Counter(tag for _, tag in tagged_tokens)\n",
    "    return {\n",
    "        'NOUN': counts.get('NOUN', 0), 'VERB': counts.get('VERB', 0), 'ADJ': counts.get('ADJ', 0),\n",
    "        'OTHER': sum(counts.get(tag, 0) for tag in ['ADV','ADP','CONJ','DET','NUM','PRON','PRT','X','.']),\n",
    "        'NON_CLASSIFIED': sum(counts.get(tag, 0) for tag in counts if tag not in ['NOUN', 'VERB', 'ADJ', 'ADV','ADP','CONJ','DET','NUM','PRON','PRT','X','.'])\n",
    "    }"
   ]
  },
  {
   "cell_type": "markdown",
   "metadata": {
    "id": "anQHilbgzUdx"
   },
   "source": [
    "###**Penerapan Fungsi Metrik**"
   ]
  },
  {
   "cell_type": "code",
   "execution_count": null,
   "metadata": {
    "colab": {
     "base_uri": "https://localhost:8080/"
    },
    "id": "QRlFi8w0tNPd",
    "outputId": "003d1b94-9feb-4b85-af24-0e6c7f5a9975"
   },
   "outputs": [
    {
     "name": "stdout",
     "output_type": "stream",
     "text": [
      "\n",
      "DataFrame Train dengan Metrik Kualitas (5 baris pertama):\n",
      "                                                   text  \\\n",
      "2651  berbahaya banget ini mah mantap, sehat sehat t...   \n",
      "3145  sampai sekarang saya masih bermain game ini de...   \n",
      "2728  apakah masi ingat keadaan waktu dulu kita sena...   \n",
      "755   Jangan mendidik anak Anda untuk menjadi #kaya,...   \n",
      "1853  Harap diperjelas Pak Ketua [USERNAME] agar mas...   \n",
      "\n",
      "     final_multi_label_consolidated  gini_index  simpsons_diversity_index  \\\n",
      "2651                         (joy,)    0.802583                  0.802583   \n",
      "3145                (joy, surprise)    0.802583                  0.802583   \n",
      "2728                     (sadness,)    0.802583                  0.802583   \n",
      "755                          (joy,)    0.802583                  0.802583   \n",
      "1853                  (anger, fear)    0.802583                  0.802583   \n",
      "\n",
      "      dataset_size  word_count  ari_score  cli_score  ttr_score  \\\n",
      "2651          2391          10        0.0        0.0   0.900000   \n",
      "3145          2391          17        0.0        0.0   0.882353   \n",
      "2728          2391          22        0.0        0.0   0.818182   \n",
      "755           2391          23        0.0        0.0   0.739130   \n",
      "1853          2391          20        0.0        0.0   0.850000   \n",
      "\n",
      "      herdans_c_score  entropy_score  pos_nouns  pos_verbs  pos_adjectives  \\\n",
      "2651         0.954243       3.121928          8          1               0   \n",
      "3145         0.955823       3.852169         11          2               4   \n",
      "2728         0.935080       4.095795         20          1               1   \n",
      "755          0.903594       3.936180         18          1               4   \n",
      "1853         0.945750       4.021928         14          3               3   \n",
      "\n",
      "      pos_others  pos_non_classified  \n",
      "2651           1                   0  \n",
      "3145           0                   0  \n",
      "2728           0                   0  \n",
      "755            0                   0  \n",
      "1853           0                   0  \n",
      "\n",
      "Ringkasan Metrik Kualitas Dataset Pelatihan:\n",
      "- Gini Index (ketidakseimbangan): 0.8026\n",
      "- Simpson's Diversity Index (keragaman): 0.8026\n",
      "- Ukuran Dataset Pelatihan: 2391 baris.\n",
      "- Rata-rata Word Count: 18.98\n",
      "- Rata-rata ARI Score: 0.00\n"
     ]
    }
   ],
   "source": [
    "df_train['gini_index'] = calculate_gini_index(df_train['final_multi_label_consolidated'].tolist())\n",
    "df_train['simpsons_diversity_index'] = calculate_simpsons_diversity(df_train['final_multi_label_consolidated'].tolist())\n",
    "df_train['dataset_size'] = len(df_train)\n",
    "\n",
    "df_train['ari_score'] = df_train['preprocessed_text'].apply(calculate_ari)\n",
    "df_train['cli_score'] = df_train['preprocessed_text'].apply(calculate_cli)\n",
    "df_train['word_count'] = df_train['preprocessed_text'].apply(calculate_word_count)\n",
    "\n",
    "df_train['ttr_score'] = df_train['preprocessed_text'].apply(calculate_ttr)\n",
    "df_train['herdans_c_score'] = df_train['preprocessed_text'].apply(calculate_herdans_c)\n",
    "df_train['entropy_score'] = df_train['preprocessed_text'].apply(calculate_entropy)\n",
    "\n",
    "pos_tag_results_train = df_train['preprocessed_text'].apply(count_pos_tags)\n",
    "df_train['pos_nouns'] = pos_tag_results_train.apply(lambda x: x['NOUN'])\n",
    "df_train['pos_verbs'] = pos_tag_results_train.apply(lambda x: x['VERB'])\n",
    "df_train['pos_adjectives'] = pos_tag_results_train.apply(lambda x: x['ADJ'])\n",
    "df_train['pos_others'] = pos_tag_results_train.apply(lambda x: x['OTHER'])\n",
    "df_train['pos_non_classified'] = pos_tag_results_train.apply(lambda x: x['NON_CLASSIFIED'])\n",
    "\n",
    "\n",
    "print(\"\\nDataFrame Train dengan Metrik Kualitas (5 baris pertama):\")\n",
    "print(df_train[['text', 'final_multi_label_consolidated',\n",
    "                'gini_index', 'simpsons_diversity_index', 'dataset_size', 'word_count',\n",
    "                'ari_score', 'cli_score', 'ttr_score', 'herdans_c_score', 'entropy_score',\n",
    "                'pos_nouns', 'pos_verbs', 'pos_adjectives', 'pos_others', 'pos_non_classified']].head())\n",
    "\n",
    "print(f\"\\nRingkasan Metrik Kualitas Dataset Pelatihan:\")\n",
    "print(f\"- Gini Index (ketidakseimbangan): {df_train['gini_index'].iloc[0]:.4f}\")\n",
    "print(f\"- Simpson's Diversity Index (keragaman): {df_train['simpsons_diversity_index'].iloc[0]:.4f}\")\n",
    "print(f\"- Ukuran Dataset Pelatihan: {len(df_train)} baris.\")\n",
    "print(f\"- Rata-rata Word Count: {df_train['word_count'].mean():.2f}\")\n",
    "print(f\"- Rata-rata ARI Score: {df_train['ari_score'].mean():.2f}\")"
   ]
  },
  {
   "cell_type": "markdown",
   "metadata": {
    "id": "y9-nptHLzlpP"
   },
   "source": [
    "###**Manipulasi Dataset Berdasarkan Metrik Kualitas**"
   ]
  },
  {
   "cell_type": "code",
   "execution_count": null,
   "metadata": {
    "colab": {
     "base_uri": "https://localhost:8080/"
    },
    "id": "HtEEvc_bzmq4",
    "outputId": "8db7035c-37b3-4c32-a1bd-2815d79fea2a"
   },
   "outputs": [
    {
     "name": "stdout",
     "output_type": "stream",
     "text": [
      "Dataset Low Word Count (WC <= 11.00 kata): 856 baris.\n",
      "Dataset Medium Word Count (11.00 < WC <= 23.00 kata): 748 baris.\n",
      "Dataset High Word Count (WC > 23.00 kata): 787 baris.\n"
     ]
    }
   ],
   "source": [
    "# Ini adalah contoh bagaimana Anda dapat membuat subset dataset berdasarkan satu metrik.\n",
    "\n",
    "wc_q1, wc_q2 = df_train['word_count'].quantile([0.33, 0.67])\n",
    "\n",
    "df_low_word_count = df_train[df_train['word_count'] <= wc_q1].copy()\n",
    "df_medium_word_count = df_train[\n",
    "    (df_train['word_count'] > wc_q1) &\n",
    "    (df_train['word_count'] <= wc_q2)\n",
    "].copy()\n",
    "df_high_word_count = df_train[df_train['word_count'] > wc_q2].copy()\n",
    "\n",
    "print(f\"Dataset Low Word Count (WC <= {wc_q1:.2f} kata): {len(df_low_word_count)} baris.\")\n",
    "print(f\"Dataset Medium Word Count ({wc_q1:.2f} < WC <= {wc_q2:.2f} kata): {len(df_medium_word_count)} baris.\")\n",
    "print(f\"Dataset High Word Count (WC > {wc_q2:.2f} kata): {len(df_high_word_count)} baris.\")\n",
    "\n",
    "# Dataset ini (df_train, df_low_word_count, df_medium_word_count, df_high_word_count, dst)\n",
    "# akan digunakan sebagai input untuk pelatihan model di bagian selanjutnya."
   ]
  },
  {
   "cell_type": "markdown",
   "metadata": {
    "id": "RNZxZnG2-zMs"
   },
   "source": [
    "#**3. Pengembangan dan Pelatihan Model**"
   ]
  },
  {
   "cell_type": "markdown",
   "metadata": {
    "id": "TOlvFKlBHHmY"
   },
   "source": [
    "##**3.1 BiLSTM**"
   ]
  },
  {
   "cell_type": "markdown",
   "metadata": {
    "id": "wsE9tGRSh8wi"
   },
   "source": [
    "###**3.1.1 Word Embeddings**"
   ]
  },
  {
   "cell_type": "code",
   "execution_count": null,
   "metadata": {
    "colab": {
     "base_uri": "https://localhost:8080/"
    },
    "id": "YV7RNC3p25b-",
    "outputId": "930414f5-88f6-4a81-e564-7607fba6e6f2"
   },
   "outputs": [
    {
     "name": "stdout",
     "output_type": "stream",
     "text": [
      "Mengunduh model FastText Bahasa Indonesia dari https://dl.fbaipublicfiles.com/fasttext/vectors-crawl/cc.id.300.vec.gz...\n",
      "Unduhan selesai.\n",
      "Menguraikan ./pretrained_embeddings/cc.id.300.vec.gz menjadi ./pretrained_embeddings/cc.id.300.vec...\n",
      "Unzip selesai.\n",
      "\n",
      "Model Word Embeddings berhasil dimuat dari: ./pretrained_embeddings/cc.id.300.vec\n",
      "Ukuran vektor: 300\n",
      "Jumlah kata dalam kosakata: 2000000\n",
      "\n",
      "Embedding matrix siap untuk BiLSTM dengan ukuran: (8008, 300)\n",
      "Ukuran kosakata unik dari dataset (BiLSTM): 8008\n",
      "Jumlah kata yang tidak ditemukan di pre-trained embeddings (selain OOV): 1146\n"
     ]
    }
   ],
   "source": [
    "embeddings_dir = './pretrained_embeddings'\n",
    "os.makedirs(embeddings_dir, exist_ok=True)\n",
    "\n",
    "# URL dan Jalur File untuk model FastText Bahasa Indonesia (cc.id.300.vec.gz)\n",
    "FASTTEXT_MODEL_URL = \"https://dl.fbaipublicfiles.com/fasttext/vectors-crawl/cc.id.300.vec.gz\"\n",
    "FASTTEXT_MODEL_PATH_GZ = os.path.join(embeddings_dir, \"cc.id.300.vec.gz\")\n",
    "FASTTEXT_MODEL_PATH_VEC = FASTTEXT_MODEL_PATH_GZ.replace(\".gz\", \"\")\n",
    "\n",
    "# Unduh model FastText jika belum ada\n",
    "if not os.path.exists(FASTTEXT_MODEL_PATH_GZ) and not os.path.exists(FASTTEXT_MODEL_PATH_VEC):\n",
    "    print(f\"Mengunduh model FastText Bahasa Indonesia dari {FASTTEXT_MODEL_URL}...\")\n",
    "    r = requests.get(FASTTEXT_MODEL_URL, stream=True)\n",
    "    with open(FASTTEXT_MODEL_PATH_GZ, \"wb\") as f:\n",
    "        for chunk in r.iter_content(chunk_size=8192):\n",
    "            f.write(chunk)\n",
    "    print(\"Unduhan selesai.\")\n",
    "elif os.path.exists(FASTTEXT_MODEL_PATH_VEC):\n",
    "    print(f\"File FastText .vec sudah ada di {FASTTEXT_MODEL_PATH_VEC}.\")\n",
    "else:\n",
    "    print(f\"File FastText .gz sudah ada di {FASTTEXT_MODEL_PATH_GZ}.\")\n",
    "\n",
    "# Unzip model jika perlu (dari .gz ke .vec)\n",
    "if os.path.exists(FASTTEXT_MODEL_PATH_GZ) and not os.path.exists(FASTTEXT_MODEL_PATH_VEC):\n",
    "    import gzip\n",
    "    print(f\"Menguraikan {FASTTEXT_MODEL_PATH_GZ} menjadi {FASTTEXT_MODEL_PATH_VEC}...\")\n",
    "    with gzip.open(FASTTEXT_MODEL_PATH_GZ, 'rb') as f_in:\n",
    "        with open(FASTTEXT_MODEL_PATH_VEC, 'wb') as f_out:\n",
    "            f_out.write(f_in.read())\n",
    "    print(\"Unzip selesai.\")\n",
    "\n",
    "# Jalur model yang akan dimuat (pastikan ini adalah file .vec)\n",
    "model_to_load_path = FASTTEXT_MODEL_PATH_VEC\n",
    "\n",
    "# Pemuatan model Word Embeddings\n",
    "try:\n",
    "    if os.path.exists(model_to_load_path):\n",
    "        word_vectors_bilstm = KeyedVectors.load_word2vec_format(model_to_load_path, binary=False)\n",
    "        print(f\"\\nModel Word Embeddings berhasil dimuat dari: {model_to_load_path}\")\n",
    "        print(f\"Ukuran vektor: {word_vectors_bilstm.vector_size}\")\n",
    "        print(f\"Jumlah kata dalam kosakata: {len(word_vectors_bilstm.key_to_index)}\")\n",
    "    else:\n",
    "        raise FileNotFoundError(f\"Model FastText tidak ditemukan di {model_to_load_path}. Membuat dummy.\")\n",
    "\n",
    "    # --- Membuat Vocab dan Embedding Matrix dari Dataset Pelatihan ---\n",
    "    # Gunakan preprocessed_text dari df_train untuk membangun kosakata\n",
    "    all_words_bilstm = [word for text in df_train['preprocessed_text'] if isinstance(text, str) for word in text.split()]\n",
    "    vocab_bilstm = sorted(list(set(all_words_bilstm)))\n",
    "\n",
    "    # Tambahkan token khusus jika belum ada di vocab\n",
    "    # <pad> untuk padding, <OOV> (Out-Of-Vocabulary) untuk kata tidak dikenal\n",
    "    if \"<OOV>\" not in vocab_bilstm: vocab_bilstm.append(\"<OOV>\")\n",
    "    if \"<pad>\" not in vocab_bilstm: vocab_bilstm.append(\"<pad>\")\n",
    "\n",
    "    word_to_idx_bilstm = {word: i for i, word in enumerate(vocab_bilstm)}\n",
    "\n",
    "    embedding_dim_bilstm = word_vectors_bilstm.vector_size\n",
    "    embedding_matrix_bilstm = np.zeros((len(vocab_bilstm), embedding_dim_bilstm))\n",
    "\n",
    "    missing_words_bilstm = 0\n",
    "    for word, i in word_to_idx_bilstm.items():\n",
    "        if word in word_vectors_bilstm:\n",
    "            embedding_matrix_bilstm[i] = word_vectors_bilstm[word]\n",
    "        elif word == \"<pad>\":\n",
    "            embedding_matrix_bilstm[i] = np.zeros(embedding_dim_bilstm) # Pad token adalah vektor nol\n",
    "        elif word == \"<OOV>\":\n",
    "            embedding_matrix_bilstm[i] = np.random.uniform(-0.25, 0.25, embedding_dim_bilstm) # OOV random\n",
    "        else:\n",
    "            embedding_matrix_bilstm[i] = np.random.uniform(-0.25, 0.25, embedding_dim_bilstm) # Untuk OOV lainnya\n",
    "            missing_words_bilstm += 1\n",
    "\n",
    "    print(f\"\\nEmbedding matrix siap untuk BiLSTM dengan ukuran: {embedding_matrix_bilstm.shape}\")\n",
    "    print(f\"Ukuran kosakata unik dari dataset (BiLSTM): {len(vocab_bilstm)}\")\n",
    "    print(f\"Jumlah kata yang tidak ditemukan di pre-trained embeddings (selain OOV): {missing_words_bilstm}\")\n",
    "\n",
    "except FileNotFoundError:\n",
    "    print(f\"File model FastText tidak ditemukan di {model_to_load_path}. Membangun dummy embeddings.\")\n",
    "    # Fallback ke dummy matrix jika ada error dalam pemuatan\n",
    "    embedding_dim_bilstm = 100\n",
    "    vocab_bilstm = [\"<pad>\", \"<OOV>\", \"dummy\", \"kata\"]\n",
    "    word_to_idx_bilstm = {word: i for i, word in enumerate(vocab_bilstm)}\n",
    "    embedding_matrix_bilstm = np.random.rand(len(vocab_bilstm), embedding_dim_bilstm)\n",
    "    print(\"Menggunakan dummy embedding matrix.\")\n",
    "except Exception as e:\n",
    "    print(f\"Terjadi kesalahan lain saat memuat/menyiapkan Word Embeddings: {e}\")\n",
    "    print(\"Membuat dummy embeddings untuk melanjutkan.\")\n",
    "    embedding_dim_bilstm = 100\n",
    "    vocab_bilstm = [\"<pad>\", \"<OOV>\", \"dummy\", \"kata\"]\n",
    "    word_to_idx_bilstm = {word: i for i, word in enumerate(vocab_bilstm)}\n",
    "    embedding_matrix_bilstm = np.random.rand(len(vocab_bilstm), embedding_dim_bilstm)\n",
    "    print(\"Menggunakan dummy embedding matrix.\")"
   ]
  },
  {
   "cell_type": "markdown",
   "metadata": {
    "id": "qLAGogz3h84c"
   },
   "source": [
    "###**3.1.2 Model BiLSTM**"
   ]
  },
  {
   "cell_type": "code",
   "execution_count": null,
   "metadata": {
    "id": "gnv-NlTwINgS"
   },
   "outputs": [],
   "source": [
    "# Tambahkan kelas ini di awal notebook Anda, atau sebelum section 3.1.2\n",
    "\n",
    "class EarlyStopper:\n",
    "    \"\"\"\n",
    "    Mengimplementasikan Early Stopping untuk pelatihan PyTorch.\n",
    "    Akan menghentikan pelatihan jika metrik validasi tidak meningkat\n",
    "    selama jumlah epoch tertentu (patience).\n",
    "    \"\"\"\n",
    "    def __init__(self, patience=5, min_delta=0, mode='min', checkpoint_path='checkpoint.pt'):\n",
    "        self.patience = patience\n",
    "        self.min_delta = min_delta\n",
    "        self.counter = 0\n",
    "        self.mode = mode\n",
    "        self.best_metric = None\n",
    "        self.early_stop = False\n",
    "        self.checkpoint_path = checkpoint_path\n",
    "\n",
    "        if mode == 'min':\n",
    "            self.best_metric = float('inf')\n",
    "        else: # mode == 'max'\n",
    "            self.best_metric = float('-inf')\n",
    "\n",
    "    def __call__(self, current_metric, model, optimizer):\n",
    "        if self.mode == 'min':\n",
    "            if current_metric < self.best_metric - self.min_delta:\n",
    "                self.best_metric = current_metric\n",
    "                self.save_checkpoint(model, optimizer)\n",
    "                self.counter = 0\n",
    "            else:\n",
    "                self.counter += 1\n",
    "                if self.counter >= self.patience:\n",
    "                    self.early_stop = True\n",
    "        else: # mode == 'max'\n",
    "            if current_metric > self.best_metric + self.min_delta:\n",
    "                self.best_metric = current_metric\n",
    "                self.save_checkpoint(model, optimizer)\n",
    "                self.counter = 0\n",
    "            else:\n",
    "                self.counter += 1\n",
    "                if self.counter >= self.patience:\n",
    "                    self.early_stop = True\n",
    "        return self.early_stop\n",
    "\n",
    "    def save_checkpoint(self, model, optimizer):\n",
    "        \"\"\"Menyimpan model terbaik.\"\"\"\n",
    "        torch.save({\n",
    "            'model_state_dict': model.state_dict(),\n",
    "            'optimizer_state_dict': optimizer.state_dict(),\n",
    "            'best_metric': self.best_metric,\n",
    "        }, self.checkpoint_path)\n",
    "\n",
    "    def load_checkpoint(self, model, optimizer):\n",
    "        \"\"\"Memuat model terbaik dari checkpoint.\"\"\"\n",
    "        if os.path.exists(self.checkpoint_path):\n",
    "            checkpoint = torch.load(self.checkpoint_path)\n",
    "            model.load_state_dict(checkpoint['model_state_dict'])\n",
    "            optimizer.load_state_dict(checkpoint['optimizer_state_dict'])\n",
    "            self.best_metric = checkpoint['best_metric']\n",
    "            print(f\"Model terbaik dimuat dari {self.checkpoint_path} (Metrik terbaik: {self.best_metric:.4f})\")\n",
    "        else:\n",
    "            print(f\"Checkpoint tidak ditemukan di {self.checkpoint_path}.\")"
   ]
  },
  {
   "cell_type": "code",
   "execution_count": null,
   "metadata": {
    "colab": {
     "base_uri": "https://localhost:8080/"
    },
    "id": "c0ViDwhgR6xT",
    "outputId": "64afd0c9-0f5a-4825-e7b9-a70a060f807b"
   },
   "outputs": [
    {
     "name": "stdout",
     "output_type": "stream",
     "text": [
      "\n",
      "Ukuran Training Dataset BiLSTM: 2391\n",
      "Ukuran Validation Dataset BiLSTM: 513\n",
      "Ukuran Test Dataset BiLSTM: 513\n",
      "\n",
      "Memulai pelatihan model BiLSTM...\n"
     ]
    },
    {
     "name": "stderr",
     "output_type": "stream",
     "text": [
      "/tmp/ipython-input-473000567.py:153: UserWarning: Creating a tensor from a list of numpy.ndarrays is extremely slow. Please consider converting the list to a single numpy.ndarray with numpy.array() before converting to a tensor. (Triggered internally at /pytorch/torch/csrc/utils/tensor_new.cpp:254.)\n",
      "  val_predictions_prob_bilstm = torch.sigmoid(torch.tensor(val_predictions_logits_bilstm)).numpy()\n"
     ]
    },
    {
     "name": "stdout",
     "output_type": "stream",
     "text": [
      "Epoch 1/10 - Train Loss: 0.4837 - Val Loss: 0.4608 - Val Macro F1: 0.0000 - Val Accuracy: 0.0000\n",
      "Epoch 2/10 - Train Loss: 0.4318 - Val Loss: 0.4135 - Val Macro F1: 0.2158 - Val Accuracy: 0.2690\n",
      "Epoch 3/10 - Train Loss: 0.3406 - Val Loss: 0.4135 - Val Macro F1: 0.2766 - Val Accuracy: 0.2943\n",
      "Epoch 4/10 - Train Loss: 0.2782 - Val Loss: 0.4469 - Val Macro F1: 0.3495 - Val Accuracy: 0.3158\n",
      "Epoch 5/10 - Train Loss: 0.2423 - Val Loss: 0.5164 - Val Macro F1: 0.3264 - Val Accuracy: 0.3177\n",
      "Epoch 6/10 - Train Loss: 0.2042 - Val Loss: 0.5133 - Val Macro F1: 0.4018 - Val Accuracy: 0.2807\n",
      "Epoch 7/10 - Train Loss: 0.1831 - Val Loss: 0.5511 - Val Macro F1: 0.4005 - Val Accuracy: 0.3041\n",
      "Epoch 8/10 - Train Loss: 0.1617 - Val Loss: 0.5991 - Val Macro F1: 0.4043 - Val Accuracy: 0.3216\n",
      "Epoch 9/10 - Train Loss: 0.1338 - Val Loss: 0.6250 - Val Macro F1: 0.3792 - Val Accuracy: 0.2904\n",
      "Epoch 10/10 - Train Loss: 0.1192 - Val Loss: 0.6339 - Val Macro F1: 0.4032 - Val Accuracy: 0.2943\n",
      "\n",
      "Pelatihan model BiLSTM selesai.\n",
      "Model terbaik dimuat dari ./best_bilstm_model.pt (Metrik terbaik: 0.4043)\n",
      "Model BiLSTM terbaik berhasil dimuat untuk evaluasi.\n"
     ]
    },
    {
     "data": {
      "text/plain": [
       "BiLSTM_EmotionClassifier(\n",
       "  (embedding): Embedding(8008, 300)\n",
       "  (lstm): LSTM(300, 256, num_layers=2, batch_first=True, dropout=0.5, bidirectional=True)\n",
       "  (dropout): Dropout(p=0.5, inplace=False)\n",
       "  (fc): Linear(in_features=512, out_features=7, bias=True)\n",
       ")"
      ]
     },
     "execution_count": 13,
     "metadata": {},
     "output_type": "execute_result"
    }
   ],
   "source": [
    "# 3.1.2 Model BiLSTM\n",
    "\n",
    "# --- 1. Definisi Arsitektur Model BiLSTM (PyTorch) ---\n",
    "class BiLSTM_EmotionClassifier(nn.Module):\n",
    "    def __init__(self, vocab_size, embedding_dim, hidden_dim, output_dim, num_layers, dropout_rate, embeddings_matrix):\n",
    "        super(BiLSTM_EmotionClassifier, self).__init__()\n",
    "\n",
    "        self.embedding = nn.Embedding(vocab_size, embedding_dim)\n",
    "        self.embedding.weight = nn.Parameter(torch.tensor(embeddings_matrix, dtype=torch.float32))\n",
    "        self.embedding.weight.requires_grad = True # Izinkan embedding untuk di-fine-tune\n",
    "\n",
    "        self.lstm = nn.LSTM(embedding_dim, hidden_dim, num_layers=num_layers,\n",
    "                            bidirectional=True, batch_first=True, dropout=dropout_rate if num_layers > 1 else 0)\n",
    "\n",
    "        self.dropout = nn.Dropout(dropout_rate)\n",
    "        self.fc = nn.Linear(hidden_dim * 2, output_dim)\n",
    "        # Tidak ada Sigmoid di sini, karena BCEWithLogitsLoss akan menanganinya\n",
    "\n",
    "    def forward(self, text_indices):\n",
    "        embedded = self.embedding(text_indices)\n",
    "        lstm_out, (hidden, cell) = self.lstm(embedded)\n",
    "\n",
    "        # Ambil hidden state terakhir dari kedua arah (forward dan backward)\n",
    "        hidden_last = torch.cat((hidden[-2,:,:], hidden[-1,:,:]), dim=1)\n",
    "\n",
    "        dropped = self.dropout(hidden_last)\n",
    "        output = self.fc(dropped)\n",
    "        return output # Mengembalikan raw logits\n",
    "\n",
    "\n",
    "# --- 2. Definisi Kelas Dataset untuk BiLSTM (TorchDataset) ---\n",
    "class BiLSTM_TextDataset(TorchDataset):\n",
    "    def __init__(self, texts, labels_multihot, word_to_idx, max_len):\n",
    "        self.texts = texts\n",
    "        self.labels_multihot = labels_multihot # Sudah dalam format multi-hot binary\n",
    "        self.word_to_idx = word_to_idx\n",
    "        self.max_len = max_len\n",
    "\n",
    "    def __len__(self):\n",
    "        return len(self.texts)\n",
    "\n",
    "    def __getitem__(self, idx):\n",
    "        text = self.texts[idx]\n",
    "\n",
    "        # Konversi teks ke sequence of indices\n",
    "        indices = [self.word_to_idx.get(word, self.word_to_idx.get('<OOV>', 0)) for word in text.split()]\n",
    "\n",
    "        # Padding/Truncation\n",
    "        if len(indices) > self.max_len:\n",
    "            indices = indices[:self.max_len]\n",
    "        else:\n",
    "            indices = indices + [self.word_to_idx.get('<pad>', 0)] * (self.max_len - len(indices))\n",
    "\n",
    "        return {\n",
    "            'text_indices': torch.tensor(indices, dtype=torch.long),\n",
    "            'labels': torch.tensor(self.labels_multihot[idx], dtype=torch.float32)\n",
    "        }\n",
    "\n",
    "\n",
    "# --- 3. Persiapan Dataset untuk Pelatihan BiLSTM ---\n",
    "# Asumsi df_train, df_validation, df_test sudah ada dari section 1.2\n",
    "# Asumsi global_target_emotion_labels, word_to_idx_bilstm, embedding_matrix_bilstm sudah didefinisikan dari 3.1.1\n",
    "\n",
    "# Tentukan panjang sekuens maksimum untuk BiLSTM dari data pelatihan\n",
    "texts_bilstm_train_raw = df_train['preprocessed_text'].tolist()\n",
    "# Filter non-string dan pastikan list tidak kosong untuk percentile\n",
    "lengths_bilstm_train = [len(text.split()) for text in texts_bilstm_train_raw if isinstance(text, str) and text.strip()]\n",
    "MAX_SEQUENCE_LENGTH_BILSTM = int(np.percentile(lengths_bilstm_train, 95)) if lengths_bilstm_train else 1\n",
    "if MAX_SEQUENCE_LENGTH_BILSTM == 0: MAX_SEQUENCE_LENGTH_BILSTM = 1\n",
    "\n",
    "\n",
    "# Konversi label ke format multi-hot untuk BiLSTM (jika belum)\n",
    "# Pastikan y_train_multihot, y_validation_multihot, y_test_multihot sudah didefinisikan dari section 1.2\n",
    "y_train_multihot_bilstm = y_train_multihot\n",
    "y_val_multihot_bilstm = y_validation_multihot\n",
    "y_test_multihot_bilstm = y_test_multihot\n",
    "\n",
    "\n",
    "train_dataset_bilstm = BiLSTM_TextDataset(df_train['preprocessed_text'].tolist(), y_train_multihot_bilstm, word_to_idx_bilstm, MAX_SEQUENCE_LENGTH_BILSTM)\n",
    "val_dataset_bilstm = BiLSTM_TextDataset(df_validation['preprocessed_text'].tolist(), y_val_multihot_bilstm, word_to_idx_bilstm, MAX_SEQUENCE_LENGTH_BILSTM)\n",
    "test_dataset_bilstm = BiLSTM_TextDataset(df_test['preprocessed_text'].tolist(), y_test_multihot_bilstm, word_to_idx_bilstm, MAX_SEQUENCE_LENGTH_BILSTM)\n",
    "\n",
    "print(f\"\\nUkuran Training Dataset BiLSTM: {len(train_dataset_bilstm)}\")\n",
    "print(f\"Ukuran Validation Dataset BiLSTM: {len(val_dataset_bilstm)}\")\n",
    "print(f\"Ukuran Test Dataset BiLSTM: {len(test_dataset_bilstm)}\")\n",
    "\n",
    "# --- 4. Konfigurasi dan Pelatihan Model BiLSTM ---\n",
    "# Hyperparameters BiLSTM\n",
    "VOCAB_SIZE_BILSTM = len(word_to_idx_bilstm)\n",
    "EMBEDDING_DIM_BILSTM = embedding_matrix_bilstm.shape[1]\n",
    "HIDDEN_DIM_BILSTM = 256\n",
    "OUTPUT_DIM_BILSTM = global_num_emotion_labels\n",
    "NUM_LAYERS_BILSTM = 2\n",
    "DROPOUT_RATE_BILSTM = 0.5\n",
    "BATCH_SIZE_BILSTM = 32\n",
    "LEARNING_RATE_BILSTM = 0.001\n",
    "NUM_EPOCHS_BILSTM = 10\n",
    "\n",
    "model_bilstm = BiLSTM_EmotionClassifier(\n",
    "    VOCAB_SIZE_BILSTM, EMBEDDING_DIM_BILSTM, HIDDEN_DIM_BILSTM, OUTPUT_DIM_BILSTM,\n",
    "    NUM_LAYERS_BILSTM, DROPOUT_RATE_BILSTM, embedding_matrix_bilstm\n",
    ")\n",
    "\n",
    "device = torch.device('cuda' if torch.cuda.is_available() else 'cpu')\n",
    "model_bilstm.to(device)\n",
    "\n",
    "criterion_bilstm = nn.BCEWithLogitsLoss()\n",
    "optimizer_bilstm = torch.optim.Adam(model_bilstm.parameters(), lr=LEARNING_RATE_BILSTM)\n",
    "\n",
    "train_loader_bilstm = DataLoader(train_dataset_bilstm, batch_size=BATCH_SIZE_BILSTM, shuffle=True)\n",
    "val_loader_bilstm = DataLoader(val_dataset_bilstm, batch_size=BATCH_SIZE_BILSTM, shuffle=False)\n",
    "test_loader_bilstm = DataLoader(test_dataset_bilstm, batch_size=BATCH_SIZE_BILSTM, shuffle=False)\n",
    "\n",
    "print(\"\\nMemulai pelatihan model BiLSTM...\")\n",
    "# EarlyStopper (pastikan kelas EarlyStopper didefinisikan di awal notebook)\n",
    "early_stopper_bilstm = EarlyStopper(patience=5, mode='max', checkpoint_path='./best_bilstm_model.pt') # Pantau val_macro_f1 (mode='max')\n",
    "\n",
    "history_bilstm = {'train_loss': [], 'val_loss': [], 'val_macro_f1': [], 'val_accuracy': []}\n",
    "\n",
    "for epoch in range(NUM_EPOCHS_BILSTM):\n",
    "    model_bilstm.train()\n",
    "    total_loss_bilstm = 0\n",
    "    for batch in train_loader_bilstm:\n",
    "        text_indices = batch['text_indices'].to(device)\n",
    "        labels = batch['labels'].to(device)\n",
    "\n",
    "        optimizer_bilstm.zero_grad()\n",
    "        predictions_logits = model_bilstm(text_indices)\n",
    "\n",
    "        loss = criterion_bilstm(predictions_logits, labels)\n",
    "        loss.backward()\n",
    "        optimizer_bilstm.step()\n",
    "\n",
    "        total_loss_bilstm += loss.item()\n",
    "\n",
    "    avg_train_loss_bilstm = total_loss_bilstm / len(train_loader_bilstm)\n",
    "    history_bilstm['train_loss'].append(avg_train_loss_bilstm)\n",
    "\n",
    "    # Evaluasi pada Validation Set\n",
    "    model_bilstm.eval()\n",
    "    val_predictions_logits_bilstm = []\n",
    "    val_true_labels_bilstm = []\n",
    "    with torch.no_grad():\n",
    "        for batch in val_loader_bilstm:\n",
    "            text_indices = batch['text_indices'].to(device)\n",
    "            labels = batch['labels'].to(device)\n",
    "\n",
    "            predictions_logits = model_bilstm(text_indices)\n",
    "\n",
    "            val_predictions_logits_bilstm.extend(predictions_logits.cpu().numpy())\n",
    "            val_true_labels_bilstm.extend(labels.cpu().numpy())\n",
    "\n",
    "    val_predictions_prob_bilstm = torch.sigmoid(torch.tensor(val_predictions_logits_bilstm)).numpy()\n",
    "    val_predictions_binary_bilstm = (val_predictions_prob_bilstm > 0.5).astype(int)\n",
    "    val_true_labels_np_bilstm = np.array(val_true_labels_bilstm)\n",
    "\n",
    "    val_macro_f1_bilstm = f1_score(val_true_labels_np_bilstm, val_predictions_binary_bilstm, average='macro', zero_division=0)\n",
    "    val_accuracy_bilstm = accuracy_score(val_true_labels_np_bilstm, val_predictions_binary_bilstm)\n",
    "\n",
    "    val_loss_bilstm_calculated = criterion_bilstm(torch.tensor(np.array(val_predictions_logits_bilstm)).to(device), torch.tensor(val_true_labels_np_bilstm).to(device)).item()\n",
    "    history_bilstm['val_loss'].append(val_loss_bilstm_calculated)\n",
    "    history_bilstm['val_macro_f1'].append(val_macro_f1_bilstm)\n",
    "    history_bilstm['val_accuracy'].append(val_accuracy_bilstm)\n",
    "\n",
    "\n",
    "    print(f\"Epoch {epoch+1}/{NUM_EPOCHS_BILSTM} - Train Loss: {avg_train_loss_bilstm:.4f} - Val Loss: {val_loss_bilstm_calculated:.4f} - Val Macro F1: {val_macro_f1_bilstm:.4f} - Val Accuracy: {val_accuracy_bilstm:.4f}\")\n",
    "\n",
    "    # Panggil EarlyStopper\n",
    "    if early_stopper_bilstm(val_macro_f1_bilstm, model_bilstm, optimizer_bilstm): # Menggunakan val_macro_f1 sebagai metrik\n",
    "        print(f\"Early stopping diaktifkan pada Epoch {epoch+1}.\")\n",
    "        break\n",
    "\n",
    "print(\"\\nPelatihan model BiLSTM selesai.\")\n",
    "\n",
    "# Muat model terbaik untuk evaluasi akhir (dari checkpoint)\n",
    "try:\n",
    "    early_stopper_bilstm.load_checkpoint(model_bilstm, optimizer_bilstm) # Memuat model terbaik\n",
    "    print(\"Model BiLSTM terbaik berhasil dimuat untuk evaluasi.\")\n",
    "except FileNotFoundError:\n",
    "    print(\"File model BiLSTM terbaik tidak ditemukan. Menggunakan model yang terakhir dilatih.\")\n",
    "model_bilstm.eval()"
   ]
  },
  {
   "cell_type": "markdown",
   "metadata": {
    "id": "0Q-UK331iN83"
   },
   "source": [
    "##**3.2 Transformer**"
   ]
  },
  {
   "cell_type": "markdown",
   "metadata": {
    "id": "h-4riJlLe5Pb"
   },
   "source": [
    "###**3.2.1 Tokenisasi dan Encoding**"
   ]
  },
  {
   "cell_type": "code",
   "execution_count": null,
   "metadata": {
    "colab": {
     "base_uri": "https://localhost:8080/",
     "height": 481,
     "referenced_widgets": [
      "891b320a6c984b88afa5d481bbc5f571",
      "d3344186fc27452286286173ee614f7b",
      "d4f4eb36af634d6ea67fae8764bb702b",
      "4e7a89540213413b91faeea27caae58d",
      "41b74a3d867240fd80d68edc6a713af6",
      "3e87658ddea041c882766dc0e785a19f",
      "3e8e8df5f6d946efb493a14e2b80bc4f",
      "dab3789f46484175b0d34eb21de634c6",
      "ff59e7fb2b584f8baa3edd898823ae4b",
      "19b29caa5d514b1983984975d1816577",
      "54eaeecaa2f54eb0bf9cb4a38798a900",
      "cf688690ceca4b4282d5c13cda1058e8",
      "cfc97404b4554085b6177ec4a2b88472",
      "aff9b6d7f2124125b1e220421e6d59c7",
      "b06a9d6b911f43eebd42aae5d96cfef8",
      "deb532522d5f41b780789d829fbcc854",
      "f35b2c6f2be44a498652ecffc4935b09",
      "d79be3ea2b454712b135b5df0afa4925",
      "fad38146b77b4b7d98dd5c67fe4ef96c",
      "834dcf02fb554df18912b10a9d4a3861",
      "29c28ad3c26949688c4d6e854fae94eb",
      "9910588104af412eb72204a76d48aff9",
      "052eb3539ffb44f0ad51acb0db4fbb1a",
      "7e17ada3f3ab4a8db07ec70e6a6ff011",
      "c0c7521073354fcf8954cb18860a5184",
      "9fcf793d93a14808aab85d104d78c1a1",
      "a4930f002558436c825e4ba53ce4f569",
      "2cc3064154d64ac8bfa92b928ab87ede",
      "ac1a80fe499648e5abb39a713fe31dc1",
      "e373f41cec564f5abe95b151b7081378",
      "f847f6371ff447f2a7a360fbb28f9dae",
      "0506217f18504fe6bd0d0b0a97ab745c",
      "79b74e39781a4373becd410b34464ffe",
      "6cef59517d4042e8b71badb7ad45a6e9",
      "b1d39e6e263c4002978b07e4b8b2b006",
      "60ce060f478842cba8c7701e276ec9a0",
      "7ea4978e6d7842a58148e31569dd3ce1",
      "c717353442da4decb969327f1ed31883",
      "efc0f94e28b448a6ac8f07493322a564",
      "17951844dd004a9aa55c7f7ef35d91b0",
      "d556d82c62fd477c8f4cbf3503ec61a6",
      "ed64823a3cfa4095a82c2b9a94a6587f",
      "cde9939bd6084f5ebafe980406908819",
      "55611eca5df941068e684fa1a5cd55d2",
      "553ad56091fa452a9bb53ef6e22e3244",
      "d551bf9165d9470a87599d90f9d15c56",
      "b60dfcda08b44d3da7fe475ffbb0e256",
      "c717ad44548343779d7e2e852e360391",
      "25d1bbb218fa48d493b2a2cf84aa2f15",
      "38f1f737de004bc5acce1a4010a5d474",
      "19c9a28a58264fa99e79f0ff7e65588a",
      "4adb5cce88b047f8a4be5ad61f81c2a5",
      "7b4b17e0bad748a08af4ab3eed00ff41",
      "debb092a5362429286f0229d3a23a3f8",
      "914f64a253fb4cf5bc34fa5bf3f0359b",
      "2ca5217eb5e1473c8f930cfb27cbbc26",
      "f7d33c9eb97d47198514719d96ce46de",
      "fb5b0c49210f45b2a34a08cde408139d",
      "f5bd0f5dac074c49bd6523530f4d012b",
      "512e466fbe364a87bcb460491080a14e",
      "6776ead3ea204a08861b7aee74745c34",
      "7c9724126f344337b647dcf6efb2a54a",
      "5024517454eb4c848307ed011e17cdd6",
      "cb1e0e3e4193483da8f5ad5bc08f657f",
      "a99525b89f9f489f8e7209478118bb8f",
      "8a4c4f9dfc8d4732942e6b6cb728fbff",
      "d1b97d0c4260478ba1c17135cf39399c",
      "1926122d91994551b56061d469a4c7b6",
      "5256330980e444d9a755303dd9f9cf50",
      "2ceaeb9cabff420cbe540e1ccd3a5d54",
      "8de6cd849f4a4740a5f586c3c07f65ab",
      "3cfd3319551741478b751e2aec2d0114",
      "f3df6ba8a9b94545b28c16f7510b3cce",
      "984a9968b87b44e4a7da33532e88b5b7",
      "e0128a4a0c6b46f6b0cd3be5ffdc3632",
      "f48104e145b64a89a59074b7b3d9d051",
      "86a25646d3ff443692c6caf8e6b27d69",
      "7c949f1e014b4779b9f5bdaf052b221a",
      "551fa5b146104442ba23a6695b6a0672",
      "8cdb194f77bf4a9687107fc30ea29381",
      "25430d5d13d04b448b59892b0a8a82e5",
      "b70b711f4ffd42839280113a215dc4d3",
      "fdcb53e3184649e898492f59735f6c8f",
      "f2ab077cb5cd47da9c871c15a73f9069",
      "a397cd0c9a6f41e78b09a16a7e734e47",
      "5e0dc0a531974230b35a50fc6be2b95d",
      "35a847b02d12425aa60a66f57eeef6c3",
      "8d70931917b8400dac311f240a1204a3"
     ]
    },
    "id": "x7eM1gG9lBgP",
    "outputId": "1f0fb05d-9c9f-421b-b5f0-2e6d9e135fcb"
   },
   "outputs": [
    {
     "name": "stderr",
     "output_type": "stream",
     "text": [
      "/usr/local/lib/python3.11/dist-packages/huggingface_hub/utils/_auth.py:94: UserWarning: \n",
      "The secret `HF_TOKEN` does not exist in your Colab secrets.\n",
      "To authenticate with the Hugging Face Hub, create a token in your settings tab (https://huggingface.co/settings/tokens), set it as secret in your Google Colab and restart your session.\n",
      "You will be able to reuse this secret in all of your notebooks.\n",
      "Please note that authentication is recommended but still optional to access public models or datasets.\n",
      "  warnings.warn(\n"
     ]
    },
    {
     "data": {
      "application/vnd.jupyter.widget-view+json": {
       "model_id": "891b320a6c984b88afa5d481bbc5f571",
       "version_major": 2,
       "version_minor": 0
      },
      "text/plain": [
       "tokenizer_config.json:   0%|          | 0.00/2.00 [00:00<?, ?B/s]"
      ]
     },
     "metadata": {},
     "output_type": "display_data"
    },
    {
     "data": {
      "application/vnd.jupyter.widget-view+json": {
       "model_id": "cf688690ceca4b4282d5c13cda1058e8",
       "version_major": 2,
       "version_minor": 0
      },
      "text/plain": [
       "config.json: 0.00B [00:00, ?B/s]"
      ]
     },
     "metadata": {},
     "output_type": "display_data"
    },
    {
     "data": {
      "application/vnd.jupyter.widget-view+json": {
       "model_id": "052eb3539ffb44f0ad51acb0db4fbb1a",
       "version_major": 2,
       "version_minor": 0
      },
      "text/plain": [
       "vocab.txt: 0.00B [00:00, ?B/s]"
      ]
     },
     "metadata": {},
     "output_type": "display_data"
    },
    {
     "data": {
      "application/vnd.jupyter.widget-view+json": {
       "model_id": "6cef59517d4042e8b71badb7ad45a6e9",
       "version_major": 2,
       "version_minor": 0
      },
      "text/plain": [
       "special_tokens_map.json:   0%|          | 0.00/112 [00:00<?, ?B/s]"
      ]
     },
     "metadata": {},
     "output_type": "display_data"
    },
    {
     "name": "stdout",
     "output_type": "stream",
     "text": [
      "Tokenizer untuk IndoBERT (indobenchmark/indobert-base-p1) berhasil diinisialisasi.\n",
      "\n",
      "Encoding IndoBERT selesai. Contoh input_ids train shape: torch.Size([2391, 128])\n"
     ]
    },
    {
     "data": {
      "application/vnd.jupyter.widget-view+json": {
       "model_id": "553ad56091fa452a9bb53ef6e22e3244",
       "version_major": 2,
       "version_minor": 0
      },
      "text/plain": [
       "tokenizer_config.json:   0%|          | 0.00/25.0 [00:00<?, ?B/s]"
      ]
     },
     "metadata": {},
     "output_type": "display_data"
    },
    {
     "data": {
      "application/vnd.jupyter.widget-view+json": {
       "model_id": "2ca5217eb5e1473c8f930cfb27cbbc26",
       "version_major": 2,
       "version_minor": 0
      },
      "text/plain": [
       "config.json:   0%|          | 0.00/615 [00:00<?, ?B/s]"
      ]
     },
     "metadata": {},
     "output_type": "display_data"
    },
    {
     "data": {
      "application/vnd.jupyter.widget-view+json": {
       "model_id": "d1b97d0c4260478ba1c17135cf39399c",
       "version_major": 2,
       "version_minor": 0
      },
      "text/plain": [
       "sentencepiece.bpe.model:   0%|          | 0.00/5.07M [00:00<?, ?B/s]"
      ]
     },
     "metadata": {},
     "output_type": "display_data"
    },
    {
     "data": {
      "application/vnd.jupyter.widget-view+json": {
       "model_id": "7c949f1e014b4779b9f5bdaf052b221a",
       "version_major": 2,
       "version_minor": 0
      },
      "text/plain": [
       "tokenizer.json:   0%|          | 0.00/9.10M [00:00<?, ?B/s]"
      ]
     },
     "metadata": {},
     "output_type": "display_data"
    },
    {
     "name": "stdout",
     "output_type": "stream",
     "text": [
      "Tokenizer untuk XLM-RoBERTa (xlm-roberta-base) berhasil diinisialisasi.\n",
      "\n",
      "Encoding XLM-RoBERTa selesai. Contoh input_ids train shape: torch.Size([2391, 128])\n"
     ]
    }
   ],
   "source": [
    "MAX_SEQUENCE_LENGTH_TRANSFORMER = 128\n",
    "\n",
    "# Untuk IndoBERT\n",
    "model_name_indo_bert = \"indobenchmark/indobert-base-p1\"\n",
    "tokenizer_indo_bert = AutoTokenizer.from_pretrained(model_name_indo_bert)\n",
    "print(f\"Tokenizer untuk IndoBERT ({model_name_indo_bert}) berhasil diinisialisasi.\")\n",
    "\n",
    "encoded_inputs_indo_bert_train = tokenizer_indo_bert(\n",
    "    df_train['preprocessed_text'].tolist(), padding='max_length', truncation=True,\n",
    "    max_length=MAX_SEQUENCE_LENGTH_TRANSFORMER, return_tensors=\"pt\"\n",
    ")\n",
    "encoded_inputs_indo_bert_validation = tokenizer_indo_bert(\n",
    "    df_validation['preprocessed_text'].tolist(), padding='max_length', truncation=True,\n",
    "    max_length=MAX_SEQUENCE_LENGTH_TRANSFORMER, return_tensors=\"pt\"\n",
    ")\n",
    "encoded_inputs_indo_bert_test = tokenizer_indo_bert(\n",
    "    df_test['preprocessed_text'].tolist(), padding='max_length', truncation=True,\n",
    "    max_length=MAX_SEQUENCE_LENGTH_TRANSFORMER, return_tensors=\"pt\"\n",
    ")\n",
    "print(f\"\\nEncoding IndoBERT selesai. Contoh input_ids train shape: {encoded_inputs_indo_bert_train['input_ids'].shape}\")\n",
    "\n",
    "# Untuk XLM-RoBERTa\n",
    "model_name_xlm_roberta = \"xlm-roberta-base\"\n",
    "tokenizer_xlm_roberta = AutoTokenizer.from_pretrained(model_name_xlm_roberta)\n",
    "print(f\"Tokenizer untuk XLM-RoBERTa ({model_name_xlm_roberta}) berhasil diinisialisasi.\")\n",
    "\n",
    "encoded_inputs_xlm_roberta_train = tokenizer_xlm_roberta(\n",
    "    df_train['preprocessed_text'].tolist(), padding='max_length', truncation=True,\n",
    "    max_length=MAX_SEQUENCE_LENGTH_TRANSFORMER, return_tensors=\"pt\"\n",
    ")\n",
    "encoded_inputs_xlm_roberta_validation = tokenizer_xlm_roberta(\n",
    "    df_validation['preprocessed_text'].tolist(), padding='max_length', truncation=True,\n",
    "    max_length=MAX_SEQUENCE_LENGTH_TRANSFORMER, return_tensors=\"pt\"\n",
    ")\n",
    "encoded_inputs_xlm_roberta_test = tokenizer_xlm_roberta(\n",
    "    df_test['preprocessed_text'].tolist(), padding='max_length', truncation=True,\n",
    "    max_length=MAX_SEQUENCE_LENGTH_TRANSFORMER, return_tensors=\"pt\"\n",
    ")\n",
    "print(f\"\\nEncoding XLM-RoBERTa selesai. Contoh input_ids train shape: {encoded_inputs_xlm_roberta_train['input_ids'].shape}\")"
   ]
  },
  {
   "cell_type": "markdown",
   "metadata": {
    "id": "zsKzPdxciOFk"
   },
   "source": [
    "###**3.2.2 Indo-BERT**"
   ]
  },
  {
   "cell_type": "code",
   "execution_count": null,
   "metadata": {
    "colab": {
     "base_uri": "https://localhost:8080/",
     "height": 649,
     "referenced_widgets": [
      "4029e7ab4d294b5787414be42f9cf756",
      "95830cb981094de7929fecf1d02bdb0e",
      "2b86917740fb4f579f56d45c3af665f2",
      "966cbfbf0e2d473aa000cde3d01d5a32",
      "380415105461462d9aa5108f7ce8bfdf",
      "8c703f1726fd44d183ea91134e34cd1e",
      "aa4534b00e054b59987c819656f8862a",
      "dcbd3ce071634f4eab88504c2b7754c9",
      "dc8d0c7fd41f44afac1b36014dca448b",
      "846d72629741470594b26a6db41dc468",
      "2713fb80c03f4dd6a80c67b0a616ec59",
      "6c9b0df0be0241ab818f9bed4a1d5bc7",
      "4cd698da0e3a4e1eb802a88b8eac31e1",
      "2346de338bc94cd5bbff88c1c6153986",
      "a3d66b723ea44f7ba077ecdbc4071062",
      "cbf8a8c6debb4df4a9562aa5b670bfad",
      "1a50e6c048cd40ad94eb2b9fadcfe3a0",
      "e21c7ecbe5674b13bf5bf49a6bc3c843",
      "1cf804942f04487885e60ac4539f84a9",
      "ccc20dce007f461eaa7f8dc562176e9a",
      "dc7f5af888544867ac7fa58ed39b4812",
      "75e9d3b160da42a6bbb8d4afc5154c9d"
     ]
    },
    "id": "edJUMe8GlEHR",
    "outputId": "af5591fe-9ee7-4969-82ed-cd758cc34be1"
   },
   "outputs": [
    {
     "name": "stdout",
     "output_type": "stream",
     "text": [
      "\n",
      "Ukuran Training Dataset IndoBERT: 2391\n",
      "Ukuran Validation Dataset IndoBERT: 513\n",
      "Ukuran Test Dataset IndoBERT: 513\n"
     ]
    },
    {
     "data": {
      "application/vnd.jupyter.widget-view+json": {
       "model_id": "4029e7ab4d294b5787414be42f9cf756",
       "version_major": 2,
       "version_minor": 0
      },
      "text/plain": [
       "pytorch_model.bin:   0%|          | 0.00/498M [00:00<?, ?B/s]"
      ]
     },
     "metadata": {},
     "output_type": "display_data"
    },
    {
     "name": "stderr",
     "output_type": "stream",
     "text": [
      "Some weights of BertForSequenceClassification were not initialized from the model checkpoint at indobenchmark/indobert-base-p1 and are newly initialized: ['classifier.bias', 'classifier.weight']\n",
      "You should probably TRAIN this model on a down-stream task to be able to use it for predictions and inference.\n"
     ]
    },
    {
     "name": "stdout",
     "output_type": "stream",
     "text": [
      "Model IndoBERT (indobenchmark/indobert-base-p1) berhasil diinisialisasi.\n"
     ]
    },
    {
     "name": "stderr",
     "output_type": "stream",
     "text": [
      "/tmp/ipython-input-2177330511.py:75: FutureWarning: `tokenizer` is deprecated and will be removed in version 5.0.0 for `MultiLabelTrainer.__init__`. Use `processing_class` instead.\n",
      "  trainer_indo_bert = MultiLabelTrainer(\n"
     ]
    },
    {
     "data": {
      "application/vnd.jupyter.widget-view+json": {
       "model_id": "6c9b0df0be0241ab818f9bed4a1d5bc7",
       "version_major": 2,
       "version_minor": 0
      },
      "text/plain": [
       "model.safetensors:   0%|          | 0.00/498M [00:00<?, ?B/s]"
      ]
     },
     "metadata": {},
     "output_type": "display_data"
    },
    {
     "name": "stdout",
     "output_type": "stream",
     "text": [
      "\n",
      "Memulai pelatihan model IndoBERT...\n"
     ]
    },
    {
     "name": "stderr",
     "output_type": "stream",
     "text": [
      "/usr/local/lib/python3.11/dist-packages/torch/nn/modules/module.py:1750: FutureWarning: `encoder_attention_mask` is deprecated and will be removed in version 4.55.0 for `BertSdpaSelfAttention.forward`.\n",
      "  return forward_call(*args, **kwargs)\n"
     ]
    },
    {
     "data": {
      "text/html": [
       "\n",
       "    <div>\n",
       "      \n",
       "      <progress value='600' max='600' style='width:300px; height:20px; vertical-align: middle;'></progress>\n",
       "      [600/600 02:11, Epoch 4/4]\n",
       "    </div>\n",
       "    <table border=\"1\" class=\"dataframe\">\n",
       "  <thead>\n",
       " <tr style=\"text-align: left;\">\n",
       "      <th>Epoch</th>\n",
       "      <th>Training Loss</th>\n",
       "      <th>Validation Loss</th>\n",
       "      <th>Macro F1</th>\n",
       "      <th>Micro F1</th>\n",
       "      <th>Accuracy</th>\n",
       "    </tr>\n",
       "  </thead>\n",
       "  <tbody>\n",
       "    <tr>\n",
       "      <td>1</td>\n",
       "      <td>No log</td>\n",
       "      <td>0.370701</td>\n",
       "      <td>0.376918</td>\n",
       "      <td>0.554502</td>\n",
       "      <td>0.354776</td>\n",
       "    </tr>\n",
       "    <tr>\n",
       "      <td>2</td>\n",
       "      <td>No log</td>\n",
       "      <td>0.348518</td>\n",
       "      <td>0.494545</td>\n",
       "      <td>0.634112</td>\n",
       "      <td>0.391813</td>\n",
       "    </tr>\n",
       "    <tr>\n",
       "      <td>3</td>\n",
       "      <td>No log</td>\n",
       "      <td>0.364223</td>\n",
       "      <td>0.510223</td>\n",
       "      <td>0.651195</td>\n",
       "      <td>0.407407</td>\n",
       "    </tr>\n",
       "    <tr>\n",
       "      <td>4</td>\n",
       "      <td>0.267200</td>\n",
       "      <td>0.371121</td>\n",
       "      <td>0.516294</td>\n",
       "      <td>0.658570</td>\n",
       "      <td>0.405458</td>\n",
       "    </tr>\n",
       "  </tbody>\n",
       "</table><p>"
      ],
      "text/plain": [
       "<IPython.core.display.HTML object>"
      ]
     },
     "metadata": {},
     "output_type": "display_data"
    },
    {
     "name": "stderr",
     "output_type": "stream",
     "text": [
      "/usr/local/lib/python3.11/dist-packages/torch/nn/modules/module.py:1750: FutureWarning: `encoder_attention_mask` is deprecated and will be removed in version 4.55.0 for `BertSdpaSelfAttention.forward`.\n",
      "  return forward_call(*args, **kwargs)\n",
      "/usr/local/lib/python3.11/dist-packages/torch/nn/modules/module.py:1750: FutureWarning: `encoder_attention_mask` is deprecated and will be removed in version 4.55.0 for `BertSdpaSelfAttention.forward`.\n",
      "  return forward_call(*args, **kwargs)\n",
      "/usr/local/lib/python3.11/dist-packages/torch/nn/modules/module.py:1750: FutureWarning: `encoder_attention_mask` is deprecated and will be removed in version 4.55.0 for `BertSdpaSelfAttention.forward`.\n",
      "  return forward_call(*args, **kwargs)\n"
     ]
    },
    {
     "name": "stdout",
     "output_type": "stream",
     "text": [
      "\n",
      "Pelatihan model IndoBERT selesai.\n"
     ]
    }
   ],
   "source": [
    "class TransformerEmotionDataset(TorchDataset):\n",
    "    def __init__(self, encodings, labels_multihot_numpy): # Menerima numpy array\n",
    "        self.encodings = encodings\n",
    "        self.labels = torch.tensor(labels_multihot_numpy, dtype=torch.float32) # Konversi ke tensor di sini\n",
    "\n",
    "    def __len__(self):\n",
    "        return len(self.labels)\n",
    "\n",
    "    def __getitem__(self, idx):\n",
    "        item = {key: val[idx] for key, val in self.encodings.items()}\n",
    "        item['labels'] = self.labels[idx]\n",
    "        return item\n",
    "\n",
    "# Persiapan Dataset untuk Pelatihan Model IndoBERT\n",
    "y_train_multihot_numpy = y_train_multihot # Pastikan ini numpy array\n",
    "y_validation_multihot_numpy = y_validation_multihot # Pastikan ini numpy array\n",
    "y_test_multihot_numpy = y_test_multihot # Pastikan ini numpy array\n",
    "\n",
    "train_dataset_indo = TransformerEmotionDataset(encoded_inputs_indo_bert_train, y_train_multihot_numpy)\n",
    "val_dataset_indo = TransformerEmotionDataset(encoded_inputs_indo_bert_validation, y_validation_multihot_numpy)\n",
    "test_dataset_indo = TransformerEmotionDataset(encoded_inputs_indo_bert_test, y_test_multihot_numpy)\n",
    "\n",
    "print(f\"\\nUkuran Training Dataset IndoBERT: {len(train_dataset_indo)}\")\n",
    "print(f\"Ukuran Validation Dataset IndoBERT: {len(val_dataset_indo)}\")\n",
    "print(f\"Ukuran Test Dataset IndoBERT: {len(test_dataset_indo)}\")\n",
    "\n",
    "indobert_model = AutoModelForSequenceClassification.from_pretrained(\n",
    "    model_name_indo_bert,\n",
    "    num_labels=global_num_emotion_labels,\n",
    "    problem_type=\"multi_label_classification\"\n",
    ")\n",
    "print(f\"Model IndoBERT ({model_name_indo_bert}) berhasil diinisialisasi.\")\n",
    "\n",
    "class MultiLabelTrainer(Trainer):\n",
    "    def compute_loss(self, model, inputs, return_outputs=False, **kwargs):\n",
    "        labels = inputs.pop(\"labels\")\n",
    "        outputs = model(**inputs)\n",
    "        logits = outputs.get(\"logits\")\n",
    "        loss_fct = nn.BCEWithLogitsLoss()\n",
    "        loss = loss_fct(logits, labels)\n",
    "        return (loss, outputs) if return_outputs else loss\n",
    "\n",
    "training_args_indo = TrainingArguments(\n",
    "    output_dir=\"./results-indobert\",\n",
    "    per_device_train_batch_size=16,\n",
    "    per_device_eval_batch_size=64,\n",
    "    num_train_epochs=4,\n",
    "    eval_strategy=IntervalStrategy.EPOCH,\n",
    "    save_strategy=IntervalStrategy.EPOCH,\n",
    "    logging_dir=\"./logs-indobert\",\n",
    "    load_best_model_at_end=True,\n",
    "    metric_for_best_model=\"eval_macro_f1\",\n",
    "    greater_is_better=True,\n",
    "    report_to=\"none\",\n",
    "    disable_tqdm=False,\n",
    "    seed=RANDOM_SEED,\n",
    "    fp16=torch.cuda.is_available(), #  Aktifkan FP16 jika GPU tersedia\n",
    "    # MAX_SEQUENCE_LENGTH_TRANSFORMER sangat pendek (misal 64)\n",
    "    # max_length=64,\n",
    ")\n",
    "\n",
    "def compute_metrics_transformer(p):\n",
    "    predictions = p.predictions[0] if isinstance(p.predictions, tuple) else p.predictions\n",
    "    labels = p.label_ids\n",
    "\n",
    "    y_pred = (torch.sigmoid(torch.tensor(predictions)) > 0.5).int()\n",
    "    y_true = torch.tensor(labels).int()\n",
    "\n",
    "    macro_f1 = f1_score(y_true, y_pred, average='macro', zero_division=0)\n",
    "    micro_f1 = f1_score(y_true, y_pred, average='micro', zero_division=0)\n",
    "    accuracy = accuracy_score(y_true, y_pred)\n",
    "\n",
    "    return {\"macro_f1\": macro_f1, \"micro_f1\": micro_f1, \"accuracy\": accuracy}\n",
    "\n",
    "trainer_indo_bert = MultiLabelTrainer(\n",
    "    model=indobert_model,\n",
    "    args=training_args_indo,\n",
    "    train_dataset=train_dataset_indo,\n",
    "    eval_dataset=val_dataset_indo,\n",
    "    compute_metrics=compute_metrics_transformer,\n",
    "    tokenizer=tokenizer_indo_bert\n",
    ")\n",
    "\n",
    "print(\"\\nMemulai pelatihan model IndoBERT...\")\n",
    "trainer_indo_bert.train()\n",
    "print(\"\\nPelatihan model IndoBERT selesai.\")\n",
    "\n",
    "tokenizer_indo_bert.save_pretrained(\"saved_indobert_tokenizer\")\n",
    "indobert_model.save_pretrained(\"saved_indobert_model\")"
   ]
  },
  {
   "cell_type": "markdown",
   "metadata": {
    "id": "acFaGM_FHHxE"
   },
   "source": [
    "###**3.2.3 XLM-RoBERTa**"
   ]
  },
  {
   "cell_type": "code",
   "execution_count": null,
   "metadata": {
    "colab": {
     "base_uri": "https://localhost:8080/",
     "height": 617,
     "referenced_widgets": [
      "edfa5919fa95407e8e7abd8df0bde4f1",
      "47d63bb4183d4e94892be9558a27c463",
      "8f2b6f2951df473db1c178c06bec1c66",
      "b2a65173e6f443bb97b6cff8bc86c425",
      "2c89c4d5805449f6a210a5fef96a348a",
      "f8c4b137f95a400586eda1cb777245ea",
      "64c4c318648b493ead6bb9d5a9bc98d7",
      "65920348e6824e309a7eab66f27d6386",
      "e3e185cac5b840b4a43fdca0dcc1b171",
      "3d8d9d860dcf444586893e6fc98ee01a",
      "953f77158dc045268e1020ded81de90a"
     ]
    },
    "id": "QNxc9zz1eEvL",
    "outputId": "80aa0c59-0c21-4e33-ae9f-03110f55ee4d"
   },
   "outputs": [
    {
     "data": {
      "application/vnd.jupyter.widget-view+json": {
       "model_id": "edfa5919fa95407e8e7abd8df0bde4f1",
       "version_major": 2,
       "version_minor": 0
      },
      "text/plain": [
       "model.safetensors:   0%|          | 0.00/1.12G [00:00<?, ?B/s]"
      ]
     },
     "metadata": {},
     "output_type": "display_data"
    },
    {
     "name": "stderr",
     "output_type": "stream",
     "text": [
      "Some weights of XLMRobertaForSequenceClassification were not initialized from the model checkpoint at xlm-roberta-base and are newly initialized: ['classifier.dense.bias', 'classifier.dense.weight', 'classifier.out_proj.bias', 'classifier.out_proj.weight']\n",
      "You should probably TRAIN this model on a down-stream task to be able to use it for predictions and inference.\n",
      "/tmp/ipython-input-53118768.py:35: FutureWarning: `tokenizer` is deprecated and will be removed in version 5.0.0 for `MultiLabelTrainer.__init__`. Use `processing_class` instead.\n",
      "  trainer_xlmr = MultiLabelTrainer(\n"
     ]
    },
    {
     "name": "stdout",
     "output_type": "stream",
     "text": [
      "Model XLM-RoBERTa (xlm-roberta-base) berhasil diinisialisasi.\n",
      "\n",
      "Ukuran Training Dataset XLM-RoBERTa: 2391\n",
      "Ukuran Validation Dataset XLM-RoBERTa: 513\n",
      "Ukuran Test Dataset XLM-RoBERTa: 513\n",
      "\n",
      "Memulai pelatihan model XLM-RoBERTa...\n"
     ]
    },
    {
     "name": "stderr",
     "output_type": "stream",
     "text": [
      "/usr/local/lib/python3.11/dist-packages/torch/nn/modules/module.py:1750: FutureWarning: `encoder_attention_mask` is deprecated and will be removed in version 4.55.0 for `XLMRobertaSdpaSelfAttention.forward`.\n",
      "  return forward_call(*args, **kwargs)\n"
     ]
    },
    {
     "data": {
      "text/html": [
       "\n",
       "    <div>\n",
       "      \n",
       "      <progress value='600' max='600' style='width:300px; height:20px; vertical-align: middle;'></progress>\n",
       "      [600/600 05:49, Epoch 4/4]\n",
       "    </div>\n",
       "    <table border=\"1\" class=\"dataframe\">\n",
       "  <thead>\n",
       " <tr style=\"text-align: left;\">\n",
       "      <th>Epoch</th>\n",
       "      <th>Training Loss</th>\n",
       "      <th>Validation Loss</th>\n",
       "      <th>Macro F1</th>\n",
       "      <th>Micro F1</th>\n",
       "      <th>Accuracy</th>\n",
       "    </tr>\n",
       "  </thead>\n",
       "  <tbody>\n",
       "    <tr>\n",
       "      <td>1</td>\n",
       "      <td>No log</td>\n",
       "      <td>0.459261</td>\n",
       "      <td>0.045161</td>\n",
       "      <td>0.113821</td>\n",
       "      <td>0.070175</td>\n",
       "    </tr>\n",
       "    <tr>\n",
       "      <td>2</td>\n",
       "      <td>No log</td>\n",
       "      <td>0.428388</td>\n",
       "      <td>0.223547</td>\n",
       "      <td>0.390331</td>\n",
       "      <td>0.233918</td>\n",
       "    </tr>\n",
       "    <tr>\n",
       "      <td>3</td>\n",
       "      <td>No log</td>\n",
       "      <td>0.394681</td>\n",
       "      <td>0.302618</td>\n",
       "      <td>0.516335</td>\n",
       "      <td>0.335283</td>\n",
       "    </tr>\n",
       "    <tr>\n",
       "      <td>4</td>\n",
       "      <td>0.430700</td>\n",
       "      <td>0.385891</td>\n",
       "      <td>0.378290</td>\n",
       "      <td>0.561086</td>\n",
       "      <td>0.364522</td>\n",
       "    </tr>\n",
       "  </tbody>\n",
       "</table><p>"
      ],
      "text/plain": [
       "<IPython.core.display.HTML object>"
      ]
     },
     "metadata": {},
     "output_type": "display_data"
    },
    {
     "name": "stderr",
     "output_type": "stream",
     "text": [
      "/usr/local/lib/python3.11/dist-packages/torch/nn/modules/module.py:1750: FutureWarning: `encoder_attention_mask` is deprecated and will be removed in version 4.55.0 for `XLMRobertaSdpaSelfAttention.forward`.\n",
      "  return forward_call(*args, **kwargs)\n",
      "/usr/local/lib/python3.11/dist-packages/torch/nn/modules/module.py:1750: FutureWarning: `encoder_attention_mask` is deprecated and will be removed in version 4.55.0 for `XLMRobertaSdpaSelfAttention.forward`.\n",
      "  return forward_call(*args, **kwargs)\n",
      "/usr/local/lib/python3.11/dist-packages/torch/nn/modules/module.py:1750: FutureWarning: `encoder_attention_mask` is deprecated and will be removed in version 4.55.0 for `XLMRobertaSdpaSelfAttention.forward`.\n",
      "  return forward_call(*args, **kwargs)\n"
     ]
    },
    {
     "name": "stdout",
     "output_type": "stream",
     "text": [
      "\n",
      "Pelatihan model XLM-RoBERTa selesai.\n"
     ]
    }
   ],
   "source": [
    "xlmr_model = AutoModelForSequenceClassification.from_pretrained(\n",
    "    model_name_xlm_roberta,\n",
    "    num_labels=global_num_emotion_labels,\n",
    "    problem_type=\"multi_label_classification\"\n",
    ")\n",
    "print(f\"Model XLM-RoBERTa ({model_name_xlm_roberta}) berhasil diinisialisasi.\")\n",
    "\n",
    "# Persiapan Dataset untuk Pelatihan Model XLM-RoBERTa (menggunakan kelas yang sama)\n",
    "train_dataset_xlmr = TransformerEmotionDataset(encoded_inputs_xlm_roberta_train, y_train_multihot_numpy)\n",
    "val_dataset_xlmr = TransformerEmotionDataset(encoded_inputs_xlm_roberta_validation, y_validation_multihot_numpy)\n",
    "test_dataset_xlmr = TransformerEmotionDataset(encoded_inputs_xlm_roberta_test, y_test_multihot_numpy)\n",
    "\n",
    "print(f\"\\nUkuran Training Dataset XLM-RoBERTa: {len(train_dataset_xlmr)}\")\n",
    "print(f\"Ukuran Validation Dataset XLM-RoBERTa: {len(val_dataset_xlmr)}\")\n",
    "print(f\"Ukuran Test Dataset XLM-RoBERTa: {len(test_dataset_xlmr)}\")\n",
    "\n",
    "training_args_xlmr = TrainingArguments(\n",
    "    output_dir=\"./results-xlmr\",\n",
    "    per_device_train_batch_size=16,\n",
    "    per_device_eval_batch_size=64,\n",
    "    num_train_epochs=4,\n",
    "    eval_strategy=IntervalStrategy.EPOCH,\n",
    "    save_strategy=IntervalStrategy.EPOCH,\n",
    "    logging_dir=\"./logs-xlmr\",\n",
    "    load_best_model_at_end=True,\n",
    "    metric_for_best_model=\"eval_macro_f1\", # Pantau macro F1\n",
    "    greater_is_better=True, # Untuk F1-score, nilai yang lebih besar lebih baik\n",
    "    report_to=\"none\",\n",
    "    disable_tqdm=False,\n",
    "    seed=RANDOM_SEED, # Untuk reproduksibilitas\n",
    "    fp16=torch.cuda.is_available(), # Aktifkan FP16 jika GPU tersedia\n",
    ")\n",
    "\n",
    "# Evaluation metrics untuk Transformer (fungsi compute_metrics_transformer sudah didefinisikan sebelumnya)\n",
    "trainer_xlmr = MultiLabelTrainer(\n",
    "    model=xlmr_model,\n",
    "    args=training_args_xlmr,\n",
    "    train_dataset=train_dataset_xlmr,\n",
    "    eval_dataset=val_dataset_xlmr,\n",
    "    compute_metrics=compute_metrics_transformer,\n",
    "    tokenizer=tokenizer_xlm_roberta\n",
    ")\n",
    "\n",
    "print(\"\\nMemulai pelatihan model XLM-RoBERTa...\")\n",
    "trainer_xlmr.train()\n",
    "print(\"\\nPelatihan model XLM-RoBERTa selesai.\")\n",
    "\n",
    "tokenizer_xlm_roberta.save_pretrained(\"saved_xlmr_tokenizer\")\n",
    "xlmr_model.save_pretrained(\"saved_xlmr_model\")"
   ]
  },
  {
   "cell_type": "markdown",
   "metadata": {
    "id": "lgoZvGNG-zYy"
   },
   "source": [
    "#**4. Evaluasi Kinerja Model**"
   ]
  },
  {
   "cell_type": "markdown",
   "metadata": {
    "id": "FrrRrXKiHPE6"
   },
   "source": [
    "##**4.1 Implementasi Baseline**"
   ]
  },
  {
   "cell_type": "markdown",
   "metadata": {
    "id": "2MO5CTPDJATT"
   },
   "source": [
    "###**4.1.1 Baseline Atribusi Kelas Mayoritas**"
   ]
  },
  {
   "cell_type": "code",
   "execution_count": null,
   "metadata": {
    "colab": {
     "base_uri": "https://localhost:8080/"
    },
    "id": "STEUiqhsleB6",
    "outputId": "bf16459b-39ba-4112-d08d-1381431f7e5a"
   },
   "outputs": [
    {
     "name": "stdout",
     "output_type": "stream",
     "text": [
      "=== Baseline Atribusi Kelas Mayoritas (pada Test Set) ===\n",
      "                  precision    recall  f1-score   support\n",
      "\n",
      "           anger       0.29      1.00      0.45       148\n",
      "         disgust       0.00      0.00      0.00        80\n",
      "            fear       0.00      0.00      0.00        88\n",
      "             joy       0.44      1.00      0.61       227\n",
      "rare_combination       0.00      0.00      0.00         6\n",
      "         sadness       0.33      1.00      0.49       167\n",
      "        surprise       0.00      0.00      0.00        61\n",
      "\n",
      "       micro avg       0.35      0.70      0.47       777\n",
      "       macro avg       0.15      0.43      0.22       777\n",
      "    weighted avg       0.25      0.70      0.37       777\n",
      "     samples avg       0.35      0.74      0.46       777\n",
      "\n"
     ]
    }
   ],
   "source": [
    "# Konversi ke tensor PyTorch untuk operasi\n",
    "y_train_tensor_baseline = torch.tensor(y_train_multihot, dtype=torch.float32)\n",
    "y_test_tensor_baseline = torch.tensor(y_test_multihot, dtype=torch.float32)\n",
    "\n",
    "# Hitung frekuensi setiap label dari data pelatihan (menggunakan tensor PyTorch)\n",
    "label_freq_train = y_train_tensor_baseline.sum(dim=0)\n",
    "\n",
    "# Tentukan label mayoritas: prediksi 1 untuk label yang muncul di train set.\n",
    "# Jika ada label yang tidak muncul di train set, nilai thresholdnya akan 0.\n",
    "threshold_majority = label_freq_train.float().mean() # Ambil rata-rata frekuensi sebagai ambang batas\n",
    "majority_labels_binary = (label_freq_train >= threshold_majority).int()\n",
    "\n",
    "# Duplikasikan prediksi baseline untuk semua sampel di test set\n",
    "y_pred_majority_test = majority_labels_binary.repeat(y_test_tensor_baseline.size(0), 1).cpu().numpy()\n",
    "\n",
    "# Evaluasi baseline pada test set\n",
    "print(\"=== Baseline Atribusi Kelas Mayoritas (pada Test Set) ===\")\n",
    "# classification_report membutuhkan input numpy arrays\n",
    "print(classification_report(y_test_multihot, y_pred_majority_test, target_names=global_target_emotion_labels, zero_division=0))\n",
    "\n",
    "results_baseline_majority = {\n",
    "    'Model': 'Majority Baseline',\n",
    "    'micro_f1': f1_score(y_test_multihot, y_pred_majority_test, average='micro', zero_division=0),\n",
    "    'macro_f1': f1_score(y_test_multihot, y_pred_majority_test, average='macro', zero_division=0),\n",
    "    'samples_f1': f1_score(y_test_multihot, y_pred_majority_test, average='samples', zero_division=0),\n",
    "    'Accuracy': accuracy_score(y_test_multihot, y_pred_majority_test),\n",
    "}"
   ]
  },
  {
   "cell_type": "markdown",
   "metadata": {
    "id": "3qFt6HEmJyKj"
   },
   "source": [
    "###**4.1.2 LLM Multilingual Zero-Shot (Gemini)**"
   ]
  },
  {
   "cell_type": "code",
   "execution_count": null,
   "metadata": {
    "colab": {
     "base_uri": "https://localhost:8080/",
     "height": 1000
    },
    "id": "oWZVsKQIi-u2",
    "outputId": "4480bc9f-c094-4cf9-f1c2-ab6ec386da3e"
   },
   "outputs": [
    {
     "name": "stdout",
     "output_type": "stream",
     "text": [
      "\n",
      "Melakukan prediksi Zero-Shot dengan Gemini Pro pada sampel test set...\n"
     ]
    },
    {
     "name": "stderr",
     "output_type": "stream",
     "text": [
      "WARNING:tornado.access:404 POST /v1beta/models/gemini-pro:generateContent?%24alt=json%3Benum-encoding%3Dint (127.0.0.1) 2335.79ms\n"
     ]
    },
    {
     "name": "stdout",
     "output_type": "stream",
     "text": [
      "Error calling LLM for text: 'ada yang masih nonton di thn 2019 v...'. Error: 404 POST https://generativelanguage.googleapis.com/v1beta/models/gemini-pro:generateContent?%24alt=json%3Benum-encoding%3Dint: models/gemini-pro is not found for API version v1beta, or is not supported for generateContent. Call ListModels to see the list of available models and their supported methods.\n"
     ]
    },
    {
     "name": "stderr",
     "output_type": "stream",
     "text": [
      "WARNING:tornado.access:404 POST /v1beta/models/gemini-pro:generateContent?%24alt=json%3Benum-encoding%3Dint (127.0.0.1) 531.26ms\n"
     ]
    },
    {
     "name": "stdout",
     "output_type": "stream",
     "text": [
      "Error calling LLM for text: 'tuhkan apple tuh kalo kasih update ga tanggung tan...'. Error: 404 POST https://generativelanguage.googleapis.com/v1beta/models/gemini-pro:generateContent?%24alt=json%3Benum-encoding%3Dint: models/gemini-pro is not found for API version v1beta, or is not supported for generateContent. Call ListModels to see the list of available models and their supported methods.\n"
     ]
    },
    {
     "name": "stderr",
     "output_type": "stream",
     "text": [
      "WARNING:tornado.access:404 POST /v1beta/models/gemini-pro:generateContent?%24alt=json%3Benum-encoding%3Dint (127.0.0.1) 986.01ms\n"
     ]
    },
    {
     "name": "stdout",
     "output_type": "stream",
     "text": [
      "Error calling LLM for text: 'mas gta 5 online itu di laptop bisa gak mas...'. Error: 404 POST https://generativelanguage.googleapis.com/v1beta/models/gemini-pro:generateContent?%24alt=json%3Benum-encoding%3Dint: models/gemini-pro is not found for API version v1beta, or is not supported for generateContent. Call ListModels to see the list of available models and their supported methods.\n"
     ]
    },
    {
     "name": "stderr",
     "output_type": "stream",
     "text": [
      "WARNING:tornado.access:404 POST /v1beta/models/gemini-pro:generateContent?%24alt=json%3Benum-encoding%3Dint (127.0.0.1) 531.40ms\n"
     ]
    },
    {
     "name": "stdout",
     "output_type": "stream",
     "text": [
      "Error calling LLM for text: 'kami sangat senang bagi anda untuk temu menang kat...'. Error: 404 POST https://generativelanguage.googleapis.com/v1beta/models/gemini-pro:generateContent?%24alt=json%3Benum-encoding%3Dint: models/gemini-pro is not found for API version v1beta, or is not supported for generateContent. Call ListModels to see the list of available models and their supported methods.\n"
     ]
    },
    {
     "name": "stderr",
     "output_type": "stream",
     "text": [
      "WARNING:tornado.access:404 POST /v1beta/models/gemini-pro:generateContent?%24alt=json%3Benum-encoding%3Dint (127.0.0.1) 910.44ms\n"
     ]
    },
    {
     "name": "stdout",
     "output_type": "stream",
     "text": [
      "Error calling LLM for text: 'sehebathebatnya tengkar adalah tengkar yg akhir ba...'. Error: 404 POST https://generativelanguage.googleapis.com/v1beta/models/gemini-pro:generateContent?%24alt=json%3Benum-encoding%3Dint: models/gemini-pro is not found for API version v1beta, or is not supported for generateContent. Call ListModels to see the list of available models and their supported methods.\n"
     ]
    },
    {
     "name": "stderr",
     "output_type": "stream",
     "text": [
      "WARNING:tornado.access:404 POST /v1beta/models/gemini-pro:generateContent?%24alt=json%3Benum-encoding%3Dint (127.0.0.1) 808.98ms\n"
     ]
    },
    {
     "name": "stdout",
     "output_type": "stream",
     "text": [
      "Error calling LLM for text: 'minum dan rokok sangat buruk tapi im tho tumbuh...'. Error: 404 POST https://generativelanguage.googleapis.com/v1beta/models/gemini-pro:generateContent?%24alt=json%3Benum-encoding%3Dint: models/gemini-pro is not found for API version v1beta, or is not supported for generateContent. Call ListModels to see the list of available models and their supported methods.\n"
     ]
    },
    {
     "name": "stderr",
     "output_type": "stream",
     "text": [
      "WARNING:tornado.access:404 POST /v1beta/models/gemini-pro:generateContent?%24alt=json%3Benum-encoding%3Dint (127.0.0.1) 682.23ms\n"
     ]
    },
    {
     "name": "stdout",
     "output_type": "stream",
     "text": [
      "Error calling LLM for text: 'aku rasa aneh karena aku aneh...'. Error: 404 POST https://generativelanguage.googleapis.com/v1beta/models/gemini-pro:generateContent?%24alt=json%3Benum-encoding%3Dint: models/gemini-pro is not found for API version v1beta, or is not supported for generateContent. Call ListModels to see the list of available models and their supported methods.\n"
     ]
    },
    {
     "name": "stderr",
     "output_type": "stream",
     "text": [
      "WARNING:tornado.access:404 POST /v1beta/models/gemini-pro:generateContent?%24alt=json%3Benum-encoding%3Dint (127.0.0.1) 759.62ms\n"
     ]
    },
    {
     "name": "stdout",
     "output_type": "stream",
     "text": [
      "Error calling LLM for text: 'waktu sd pernah dpt sempat seleksi untuk masuk tim...'. Error: 404 POST https://generativelanguage.googleapis.com/v1beta/models/gemini-pro:generateContent?%24alt=json%3Benum-encoding%3Dint: models/gemini-pro is not found for API version v1beta, or is not supported for generateContent. Call ListModels to see the list of available models and their supported methods.\n"
     ]
    },
    {
     "name": "stderr",
     "output_type": "stream",
     "text": [
      "WARNING:tornado.access:404 POST /v1beta/models/gemini-pro:generateContent?%24alt=json%3Benum-encoding%3Dint (127.0.0.1) 783.89ms\n"
     ]
    },
    {
     "name": "stdout",
     "output_type": "stream",
     "text": [
      "Error calling LLM for text: 'lady gaga ikut saya saya telah tunggu hari ini sej...'. Error: 404 POST https://generativelanguage.googleapis.com/v1beta/models/gemini-pro:generateContent?%24alt=json%3Benum-encoding%3Dint: models/gemini-pro is not found for API version v1beta, or is not supported for generateContent. Call ListModels to see the list of available models and their supported methods.\n"
     ]
    },
    {
     "name": "stderr",
     "output_type": "stream",
     "text": [
      "WARNING:tornado.access:404 POST /v1beta/models/gemini-pro:generateContent?%24alt=json%3Benum-encoding%3Dint (127.0.0.1) 758.11ms\n"
     ]
    },
    {
     "name": "stdout",
     "output_type": "stream",
     "text": [
      "Error calling LLM for text: '346 yang dengar hanya jank maaf saya kata kasar ja...'. Error: 404 POST https://generativelanguage.googleapis.com/v1beta/models/gemini-pro:generateContent?%24alt=json%3Benum-encoding%3Dint: models/gemini-pro is not found for API version v1beta, or is not supported for generateContent. Call ListModels to see the list of available models and their supported methods.\n"
     ]
    },
    {
     "name": "stderr",
     "output_type": "stream",
     "text": [
      "WARNING:tornado.access:404 POST /v1beta/models/gemini-pro:generateContent?%24alt=json%3Benum-encoding%3Dint (127.0.0.1) 1216.23ms\n"
     ]
    },
    {
     "name": "stdout",
     "output_type": "stream",
     "text": [
      "Error calling LLM for text: 'kata siapa hidup ini tidak ada guna ingat kita cip...'. Error: 404 POST https://generativelanguage.googleapis.com/v1beta/models/gemini-pro:generateContent?%24alt=json%3Benum-encoding%3Dint: models/gemini-pro is not found for API version v1beta, or is not supported for generateContent. Call ListModels to see the list of available models and their supported methods.\n"
     ]
    },
    {
     "name": "stderr",
     "output_type": "stream",
     "text": [
      "WARNING:tornado.access:404 POST /v1beta/models/gemini-pro:generateContent?%24alt=json%3Benum-encoding%3Dint (127.0.0.1) 759.83ms\n"
     ]
    },
    {
     "name": "stdout",
     "output_type": "stream",
     "text": [
      "Error calling LLM for text: 'pada suatu sempat saya lihat ekor anjing di jalan ...'. Error: 404 POST https://generativelanguage.googleapis.com/v1beta/models/gemini-pro:generateContent?%24alt=json%3Benum-encoding%3Dint: models/gemini-pro is not found for API version v1beta, or is not supported for generateContent. Call ListModels to see the list of available models and their supported methods.\n"
     ]
    },
    {
     "name": "stderr",
     "output_type": "stream",
     "text": [
      "WARNING:tornado.access:404 POST /v1beta/models/gemini-pro:generateContent?%24alt=json%3Benum-encoding%3Dint (127.0.0.1) 862.75ms\n"
     ]
    },
    {
     "name": "stdout",
     "output_type": "stream",
     "text": [
      "Error calling LLM for text: 'aku rasa sedikit murung lama akhir pekan mungkin k...'. Error: 404 POST https://generativelanguage.googleapis.com/v1beta/models/gemini-pro:generateContent?%24alt=json%3Benum-encoding%3Dint: models/gemini-pro is not found for API version v1beta, or is not supported for generateContent. Call ListModels to see the list of available models and their supported methods.\n"
     ]
    },
    {
     "name": "stderr",
     "output_type": "stream",
     "text": [
      "WARNING:tornado.access:404 POST /v1beta/models/gemini-pro:generateContent?%24alt=json%3Benum-encoding%3Dint (127.0.0.1) 682.60ms\n"
     ]
    },
    {
     "name": "stdout",
     "output_type": "stream",
     "text": [
      "Error calling LLM for text: 'coba kamu komen akun dia mau nggak bro mampir ke w...'. Error: 404 POST https://generativelanguage.googleapis.com/v1beta/models/gemini-pro:generateContent?%24alt=json%3Benum-encoding%3Dint: models/gemini-pro is not found for API version v1beta, or is not supported for generateContent. Call ListModels to see the list of available models and their supported methods.\n"
     ]
    },
    {
     "name": "stderr",
     "output_type": "stream",
     "text": [
      "WARNING:tornado.access:404 POST /v1beta/models/gemini-pro:generateContent?%24alt=json%3Benum-encoding%3Dint (127.0.0.1) 1237.34ms\n"
     ]
    },
    {
     "name": "stdout",
     "output_type": "stream",
     "text": [
      "Error calling LLM for text: 'namun pada hari tiga nyata kami kalah dua buah soa...'. Error: 404 POST https://generativelanguage.googleapis.com/v1beta/models/gemini-pro:generateContent?%24alt=json%3Benum-encoding%3Dint: models/gemini-pro is not found for API version v1beta, or is not supported for generateContent. Call ListModels to see the list of available models and their supported methods.\n"
     ]
    },
    {
     "name": "stderr",
     "output_type": "stream",
     "text": [
      "WARNING:tornado.access:404 POST /v1beta/models/gemini-pro:generateContent?%24alt=json%3Benum-encoding%3Dint (127.0.0.1) 1013.52ms\n"
     ]
    },
    {
     "name": "stdout",
     "output_type": "stream",
     "text": [
      "Error calling LLM for text: 'pancing bodohnyakan rizik bangsat cabul mau salah ...'. Error: 404 POST https://generativelanguage.googleapis.com/v1beta/models/gemini-pro:generateContent?%24alt=json%3Benum-encoding%3Dint: models/gemini-pro is not found for API version v1beta, or is not supported for generateContent. Call ListModels to see the list of available models and their supported methods.\n"
     ]
    },
    {
     "name": "stderr",
     "output_type": "stream",
     "text": [
      "WARNING:tornado.access:404 POST /v1beta/models/gemini-pro:generateContent?%24alt=json%3Benum-encoding%3Dint (127.0.0.1) 1918.17ms\n"
     ]
    },
    {
     "name": "stdout",
     "output_type": "stream",
     "text": [
      "Error calling LLM for text: 'ambil tidur siang sampai 1245 benarbenar lelah tel...'. Error: 404 POST https://generativelanguage.googleapis.com/v1beta/models/gemini-pro:generateContent?%24alt=json%3Benum-encoding%3Dint: models/gemini-pro is not found for API version v1beta, or is not supported for generateContent. Call ListModels to see the list of available models and their supported methods.\n"
     ]
    },
    {
     "name": "stderr",
     "output_type": "stream",
     "text": [
      "WARNING:tornado.access:404 POST /v1beta/models/gemini-pro:generateContent?%24alt=json%3Benum-encoding%3Dint (127.0.0.1) 913.03ms\n"
     ]
    },
    {
     "name": "stdout",
     "output_type": "stream",
     "text": [
      "Error calling LLM for text: 'mas ayo desentralisasi bareng sineas malang mas ng...'. Error: 404 POST https://generativelanguage.googleapis.com/v1beta/models/gemini-pro:generateContent?%24alt=json%3Benum-encoding%3Dint: models/gemini-pro is not found for API version v1beta, or is not supported for generateContent. Call ListModels to see the list of available models and their supported methods.\n"
     ]
    },
    {
     "name": "stderr",
     "output_type": "stream",
     "text": [
      "WARNING:tornado.access:404 POST /v1beta/models/gemini-pro:generateContent?%24alt=json%3Benum-encoding%3Dint (127.0.0.1) 531.00ms\n"
     ]
    },
    {
     "name": "stdout",
     "output_type": "stream",
     "text": [
      "Error calling LLM for text: 'prihatin ada kelompok islam yg sisih kelompok nasi...'. Error: 404 POST https://generativelanguage.googleapis.com/v1beta/models/gemini-pro:generateContent?%24alt=json%3Benum-encoding%3Dint: models/gemini-pro is not found for API version v1beta, or is not supported for generateContent. Call ListModels to see the list of available models and their supported methods.\n"
     ]
    },
    {
     "name": "stderr",
     "output_type": "stream",
     "text": [
      "WARNING:tornado.access:404 POST /v1beta/models/gemini-pro:generateContent?%24alt=json%3Benum-encoding%3Dint (127.0.0.1) 935.04ms\n"
     ]
    },
    {
     "name": "stdout",
     "output_type": "stream",
     "text": [
      "Error calling LLM for text: 'w blg ke bude w bahwa w sangat takut lalu usir kuc...'. Error: 404 POST https://generativelanguage.googleapis.com/v1beta/models/gemini-pro:generateContent?%24alt=json%3Benum-encoding%3Dint: models/gemini-pro is not found for API version v1beta, or is not supported for generateContent. Call ListModels to see the list of available models and their supported methods.\n"
     ]
    },
    {
     "name": "stderr",
     "output_type": "stream",
     "text": [
      "WARNING:tornado.access:404 POST /v1beta/models/gemini-pro:generateContent?%24alt=json%3Benum-encoding%3Dint (127.0.0.1) 583.28ms\n"
     ]
    },
    {
     "name": "stdout",
     "output_type": "stream",
     "text": [
      "Error calling LLM for text: 'jadi takut aku sering foto anak tapi gak pakai fla...'. Error: 404 POST https://generativelanguage.googleapis.com/v1beta/models/gemini-pro:generateContent?%24alt=json%3Benum-encoding%3Dint: models/gemini-pro is not found for API version v1beta, or is not supported for generateContent. Call ListModels to see the list of available models and their supported methods.\n"
     ]
    },
    {
     "name": "stderr",
     "output_type": "stream",
     "text": [
      "WARNING:tornado.access:404 POST /v1beta/models/gemini-pro:generateContent?%24alt=json%3Benum-encoding%3Dint (127.0.0.1) 1009.39ms\n"
     ]
    },
    {
     "name": "stdout",
     "output_type": "stream",
     "text": [
      "Error calling LLM for text: 'dan akhire di tinggal rabi lur wkwkw...'. Error: 404 POST https://generativelanguage.googleapis.com/v1beta/models/gemini-pro:generateContent?%24alt=json%3Benum-encoding%3Dint: models/gemini-pro is not found for API version v1beta, or is not supported for generateContent. Call ListModels to see the list of available models and their supported methods.\n"
     ]
    },
    {
     "name": "stderr",
     "output_type": "stream",
     "text": [
      "WARNING:tornado.access:404 POST /v1beta/models/gemini-pro:generateContent?%24alt=json%3Benum-encoding%3Dint (127.0.0.1) 858.68ms\n"
     ]
    },
    {
     "name": "stdout",
     "output_type": "stream",
     "text": [
      "Error calling LLM for text: 'sangat menginspiratif saya bangga jadi orang indon...'. Error: 404 POST https://generativelanguage.googleapis.com/v1beta/models/gemini-pro:generateContent?%24alt=json%3Benum-encoding%3Dint: models/gemini-pro is not found for API version v1beta, or is not supported for generateContent. Call ListModels to see the list of available models and their supported methods.\n"
     ]
    },
    {
     "name": "stderr",
     "output_type": "stream",
     "text": [
      "WARNING:tornado.access:404 POST /v1beta/models/gemini-pro:generateContent?%24alt=json%3Benum-encoding%3Dint (127.0.0.1) 988.07ms\n"
     ]
    },
    {
     "name": "stdout",
     "output_type": "stream",
     "text": [
      "Error calling LLM for text: 'orang seperti harus buat mesin mungut suara yang t...'. Error: 404 POST https://generativelanguage.googleapis.com/v1beta/models/gemini-pro:generateContent?%24alt=json%3Benum-encoding%3Dint: models/gemini-pro is not found for API version v1beta, or is not supported for generateContent. Call ListModels to see the list of available models and their supported methods.\n"
     ]
    },
    {
     "name": "stderr",
     "output_type": "stream",
     "text": [
      "WARNING:tornado.access:404 POST /v1beta/models/gemini-pro:generateContent?%24alt=json%3Benum-encoding%3Dint (127.0.0.1) 535.04ms\n"
     ]
    },
    {
     "name": "stdout",
     "output_type": "stream",
     "text": [
      "Error calling LLM for text: 'barang oke sesuai pesan...'. Error: 404 POST https://generativelanguage.googleapis.com/v1beta/models/gemini-pro:generateContent?%24alt=json%3Benum-encoding%3Dint: models/gemini-pro is not found for API version v1beta, or is not supported for generateContent. Call ListModels to see the list of available models and their supported methods.\n"
     ]
    },
    {
     "name": "stderr",
     "output_type": "stream",
     "text": [
      "WARNING:tornado.access:404 POST /v1beta/models/gemini-pro:generateContent?%24alt=json%3Benum-encoding%3Dint (127.0.0.1) 909.17ms\n"
     ]
    },
    {
     "name": "stdout",
     "output_type": "stream",
     "text": [
      "Error calling LLM for text: 'aku lang dan segera ingat asa yang rasa saat ketub...'. Error: 404 POST https://generativelanguage.googleapis.com/v1beta/models/gemini-pro:generateContent?%24alt=json%3Benum-encoding%3Dint: models/gemini-pro is not found for API version v1beta, or is not supported for generateContent. Call ListModels to see the list of available models and their supported methods.\n"
     ]
    },
    {
     "name": "stderr",
     "output_type": "stream",
     "text": [
      "WARNING:tornado.access:404 POST /v1beta/models/gemini-pro:generateContent?%24alt=json%3Benum-encoding%3Dint (127.0.0.1) 782.96ms\n"
     ]
    },
    {
     "name": "stdout",
     "output_type": "stream",
     "text": [
      "Error calling LLM for text: 'cara mereka laku orang itu jijik...'. Error: 404 POST https://generativelanguage.googleapis.com/v1beta/models/gemini-pro:generateContent?%24alt=json%3Benum-encoding%3Dint: models/gemini-pro is not found for API version v1beta, or is not supported for generateContent. Call ListModels to see the list of available models and their supported methods.\n"
     ]
    },
    {
     "name": "stderr",
     "output_type": "stream",
     "text": [
      "WARNING:tornado.access:404 POST /v1beta/models/gemini-pro:generateContent?%24alt=json%3Benum-encoding%3Dint (127.0.0.1) 682.10ms\n"
     ]
    },
    {
     "name": "stdout",
     "output_type": "stream",
     "text": [
      "Error calling LLM for text: 'rindu tidak ungkap dalam banyakbanyak insan yang a...'. Error: 404 POST https://generativelanguage.googleapis.com/v1beta/models/gemini-pro:generateContent?%24alt=json%3Benum-encoding%3Dint: models/gemini-pro is not found for API version v1beta, or is not supported for generateContent. Call ListModels to see the list of available models and their supported methods.\n"
     ]
    },
    {
     "name": "stderr",
     "output_type": "stream",
     "text": [
      "WARNING:tornado.access:404 POST /v1beta/models/gemini-pro:generateContent?%24alt=json%3Benum-encoding%3Dint (127.0.0.1) 758.05ms\n"
     ]
    },
    {
     "name": "stdout",
     "output_type": "stream",
     "text": [
      "Error calling LLM for text: 'terima kasih...'. Error: 404 POST https://generativelanguage.googleapis.com/v1beta/models/gemini-pro:generateContent?%24alt=json%3Benum-encoding%3Dint: models/gemini-pro is not found for API version v1beta, or is not supported for generateContent. Call ListModels to see the list of available models and their supported methods.\n"
     ]
    },
    {
     "name": "stderr",
     "output_type": "stream",
     "text": [
      "WARNING:tornado.access:404 POST /v1beta/models/gemini-pro:generateContent?%24alt=json%3Benum-encoding%3Dint (127.0.0.1) 731.64ms\n"
     ]
    },
    {
     "name": "stdout",
     "output_type": "stream",
     "text": [
      "Error calling LLM for text: 'tidak itu keren tidak perlu untuk anda tahu mulai ...'. Error: 404 POST https://generativelanguage.googleapis.com/v1beta/models/gemini-pro:generateContent?%24alt=json%3Benum-encoding%3Dint: models/gemini-pro is not found for API version v1beta, or is not supported for generateContent. Call ListModels to see the list of available models and their supported methods.\n"
     ]
    },
    {
     "name": "stderr",
     "output_type": "stream",
     "text": [
      "WARNING:tornado.access:404 POST /v1beta/models/gemini-pro:generateContent?%24alt=json%3Benum-encoding%3Dint (127.0.0.1) 682.08ms\n"
     ]
    },
    {
     "name": "stdout",
     "output_type": "stream",
     "text": [
      "Error calling LLM for text: 'tidakenak sangat bada ingin pulang tapi kerjan mas...'. Error: 404 POST https://generativelanguage.googleapis.com/v1beta/models/gemini-pro:generateContent?%24alt=json%3Benum-encoding%3Dint: models/gemini-pro is not found for API version v1beta, or is not supported for generateContent. Call ListModels to see the list of available models and their supported methods.\n"
     ]
    },
    {
     "name": "stderr",
     "output_type": "stream",
     "text": [
      "WARNING:tornado.access:404 POST /v1beta/models/gemini-pro:generateContent?%24alt=json%3Benum-encoding%3Dint (127.0.0.1) 732.70ms\n"
     ]
    },
    {
     "name": "stdout",
     "output_type": "stream",
     "text": [
      "Error calling LLM for text: 'username poin artis masa kini wkwk alhamdulillah s...'. Error: 404 POST https://generativelanguage.googleapis.com/v1beta/models/gemini-pro:generateContent?%24alt=json%3Benum-encoding%3Dint: models/gemini-pro is not found for API version v1beta, or is not supported for generateContent. Call ListModels to see the list of available models and their supported methods.\n"
     ]
    },
    {
     "name": "stderr",
     "output_type": "stream",
     "text": [
      "WARNING:tornado.access:404 POST /v1beta/models/gemini-pro:generateContent?%24alt=json%3Benum-encoding%3Dint (127.0.0.1) 686.37ms\n"
     ]
    },
    {
     "name": "stdout",
     "output_type": "stream",
     "text": [
      "Error calling LLM for text: 'innalillahi wa inna ilaihi rajiun mohon doa temen2...'. Error: 404 POST https://generativelanguage.googleapis.com/v1beta/models/gemini-pro:generateContent?%24alt=json%3Benum-encoding%3Dint: models/gemini-pro is not found for API version v1beta, or is not supported for generateContent. Call ListModels to see the list of available models and their supported methods.\n"
     ]
    },
    {
     "name": "stderr",
     "output_type": "stream",
     "text": [
      "WARNING:tornado.access:404 POST /v1beta/models/gemini-pro:generateContent?%24alt=json%3Benum-encoding%3Dint (127.0.0.1) 732.50ms\n"
     ]
    },
    {
     "name": "stdout",
     "output_type": "stream",
     "text": [
      "Error calling LLM for text: 'username reply1988 im not robot fight for my way i...'. Error: 404 POST https://generativelanguage.googleapis.com/v1beta/models/gemini-pro:generateContent?%24alt=json%3Benum-encoding%3Dint: models/gemini-pro is not found for API version v1beta, or is not supported for generateContent. Call ListModels to see the list of available models and their supported methods.\n"
     ]
    },
    {
     "name": "stderr",
     "output_type": "stream",
     "text": [
      "WARNING:tornado.access:404 POST /v1beta/models/gemini-pro:generateContent?%24alt=json%3Benum-encoding%3Dint (127.0.0.1) 707.73ms\n"
     ]
    },
    {
     "name": "stdout",
     "output_type": "stream",
     "text": [
      "Error calling LLM for text: 'saya rasa ragu untuk komentar karena saya tidak in...'. Error: 404 POST https://generativelanguage.googleapis.com/v1beta/models/gemini-pro:generateContent?%24alt=json%3Benum-encoding%3Dint: models/gemini-pro is not found for API version v1beta, or is not supported for generateContent. Call ListModels to see the list of available models and their supported methods.\n"
     ]
    },
    {
     "name": "stderr",
     "output_type": "stream",
     "text": [
      "WARNING:tornado.access:404 POST /v1beta/models/gemini-pro:generateContent?%24alt=json%3Benum-encoding%3Dint (127.0.0.1) 833.63ms\n"
     ]
    },
    {
     "name": "stdout",
     "output_type": "stream",
     "text": [
      "Error calling LLM for text: 'saya asli jatim tuju bngt kl musik sunda jawa atau...'. Error: 404 POST https://generativelanguage.googleapis.com/v1beta/models/gemini-pro:generateContent?%24alt=json%3Benum-encoding%3Dint: models/gemini-pro is not found for API version v1beta, or is not supported for generateContent. Call ListModels to see the list of available models and their supported methods.\n"
     ]
    },
    {
     "name": "stderr",
     "output_type": "stream",
     "text": [
      "WARNING:tornado.access:404 POST /v1beta/models/gemini-pro:generateContent?%24alt=json%3Benum-encoding%3Dint (127.0.0.1) 610.93ms\n"
     ]
    },
    {
     "name": "stdout",
     "output_type": "stream",
     "text": [
      "Error calling LLM for text: 'coba tebak berapa kali dia megang rambut nya...'. Error: 404 POST https://generativelanguage.googleapis.com/v1beta/models/gemini-pro:generateContent?%24alt=json%3Benum-encoding%3Dint: models/gemini-pro is not found for API version v1beta, or is not supported for generateContent. Call ListModels to see the list of available models and their supported methods.\n"
     ]
    },
    {
     "name": "stderr",
     "output_type": "stream",
     "text": [
      "WARNING:tornado.access:404 POST /v1beta/models/gemini-pro:generateContent?%24alt=json%3Benum-encoding%3Dint (127.0.0.1) 809.45ms\n"
     ]
    },
    {
     "name": "stdout",
     "output_type": "stream",
     "text": [
      "Error calling LLM for text: 'saya gemar dengar lagulagu cover karena udah famil...'. Error: 404 POST https://generativelanguage.googleapis.com/v1beta/models/gemini-pro:generateContent?%24alt=json%3Benum-encoding%3Dint: models/gemini-pro is not found for API version v1beta, or is not supported for generateContent. Call ListModels to see the list of available models and their supported methods.\n"
     ]
    },
    {
     "name": "stderr",
     "output_type": "stream",
     "text": [
      "WARNING:tornado.access:404 POST /v1beta/models/gemini-pro:generateContent?%24alt=json%3Benum-encoding%3Dint (127.0.0.1) 782.56ms\n"
     ]
    },
    {
     "name": "stdout",
     "output_type": "stream",
     "text": [
      "Error calling LLM for text: 'buah indah atas indah apabila aku bisa nikmat punc...'. Error: 404 POST https://generativelanguage.googleapis.com/v1beta/models/gemini-pro:generateContent?%24alt=json%3Benum-encoding%3Dint: models/gemini-pro is not found for API version v1beta, or is not supported for generateContent. Call ListModels to see the list of available models and their supported methods.\n"
     ]
    },
    {
     "name": "stderr",
     "output_type": "stream",
     "text": [
      "WARNING:tornado.access:404 POST /v1beta/models/gemini-pro:generateContent?%24alt=json%3Benum-encoding%3Dint (127.0.0.1) 706.98ms\n"
     ]
    },
    {
     "name": "stdout",
     "output_type": "stream",
     "text": [
      "Error calling LLM for text: 'ketika saya libat dalam celaka mobil november lalu...'. Error: 404 POST https://generativelanguage.googleapis.com/v1beta/models/gemini-pro:generateContent?%24alt=json%3Benum-encoding%3Dint: models/gemini-pro is not found for API version v1beta, or is not supported for generateContent. Call ListModels to see the list of available models and their supported methods.\n"
     ]
    },
    {
     "name": "stderr",
     "output_type": "stream",
     "text": [
      "WARNING:tornado.access:404 POST /v1beta/models/gemini-pro:generateContent?%24alt=json%3Benum-encoding%3Dint (127.0.0.1) 707.04ms\n"
     ]
    },
    {
     "name": "stdout",
     "output_type": "stream",
     "text": [
      "Error calling LLM for text: 'menit 1342 pas tangan yg di belakang jaket merah u...'. Error: 404 POST https://generativelanguage.googleapis.com/v1beta/models/gemini-pro:generateContent?%24alt=json%3Benum-encoding%3Dint: models/gemini-pro is not found for API version v1beta, or is not supported for generateContent. Call ListModels to see the list of available models and their supported methods.\n"
     ]
    },
    {
     "name": "stderr",
     "output_type": "stream",
     "text": [
      "WARNING:tornado.access:404 POST /v1beta/models/gemini-pro:generateContent?%24alt=json%3Benum-encoding%3Dint (127.0.0.1) 732.20ms\n"
     ]
    },
    {
     "name": "stdout",
     "output_type": "stream",
     "text": [
      "Error calling LLM for text: 'dr daerah bisa muncul karya dahsyat ini mantab pro...'. Error: 404 POST https://generativelanguage.googleapis.com/v1beta/models/gemini-pro:generateContent?%24alt=json%3Benum-encoding%3Dint: models/gemini-pro is not found for API version v1beta, or is not supported for generateContent. Call ListModels to see the list of available models and their supported methods.\n"
     ]
    },
    {
     "name": "stderr",
     "output_type": "stream",
     "text": [
      "WARNING:tornado.access:404 POST /v1beta/models/gemini-pro:generateContent?%24alt=json%3Benum-encoding%3Dint (127.0.0.1) 657.15ms\n"
     ]
    },
    {
     "name": "stdout",
     "output_type": "stream",
     "text": [
      "Error calling LLM for text: 'cinta mulai tutup logika dan tiup sukma ke dalam h...'. Error: 404 POST https://generativelanguage.googleapis.com/v1beta/models/gemini-pro:generateContent?%24alt=json%3Benum-encoding%3Dint: models/gemini-pro is not found for API version v1beta, or is not supported for generateContent. Call ListModels to see the list of available models and their supported methods.\n"
     ]
    },
    {
     "name": "stderr",
     "output_type": "stream",
     "text": [
      "WARNING:tornado.access:404 POST /v1beta/models/gemini-pro:generateContent?%24alt=json%3Benum-encoding%3Dint (127.0.0.1) 809.10ms\n"
     ]
    },
    {
     "name": "stdout",
     "output_type": "stream",
     "text": [
      "Error calling LLM for text: 'satu karena penasaran pisah karena sudah tau kuran...'. Error: 404 POST https://generativelanguage.googleapis.com/v1beta/models/gemini-pro:generateContent?%24alt=json%3Benum-encoding%3Dint: models/gemini-pro is not found for API version v1beta, or is not supported for generateContent. Call ListModels to see the list of available models and their supported methods.\n"
     ]
    },
    {
     "name": "stderr",
     "output_type": "stream",
     "text": [
      "WARNING:tornado.access:404 POST /v1beta/models/gemini-pro:generateContent?%24alt=json%3Benum-encoding%3Dint (127.0.0.1) 632.46ms\n"
     ]
    },
    {
     "name": "stdout",
     "output_type": "stream",
     "text": [
      "Error calling LLM for text: 'denger lagu ga asa air mata netes tambah liat alur...'. Error: 404 POST https://generativelanguage.googleapis.com/v1beta/models/gemini-pro:generateContent?%24alt=json%3Benum-encoding%3Dint: models/gemini-pro is not found for API version v1beta, or is not supported for generateContent. Call ListModels to see the list of available models and their supported methods.\n"
     ]
    },
    {
     "name": "stderr",
     "output_type": "stream",
     "text": [
      "WARNING:tornado.access:404 POST /v1beta/models/gemini-pro:generateContent?%24alt=json%3Benum-encoding%3Dint (127.0.0.1) 837.26ms\n"
     ]
    },
    {
     "name": "stdout",
     "output_type": "stream",
     "text": [
      "Error calling LLM for text: 'rs4000 off pada xps laptop untuk bisnis semua guna...'. Error: 404 POST https://generativelanguage.googleapis.com/v1beta/models/gemini-pro:generateContent?%24alt=json%3Benum-encoding%3Dint: models/gemini-pro is not found for API version v1beta, or is not supported for generateContent. Call ListModels to see the list of available models and their supported methods.\n"
     ]
    },
    {
     "name": "stderr",
     "output_type": "stream",
     "text": [
      "WARNING:tornado.access:404 POST /v1beta/models/gemini-pro:generateContent?%24alt=json%3Benum-encoding%3Dint (127.0.0.1) 657.07ms\n"
     ]
    },
    {
     "name": "stdout",
     "output_type": "stream",
     "text": [
      "Error calling LLM for text: 'jazza kallah khaira...'. Error: 404 POST https://generativelanguage.googleapis.com/v1beta/models/gemini-pro:generateContent?%24alt=json%3Benum-encoding%3Dint: models/gemini-pro is not found for API version v1beta, or is not supported for generateContent. Call ListModels to see the list of available models and their supported methods.\n"
     ]
    },
    {
     "name": "stderr",
     "output_type": "stream",
     "text": [
      "WARNING:tornado.access:404 POST /v1beta/models/gemini-pro:generateContent?%24alt=json%3Benum-encoding%3Dint (127.0.0.1) 885.14ms\n"
     ]
    },
    {
     "name": "stdout",
     "output_type": "stream",
     "text": [
      "Error calling LLM for text: 'kami beli 12 laptop dell untuk kantor kami dari 9 ...'. Error: 404 POST https://generativelanguage.googleapis.com/v1beta/models/gemini-pro:generateContent?%24alt=json%3Benum-encoding%3Dint: models/gemini-pro is not found for API version v1beta, or is not supported for generateContent. Call ListModels to see the list of available models and their supported methods.\n"
     ]
    },
    {
     "name": "stderr",
     "output_type": "stream",
     "text": [
      "WARNING:tornado.access:404 POST /v1beta/models/gemini-pro:generateContent?%24alt=json%3Benum-encoding%3Dint (127.0.0.1) 632.72ms\n"
     ]
    },
    {
     "name": "stdout",
     "output_type": "stream",
     "text": [
      "Error calling LLM for text: 'pan dadi yutubers alat tidak dukung...'. Error: 404 POST https://generativelanguage.googleapis.com/v1beta/models/gemini-pro:generateContent?%24alt=json%3Benum-encoding%3Dint: models/gemini-pro is not found for API version v1beta, or is not supported for generateContent. Call ListModels to see the list of available models and their supported methods.\n"
     ]
    },
    {
     "name": "stderr",
     "output_type": "stream",
     "text": [
      "WARNING:tornado.access:404 POST /v1beta/models/gemini-pro:generateContent?%24alt=json%3Benum-encoding%3Dint (127.0.0.1) 783.13ms\n"
     ]
    },
    {
     "name": "stdout",
     "output_type": "stream",
     "text": [
      "Error calling LLM for text: 'jadi tau arti lihat terjemah dari lagu...'. Error: 404 POST https://generativelanguage.googleapis.com/v1beta/models/gemini-pro:generateContent?%24alt=json%3Benum-encoding%3Dint: models/gemini-pro is not found for API version v1beta, or is not supported for generateContent. Call ListModels to see the list of available models and their supported methods.\n"
     ]
    },
    {
     "name": "stderr",
     "output_type": "stream",
     "text": [
      "WARNING:tornado.access:404 POST /v1beta/models/gemini-pro:generateContent?%24alt=json%3Benum-encoding%3Dint (127.0.0.1) 733.52ms\n"
     ]
    },
    {
     "name": "stdout",
     "output_type": "stream",
     "text": [
      "Error calling LLM for text: 'mkd kan sudah lapor hukum cuma tegur bangsat kayak...'. Error: 404 POST https://generativelanguage.googleapis.com/v1beta/models/gemini-pro:generateContent?%24alt=json%3Benum-encoding%3Dint: models/gemini-pro is not found for API version v1beta, or is not supported for generateContent. Call ListModels to see the list of available models and their supported methods.\n"
     ]
    },
    {
     "name": "stderr",
     "output_type": "stream",
     "text": [
      "WARNING:tornado.access:404 POST /v1beta/models/gemini-pro:generateContent?%24alt=json%3Benum-encoding%3Dint (127.0.0.1) 733.00ms\n"
     ]
    },
    {
     "name": "stdout",
     "output_type": "stream",
     "text": [
      "Error calling LLM for text: 'teh knpa dih smua video hk bsa kami download...'. Error: 404 POST https://generativelanguage.googleapis.com/v1beta/models/gemini-pro:generateContent?%24alt=json%3Benum-encoding%3Dint: models/gemini-pro is not found for API version v1beta, or is not supported for generateContent. Call ListModels to see the list of available models and their supported methods.\n"
     ]
    },
    {
     "name": "stderr",
     "output_type": "stream",
     "text": [
      "WARNING:tornado.access:404 POST /v1beta/models/gemini-pro:generateContent?%24alt=json%3Benum-encoding%3Dint (127.0.0.1) 657.38ms\n"
     ]
    },
    {
     "name": "stdout",
     "output_type": "stream",
     "text": [
      "Error calling LLM for text: 'elon musk saya pikir jika anda biar trump kembali ...'. Error: 404 POST https://generativelanguage.googleapis.com/v1beta/models/gemini-pro:generateContent?%24alt=json%3Benum-encoding%3Dint: models/gemini-pro is not found for API version v1beta, or is not supported for generateContent. Call ListModels to see the list of available models and their supported methods.\n"
     ]
    },
    {
     "name": "stderr",
     "output_type": "stream",
     "text": [
      "WARNING:tornado.access:404 POST /v1beta/models/gemini-pro:generateContent?%24alt=json%3Benum-encoding%3Dint (127.0.0.1) 913.02ms\n"
     ]
    },
    {
     "name": "stdout",
     "output_type": "stream",
     "text": [
      "Error calling LLM for text: 'biar lihat rame biar lihat riah biar lihat fasilit...'. Error: 404 POST https://generativelanguage.googleapis.com/v1beta/models/gemini-pro:generateContent?%24alt=json%3Benum-encoding%3Dint: models/gemini-pro is not found for API version v1beta, or is not supported for generateContent. Call ListModels to see the list of available models and their supported methods.\n"
     ]
    },
    {
     "name": "stderr",
     "output_type": "stream",
     "text": [
      "WARNING:tornado.access:404 POST /v1beta/models/gemini-pro:generateContent?%24alt=json%3Benum-encoding%3Dint (127.0.0.1) 536.31ms\n"
     ]
    },
    {
     "name": "stdout",
     "output_type": "stream",
     "text": [
      "Error calling LLM for text: 'ketika beliau jadi gubernur dki jakarta giat blusu...'. Error: 404 POST https://generativelanguage.googleapis.com/v1beta/models/gemini-pro:generateContent?%24alt=json%3Benum-encoding%3Dint: models/gemini-pro is not found for API version v1beta, or is not supported for generateContent. Call ListModels to see the list of available models and their supported methods.\n"
     ]
    },
    {
     "name": "stderr",
     "output_type": "stream",
     "text": [
      "WARNING:tornado.access:404 POST /v1beta/models/gemini-pro:generateContent?%24alt=json%3Benum-encoding%3Dint (127.0.0.1) 1062.87ms\n"
     ]
    },
    {
     "name": "stdout",
     "output_type": "stream",
     "text": [
      "Error calling LLM for text: 'kaya asli hantu saya jadi takut...'. Error: 404 POST https://generativelanguage.googleapis.com/v1beta/models/gemini-pro:generateContent?%24alt=json%3Benum-encoding%3Dint: models/gemini-pro is not found for API version v1beta, or is not supported for generateContent. Call ListModels to see the list of available models and their supported methods.\n"
     ]
    },
    {
     "name": "stderr",
     "output_type": "stream",
     "text": [
      "WARNING:tornado.access:404 POST /v1beta/models/gemini-pro:generateContent?%24alt=json%3Benum-encoding%3Dint (127.0.0.1) 555.86ms\n"
     ]
    },
    {
     "name": "stdout",
     "output_type": "stream",
     "text": [
      "Error calling LLM for text: 'cerita dengan a lain cerita dengan b lain cerita d...'. Error: 404 POST https://generativelanguage.googleapis.com/v1beta/models/gemini-pro:generateContent?%24alt=json%3Benum-encoding%3Dint: models/gemini-pro is not found for API version v1beta, or is not supported for generateContent. Call ListModels to see the list of available models and their supported methods.\n"
     ]
    },
    {
     "name": "stderr",
     "output_type": "stream",
     "text": [
      "WARNING:tornado.access:404 POST /v1beta/models/gemini-pro:generateContent?%24alt=json%3Benum-encoding%3Dint (127.0.0.1) 939.93ms\n"
     ]
    },
    {
     "name": "stdout",
     "output_type": "stream",
     "text": [
      "Error calling LLM for text: 'wanita ras trem bodoh diri bodoh idiot amp sumpah ...'. Error: 404 POST https://generativelanguage.googleapis.com/v1beta/models/gemini-pro:generateContent?%24alt=json%3Benum-encoding%3Dint: models/gemini-pro is not found for API version v1beta, or is not supported for generateContent. Call ListModels to see the list of available models and their supported methods.\n"
     ]
    },
    {
     "name": "stderr",
     "output_type": "stream",
     "text": [
      "WARNING:tornado.access:404 POST /v1beta/models/gemini-pro:generateContent?%24alt=json%3Benum-encoding%3Dint (127.0.0.1) 1446.07ms\n"
     ]
    },
    {
     "name": "stdout",
     "output_type": "stream",
     "text": [
      "Error calling LLM for text: 'yaudah tuh mulai dari situ aku hopeless pdhl niat ...'. Error: 404 POST https://generativelanguage.googleapis.com/v1beta/models/gemini-pro:generateContent?%24alt=json%3Benum-encoding%3Dint: models/gemini-pro is not found for API version v1beta, or is not supported for generateContent. Call ListModels to see the list of available models and their supported methods.\n"
     ]
    },
    {
     "name": "stderr",
     "output_type": "stream",
     "text": [
      "WARNING:tornado.access:404 POST /v1beta/models/gemini-pro:generateContent?%24alt=json%3Benum-encoding%3Dint (127.0.0.1) 985.55ms\n"
     ]
    },
    {
     "name": "stdout",
     "output_type": "stream",
     "text": [
      "Error calling LLM for text: 'status sosial media status didik buat sadar diri c...'. Error: 404 POST https://generativelanguage.googleapis.com/v1beta/models/gemini-pro:generateContent?%24alt=json%3Benum-encoding%3Dint: models/gemini-pro is not found for API version v1beta, or is not supported for generateContent. Call ListModels to see the list of available models and their supported methods.\n"
     ]
    },
    {
     "name": "stderr",
     "output_type": "stream",
     "text": [
      "WARNING:tornado.access:404 POST /v1beta/models/gemini-pro:generateContent?%24alt=json%3Benum-encoding%3Dint (127.0.0.1) 657.78ms\n"
     ]
    },
    {
     "name": "stdout",
     "output_type": "stream",
     "text": [
      "Error calling LLM for text: 'mau marah aja skg udah males...'. Error: 404 POST https://generativelanguage.googleapis.com/v1beta/models/gemini-pro:generateContent?%24alt=json%3Benum-encoding%3Dint: models/gemini-pro is not found for API version v1beta, or is not supported for generateContent. Call ListModels to see the list of available models and their supported methods.\n"
     ]
    },
    {
     "name": "stderr",
     "output_type": "stream",
     "text": [
      "WARNING:tornado.access:404 POST /v1beta/models/gemini-pro:generateContent?%24alt=json%3Benum-encoding%3Dint (127.0.0.1) 964.44ms\n"
     ]
    },
    {
     "name": "stdout",
     "output_type": "stream",
     "text": [
      "Error calling LLM for text: 'ya allah tuhan ku saya tidak kuat baca komentar te...'. Error: 404 POST https://generativelanguage.googleapis.com/v1beta/models/gemini-pro:generateContent?%24alt=json%3Benum-encoding%3Dint: models/gemini-pro is not found for API version v1beta, or is not supported for generateContent. Call ListModels to see the list of available models and their supported methods.\n"
     ]
    },
    {
     "name": "stderr",
     "output_type": "stream",
     "text": [
      "WARNING:tornado.access:404 POST /v1beta/models/gemini-pro:generateContent?%24alt=json%3Benum-encoding%3Dint (127.0.0.1) 506.04ms\n"
     ]
    },
    {
     "name": "stdout",
     "output_type": "stream",
     "text": [
      "Error calling LLM for text: 'soal mahar itu urus partai bapak jangan bawa2 isla...'. Error: 404 POST https://generativelanguage.googleapis.com/v1beta/models/gemini-pro:generateContent?%24alt=json%3Benum-encoding%3Dint: models/gemini-pro is not found for API version v1beta, or is not supported for generateContent. Call ListModels to see the list of available models and their supported methods.\n"
     ]
    },
    {
     "name": "stderr",
     "output_type": "stream",
     "text": [
      "WARNING:tornado.access:404 POST /v1beta/models/gemini-pro:generateContent?%24alt=json%3Benum-encoding%3Dint (127.0.0.1) 962.01ms\n"
     ]
    },
    {
     "name": "stdout",
     "output_type": "stream",
     "text": [
      "Error calling LLM for text: 'layan langgan anda keri...'. Error: 404 POST https://generativelanguage.googleapis.com/v1beta/models/gemini-pro:generateContent?%24alt=json%3Benum-encoding%3Dint: models/gemini-pro is not found for API version v1beta, or is not supported for generateContent. Call ListModels to see the list of available models and their supported methods.\n"
     ]
    },
    {
     "name": "stderr",
     "output_type": "stream",
     "text": [
      "WARNING:tornado.access:404 POST /v1beta/models/gemini-pro:generateContent?%24alt=json%3Benum-encoding%3Dint (127.0.0.1) 508.32ms\n"
     ]
    },
    {
     "name": "stdout",
     "output_type": "stream",
     "text": [
      "Error calling LLM for text: 'congratulations alyarizkypematasarii runner up ii ...'. Error: 404 POST https://generativelanguage.googleapis.com/v1beta/models/gemini-pro:generateContent?%24alt=json%3Benum-encoding%3Dint: models/gemini-pro is not found for API version v1beta, or is not supported for generateContent. Call ListModels to see the list of available models and their supported methods.\n"
     ]
    },
    {
     "name": "stderr",
     "output_type": "stream",
     "text": [
      "WARNING:tornado.access:404 POST /v1beta/models/gemini-pro:generateContent?%24alt=json%3Benum-encoding%3Dint (127.0.0.1) 985.32ms\n"
     ]
    },
    {
     "name": "stdout",
     "output_type": "stream",
     "text": [
      "Error calling LLM for text: 'emas rapi dan amanhny kirim yg agak lewat krn sdh ...'. Error: 404 POST https://generativelanguage.googleapis.com/v1beta/models/gemini-pro:generateContent?%24alt=json%3Benum-encoding%3Dint: models/gemini-pro is not found for API version v1beta, or is not supported for generateContent. Call ListModels to see the list of available models and their supported methods.\n"
     ]
    },
    {
     "name": "stderr",
     "output_type": "stream",
     "text": [
      "WARNING:tornado.access:404 POST /v1beta/models/gemini-pro:generateContent?%24alt=json%3Benum-encoding%3Dint (127.0.0.1) 632.23ms\n"
     ]
    },
    {
     "name": "stdout",
     "output_type": "stream",
     "text": [
      "Error calling LLM for text: 'dulu tiap lahan kosong bisa sulap jadi lapang seka...'. Error: 404 POST https://generativelanguage.googleapis.com/v1beta/models/gemini-pro:generateContent?%24alt=json%3Benum-encoding%3Dint: models/gemini-pro is not found for API version v1beta, or is not supported for generateContent. Call ListModels to see the list of available models and their supported methods.\n"
     ]
    },
    {
     "name": "stderr",
     "output_type": "stream",
     "text": [
      "WARNING:tornado.access:404 POST /v1beta/models/gemini-pro:generateContent?%24alt=json%3Benum-encoding%3Dint (127.0.0.1) 783.12ms\n"
     ]
    },
    {
     "name": "stdout",
     "output_type": "stream",
     "text": [
      "Error calling LLM for text: 'sumpah dulu gue anti banget sama tiktok kayak gede...'. Error: 404 POST https://generativelanguage.googleapis.com/v1beta/models/gemini-pro:generateContent?%24alt=json%3Benum-encoding%3Dint: models/gemini-pro is not found for API version v1beta, or is not supported for generateContent. Call ListModels to see the list of available models and their supported methods.\n"
     ]
    },
    {
     "name": "stderr",
     "output_type": "stream",
     "text": [
      "WARNING:tornado.access:404 POST /v1beta/models/gemini-pro:generateContent?%24alt=json%3Benum-encoding%3Dint (127.0.0.1) 712.98ms\n"
     ]
    },
    {
     "name": "stdout",
     "output_type": "stream",
     "text": [
      "Error calling LLM for text: 'tingkat pajak di harris county dari tahun 20 sampa...'. Error: 404 POST https://generativelanguage.googleapis.com/v1beta/models/gemini-pro:generateContent?%24alt=json%3Benum-encoding%3Dint: models/gemini-pro is not found for API version v1beta, or is not supported for generateContent. Call ListModels to see the list of available models and their supported methods.\n"
     ]
    },
    {
     "name": "stderr",
     "output_type": "stream",
     "text": [
      "WARNING:tornado.access:404 POST /v1beta/models/gemini-pro:generateContent?%24alt=json%3Benum-encoding%3Dint (127.0.0.1) 859.92ms\n"
     ]
    },
    {
     "name": "stdout",
     "output_type": "stream",
     "text": [
      "Error calling LLM for text: 'request buaya cinta ani mayuni jamin tranding view...'. Error: 404 POST https://generativelanguage.googleapis.com/v1beta/models/gemini-pro:generateContent?%24alt=json%3Benum-encoding%3Dint: models/gemini-pro is not found for API version v1beta, or is not supported for generateContent. Call ListModels to see the list of available models and their supported methods.\n"
     ]
    },
    {
     "name": "stderr",
     "output_type": "stream",
     "text": [
      "WARNING:tornado.access:404 POST /v1beta/models/gemini-pro:generateContent?%24alt=json%3Benum-encoding%3Dint (127.0.0.1) 1722.44ms\n"
     ]
    },
    {
     "name": "stdout",
     "output_type": "stream",
     "text": [
      "Error calling LLM for text: 'saya asli jawa tengah saya aku klo orang sunda sel...'. Error: 404 POST https://generativelanguage.googleapis.com/v1beta/models/gemini-pro:generateContent?%24alt=json%3Benum-encoding%3Dint: models/gemini-pro is not found for API version v1beta, or is not supported for generateContent. Call ListModels to see the list of available models and their supported methods.\n"
     ]
    },
    {
     "name": "stderr",
     "output_type": "stream",
     "text": [
      "WARNING:tornado.access:404 POST /v1beta/models/gemini-pro:generateContent?%24alt=json%3Benum-encoding%3Dint (127.0.0.1) 788.68ms\n"
     ]
    },
    {
     "name": "stdout",
     "output_type": "stream",
     "text": [
      "Error calling LLM for text: 'siapa yg lihat di tahun 2017...'. Error: 404 POST https://generativelanguage.googleapis.com/v1beta/models/gemini-pro:generateContent?%24alt=json%3Benum-encoding%3Dint: models/gemini-pro is not found for API version v1beta, or is not supported for generateContent. Call ListModels to see the list of available models and their supported methods.\n"
     ]
    },
    {
     "name": "stderr",
     "output_type": "stream",
     "text": [
      "WARNING:tornado.access:404 POST /v1beta/models/gemini-pro:generateContent?%24alt=json%3Benum-encoding%3Dint (127.0.0.1) 736.72ms\n"
     ]
    },
    {
     "name": "stdout",
     "output_type": "stream",
     "text": [
      "Error calling LLM for text: 'pewe gaskins ga sih di dengerin dari nada...'. Error: 404 POST https://generativelanguage.googleapis.com/v1beta/models/gemini-pro:generateContent?%24alt=json%3Benum-encoding%3Dint: models/gemini-pro is not found for API version v1beta, or is not supported for generateContent. Call ListModels to see the list of available models and their supported methods.\n"
     ]
    },
    {
     "name": "stderr",
     "output_type": "stream",
     "text": [
      "WARNING:tornado.access:404 POST /v1beta/models/gemini-pro:generateContent?%24alt=json%3Benum-encoding%3Dint (127.0.0.1) 788.52ms\n"
     ]
    },
    {
     "name": "stdout",
     "output_type": "stream",
     "text": [
      "Error calling LLM for text: 'saya pikir saya akan coba tunjuk beda karena saya ...'. Error: 404 POST https://generativelanguage.googleapis.com/v1beta/models/gemini-pro:generateContent?%24alt=json%3Benum-encoding%3Dint: models/gemini-pro is not found for API version v1beta, or is not supported for generateContent. Call ListModels to see the list of available models and their supported methods.\n"
     ]
    },
    {
     "name": "stderr",
     "output_type": "stream",
     "text": [
      "WARNING:tornado.access:404 POST /v1beta/models/gemini-pro:generateContent?%24alt=json%3Benum-encoding%3Dint (127.0.0.1) 713.94ms\n"
     ]
    },
    {
     "name": "stdout",
     "output_type": "stream",
     "text": [
      "Error calling LLM for text: 'aku ingat diri sendiri atau ingat tentang gairah d...'. Error: 404 POST https://generativelanguage.googleapis.com/v1beta/models/gemini-pro:generateContent?%24alt=json%3Benum-encoding%3Dint: models/gemini-pro is not found for API version v1beta, or is not supported for generateContent. Call ListModels to see the list of available models and their supported methods.\n"
     ]
    },
    {
     "name": "stderr",
     "output_type": "stream",
     "text": [
      "WARNING:tornado.access:404 POST /v1beta/models/gemini-pro:generateContent?%24alt=json%3Benum-encoding%3Dint (127.0.0.1) 889.23ms\n"
     ]
    },
    {
     "name": "stdout",
     "output_type": "stream",
     "text": [
      "Error calling LLM for text: 'red states love linux...'. Error: 404 POST https://generativelanguage.googleapis.com/v1beta/models/gemini-pro:generateContent?%24alt=json%3Benum-encoding%3Dint: models/gemini-pro is not found for API version v1beta, or is not supported for generateContent. Call ListModels to see the list of available models and their supported methods.\n"
     ]
    },
    {
     "name": "stderr",
     "output_type": "stream",
     "text": [
      "WARNING:tornado.access:404 POST /v1beta/models/gemini-pro:generateContent?%24alt=json%3Benum-encoding%3Dint (127.0.0.1) 664.03ms\n"
     ]
    },
    {
     "name": "stdout",
     "output_type": "stream",
     "text": [
      "Error calling LLM for text: 'kisah penuh inspirasi dan motivasi dari keluarga s...'. Error: 404 POST https://generativelanguage.googleapis.com/v1beta/models/gemini-pro:generateContent?%24alt=json%3Benum-encoding%3Dint: models/gemini-pro is not found for API version v1beta, or is not supported for generateContent. Call ListModels to see the list of available models and their supported methods.\n"
     ]
    },
    {
     "name": "stderr",
     "output_type": "stream",
     "text": [
      "WARNING:tornado.access:404 POST /v1beta/models/gemini-pro:generateContent?%24alt=json%3Benum-encoding%3Dint (127.0.0.1) 936.01ms\n"
     ]
    },
    {
     "name": "stdout",
     "output_type": "stream",
     "text": [
      "Error calling LLM for text: 'username hendak masingmasing umat jangan sok lebih...'. Error: 404 POST https://generativelanguage.googleapis.com/v1beta/models/gemini-pro:generateContent?%24alt=json%3Benum-encoding%3Dint: models/gemini-pro is not found for API version v1beta, or is not supported for generateContent. Call ListModels to see the list of available models and their supported methods.\n"
     ]
    },
    {
     "name": "stderr",
     "output_type": "stream",
     "text": [
      "WARNING:tornado.access:404 POST /v1beta/models/gemini-pro:generateContent?%24alt=json%3Benum-encoding%3Dint (127.0.0.1) 708.50ms\n"
     ]
    },
    {
     "name": "stdout",
     "output_type": "stream",
     "text": [
      "Error calling LLM for text: 'gambar celaka itu jijik saya tidak ingin lihat...'. Error: 404 POST https://generativelanguage.googleapis.com/v1beta/models/gemini-pro:generateContent?%24alt=json%3Benum-encoding%3Dint: models/gemini-pro is not found for API version v1beta, or is not supported for generateContent. Call ListModels to see the list of available models and their supported methods.\n"
     ]
    },
    {
     "name": "stderr",
     "output_type": "stream",
     "text": [
      "WARNING:tornado.access:404 POST /v1beta/models/gemini-pro:generateContent?%24alt=json%3Benum-encoding%3Dint (127.0.0.1) 935.33ms\n"
     ]
    },
    {
     "name": "stdout",
     "output_type": "stream",
     "text": [
      "Error calling LLM for text: 'wktu sblm lebaran kmrn sy jg ada kirim paket dr ac...'. Error: 404 POST https://generativelanguage.googleapis.com/v1beta/models/gemini-pro:generateContent?%24alt=json%3Benum-encoding%3Dint: models/gemini-pro is not found for API version v1beta, or is not supported for generateContent. Call ListModels to see the list of available models and their supported methods.\n"
     ]
    },
    {
     "name": "stderr",
     "output_type": "stream",
     "text": [
      "WARNING:tornado.access:404 POST /v1beta/models/gemini-pro:generateContent?%24alt=json%3Benum-encoding%3Dint (127.0.0.1) 560.89ms\n"
     ]
    },
    {
     "name": "stdout",
     "output_type": "stream",
     "text": [
      "Error calling LLM for text: 'konyol bgt mbak komentar anda main ignore aja kira...'. Error: 404 POST https://generativelanguage.googleapis.com/v1beta/models/gemini-pro:generateContent?%24alt=json%3Benum-encoding%3Dint: models/gemini-pro is not found for API version v1beta, or is not supported for generateContent. Call ListModels to see the list of available models and their supported methods.\n"
     ]
    },
    {
     "name": "stderr",
     "output_type": "stream",
     "text": [
      "WARNING:tornado.access:404 POST /v1beta/models/gemini-pro:generateContent?%24alt=json%3Benum-encoding%3Dint (127.0.0.1) 885.49ms\n"
     ]
    },
    {
     "name": "stdout",
     "output_type": "stream",
     "text": [
      "Error calling LLM for text: 'jangan biar orang singgah di hati bila tak maksud ...'. Error: 404 POST https://generativelanguage.googleapis.com/v1beta/models/gemini-pro:generateContent?%24alt=json%3Benum-encoding%3Dint: models/gemini-pro is not found for API version v1beta, or is not supported for generateContent. Call ListModels to see the list of available models and their supported methods.\n"
     ]
    },
    {
     "name": "stderr",
     "output_type": "stream",
     "text": [
      "WARNING:tornado.access:404 POST /v1beta/models/gemini-pro:generateContent?%24alt=json%3Benum-encoding%3Dint (127.0.0.1) 581.76ms\n"
     ]
    },
    {
     "name": "stdout",
     "output_type": "stream",
     "text": [
      "Error calling LLM for text: 'wah gila sih ini lokasi mirip2 selly oal amp...'. Error: 404 POST https://generativelanguage.googleapis.com/v1beta/models/gemini-pro:generateContent?%24alt=json%3Benum-encoding%3Dint: models/gemini-pro is not found for API version v1beta, or is not supported for generateContent. Call ListModels to see the list of available models and their supported methods.\n"
     ]
    },
    {
     "name": "stderr",
     "output_type": "stream",
     "text": [
      "WARNING:tornado.access:404 POST /v1beta/models/gemini-pro:generateContent?%24alt=json%3Benum-encoding%3Dint (127.0.0.1) 835.49ms\n"
     ]
    },
    {
     "name": "stdout",
     "output_type": "stream",
     "text": [
      "Error calling LLM for text: 'saya sengaja henti jenak karena saya harus mundur ...'. Error: 404 POST https://generativelanguage.googleapis.com/v1beta/models/gemini-pro:generateContent?%24alt=json%3Benum-encoding%3Dint: models/gemini-pro is not found for API version v1beta, or is not supported for generateContent. Call ListModels to see the list of available models and their supported methods.\n"
     ]
    },
    {
     "name": "stderr",
     "output_type": "stream",
     "text": [
      "WARNING:tornado.access:404 POST /v1beta/models/gemini-pro:generateContent?%24alt=json%3Benum-encoding%3Dint (127.0.0.1) 758.29ms\n"
     ]
    },
    {
     "name": "stdout",
     "output_type": "stream",
     "text": [
      "Error calling LLM for text: 'sayang saya baru lihat video sekarang...'. Error: 404 POST https://generativelanguage.googleapis.com/v1beta/models/gemini-pro:generateContent?%24alt=json%3Benum-encoding%3Dint: models/gemini-pro is not found for API version v1beta, or is not supported for generateContent. Call ListModels to see the list of available models and their supported methods.\n"
     ]
    },
    {
     "name": "stderr",
     "output_type": "stream",
     "text": [
      "WARNING:tornado.access:404 POST /v1beta/models/gemini-pro:generateContent?%24alt=json%3Benum-encoding%3Dint (127.0.0.1) 657.24ms\n"
     ]
    },
    {
     "name": "stdout",
     "output_type": "stream",
     "text": [
      "Error calling LLM for text: 'salesforce guna oleh for data protection working i...'. Error: 404 POST https://generativelanguage.googleapis.com/v1beta/models/gemini-pro:generateContent?%24alt=json%3Benum-encoding%3Dint: models/gemini-pro is not found for API version v1beta, or is not supported for generateContent. Call ListModels to see the list of available models and their supported methods.\n"
     ]
    },
    {
     "name": "stderr",
     "output_type": "stream",
     "text": [
      "WARNING:tornado.access:404 POST /v1beta/models/gemini-pro:generateContent?%24alt=json%3Benum-encoding%3Dint (127.0.0.1) 582.29ms\n"
     ]
    },
    {
     "name": "stdout",
     "output_type": "stream",
     "text": [
      "Error calling LLM for text: 'sosok jyoti itu apa knp gua bisa jadi secret admir...'. Error: 404 POST https://generativelanguage.googleapis.com/v1beta/models/gemini-pro:generateContent?%24alt=json%3Benum-encoding%3Dint: models/gemini-pro is not found for API version v1beta, or is not supported for generateContent. Call ListModels to see the list of available models and their supported methods.\n"
     ]
    },
    {
     "name": "stderr",
     "output_type": "stream",
     "text": [
      "WARNING:tornado.access:404 POST /v1beta/models/gemini-pro:generateContent?%24alt=json%3Benum-encoding%3Dint (127.0.0.1) 480.92ms\n"
     ]
    },
    {
     "name": "stdout",
     "output_type": "stream",
     "text": [
      "Error calling LLM for text: 'abang pasti pernah komen lanjut di channel ali kew...'. Error: 404 POST https://generativelanguage.googleapis.com/v1beta/models/gemini-pro:generateContent?%24alt=json%3Benum-encoding%3Dint: models/gemini-pro is not found for API version v1beta, or is not supported for generateContent. Call ListModels to see the list of available models and their supported methods.\n"
     ]
    },
    {
     "name": "stderr",
     "output_type": "stream",
     "text": [
      "WARNING:tornado.access:404 POST /v1beta/models/gemini-pro:generateContent?%24alt=json%3Benum-encoding%3Dint (127.0.0.1) 481.39ms\n"
     ]
    },
    {
     "name": "stdout",
     "output_type": "stream",
     "text": [
      "Error calling LLM for text: 'mas double masker masih salah yang bener yang dale...'. Error: 404 POST https://generativelanguage.googleapis.com/v1beta/models/gemini-pro:generateContent?%24alt=json%3Benum-encoding%3Dint: models/gemini-pro is not found for API version v1beta, or is not supported for generateContent. Call ListModels to see the list of available models and their supported methods.\n"
     ]
    },
    {
     "name": "stderr",
     "output_type": "stream",
     "text": [
      "WARNING:tornado.access:404 POST /v1beta/models/gemini-pro:generateContent?%24alt=json%3Benum-encoding%3Dint (127.0.0.1) 934.98ms\n"
     ]
    },
    {
     "name": "stdout",
     "output_type": "stream",
     "text": [
      "Error calling LLM for text: 'ya gin nih klo ada siluman bukber foto kaga ada ya...'. Error: 404 POST https://generativelanguage.googleapis.com/v1beta/models/gemini-pro:generateContent?%24alt=json%3Benum-encoding%3Dint: models/gemini-pro is not found for API version v1beta, or is not supported for generateContent. Call ListModels to see the list of available models and their supported methods.\n"
     ]
    },
    {
     "name": "stderr",
     "output_type": "stream",
     "text": [
      "WARNING:tornado.access:404 POST /v1beta/models/gemini-pro:generateContent?%24alt=json%3Benum-encoding%3Dint (127.0.0.1) 783.68ms\n"
     ]
    },
    {
     "name": "stdout",
     "output_type": "stream",
     "text": [
      "Error calling LLM for text: 'masya allah moga beri sehat dan lancar bang danny ...'. Error: 404 POST https://generativelanguage.googleapis.com/v1beta/models/gemini-pro:generateContent?%24alt=json%3Benum-encoding%3Dint: models/gemini-pro is not found for API version v1beta, or is not supported for generateContent. Call ListModels to see the list of available models and their supported methods.\n"
     ]
    },
    {
     "name": "stderr",
     "output_type": "stream",
     "text": [
      "WARNING:tornado.access:404 POST /v1beta/models/gemini-pro:generateContent?%24alt=json%3Benum-encoding%3Dint (127.0.0.1) 509.65ms\n"
     ]
    },
    {
     "name": "stdout",
     "output_type": "stream",
     "text": [
      "Error calling LLM for text: 'username jaring mati ya tidak bisa buka mobile jkn...'. Error: 404 POST https://generativelanguage.googleapis.com/v1beta/models/gemini-pro:generateContent?%24alt=json%3Benum-encoding%3Dint: models/gemini-pro is not found for API version v1beta, or is not supported for generateContent. Call ListModels to see the list of available models and their supported methods.\n"
     ]
    },
    {
     "name": "stderr",
     "output_type": "stream",
     "text": [
      "WARNING:tornado.access:404 POST /v1beta/models/gemini-pro:generateContent?%24alt=json%3Benum-encoding%3Dint (127.0.0.1) 562.10ms\n"
     ]
    },
    {
     "name": "stdout",
     "output_type": "stream",
     "text": [
      "Error calling LLM for text: 'hmmm ya mungkin neng kalo kasih kado tapi kalo bua...'. Error: 404 POST https://generativelanguage.googleapis.com/v1beta/models/gemini-pro:generateContent?%24alt=json%3Benum-encoding%3Dint: models/gemini-pro is not found for API version v1beta, or is not supported for generateContent. Call ListModels to see the list of available models and their supported methods.\n"
     ]
    },
    {
     "name": "stderr",
     "output_type": "stream",
     "text": [
      "WARNING:tornado.access:404 POST /v1beta/models/gemini-pro:generateContent?%24alt=json%3Benum-encoding%3Dint (127.0.0.1) 459.64ms\n"
     ]
    },
    {
     "name": "stdout",
     "output_type": "stream",
     "text": [
      "Error calling LLM for text: 'apalagi saya ini mau ngelakuin tapi takut entar pa...'. Error: 404 POST https://generativelanguage.googleapis.com/v1beta/models/gemini-pro:generateContent?%24alt=json%3Benum-encoding%3Dint: models/gemini-pro is not found for API version v1beta, or is not supported for generateContent. Call ListModels to see the list of available models and their supported methods.\n"
     ]
    },
    {
     "name": "stderr",
     "output_type": "stream",
     "text": [
      "WARNING:tornado.access:404 POST /v1beta/models/gemini-pro:generateContent?%24alt=json%3Benum-encoding%3Dint (127.0.0.1) 484.52ms\n"
     ]
    },
    {
     "name": "stdout",
     "output_type": "stream",
     "text": [
      "Error calling LLM for text: 'pria yang sangat mabuk yang saling hasut untuk kel...'. Error: 404 POST https://generativelanguage.googleapis.com/v1beta/models/gemini-pro:generateContent?%24alt=json%3Benum-encoding%3Dint: models/gemini-pro is not found for API version v1beta, or is not supported for generateContent. Call ListModels to see the list of available models and their supported methods.\n"
     ]
    },
    {
     "name": "stderr",
     "output_type": "stream",
     "text": [
      "WARNING:tornado.access:404 POST /v1beta/models/gemini-pro:generateContent?%24alt=json%3Benum-encoding%3Dint (127.0.0.1) 460.54ms\n"
     ]
    },
    {
     "name": "stdout",
     "output_type": "stream",
     "text": [
      "Error calling LLM for text: 'siapa bilang pilkada tidak panas ini bukti ada yg ...'. Error: 404 POST https://generativelanguage.googleapis.com/v1beta/models/gemini-pro:generateContent?%24alt=json%3Benum-encoding%3Dint: models/gemini-pro is not found for API version v1beta, or is not supported for generateContent. Call ListModels to see the list of available models and their supported methods.\n"
     ]
    },
    {
     "name": "stderr",
     "output_type": "stream",
     "text": [
      "WARNING:tornado.access:404 POST /v1beta/models/gemini-pro:generateContent?%24alt=json%3Benum-encoding%3Dint (127.0.0.1) 840.24ms\n"
     ]
    },
    {
     "name": "stdout",
     "output_type": "stream",
     "text": [
      "Error calling LLM for text: 'pasti km akan pikir bagaimana cara ganti kelak tap...'. Error: 404 POST https://generativelanguage.googleapis.com/v1beta/models/gemini-pro:generateContent?%24alt=json%3Benum-encoding%3Dint: models/gemini-pro is not found for API version v1beta, or is not supported for generateContent. Call ListModels to see the list of available models and their supported methods.\n"
     ]
    },
    {
     "name": "stderr",
     "output_type": "stream",
     "text": [
      "WARNING:tornado.access:404 POST /v1beta/models/gemini-pro:generateContent?%24alt=json%3Benum-encoding%3Dint (127.0.0.1) 557.81ms\n"
     ]
    },
    {
     "name": "stdout",
     "output_type": "stream",
     "text": [
      "Error calling LLM for text: 'saya ingin kembali atau ganti dengan laptop dell s...'. Error: 404 POST https://generativelanguage.googleapis.com/v1beta/models/gemini-pro:generateContent?%24alt=json%3Benum-encoding%3Dint: models/gemini-pro is not found for API version v1beta, or is not supported for generateContent. Call ListModels to see the list of available models and their supported methods.\n"
     ]
    },
    {
     "name": "stderr",
     "output_type": "stream",
     "text": [
      "WARNING:tornado.access:404 POST /v1beta/models/gemini-pro:generateContent?%24alt=json%3Benum-encoding%3Dint (127.0.0.1) 1061.62ms\n"
     ]
    },
    {
     "name": "stdout",
     "output_type": "stream",
     "text": [
      "Error calling LLM for text: 'kerja dg hati dan selalu andal dari allah sendiri ...'. Error: 404 POST https://generativelanguage.googleapis.com/v1beta/models/gemini-pro:generateContent?%24alt=json%3Benum-encoding%3Dint: models/gemini-pro is not found for API version v1beta, or is not supported for generateContent. Call ListModels to see the list of available models and their supported methods.\n"
     ]
    },
    {
     "name": "stderr",
     "output_type": "stream",
     "text": [
      "WARNING:tornado.access:404 POST /v1beta/models/gemini-pro:generateContent?%24alt=json%3Benum-encoding%3Dint (127.0.0.1) 757.94ms\n"
     ]
    },
    {
     "name": "stdout",
     "output_type": "stream",
     "text": [
      "Error calling LLM for text: 'langgan bahagia lain serang lagi...'. Error: 404 POST https://generativelanguage.googleapis.com/v1beta/models/gemini-pro:generateContent?%24alt=json%3Benum-encoding%3Dint: models/gemini-pro is not found for API version v1beta, or is not supported for generateContent. Call ListModels to see the list of available models and their supported methods.\n",
      "\n",
      "--- Hasil Baseline LLM Multilingual Zero-Shot (pada Sampel Test Set) ---\n",
      "                  precision    recall  f1-score   support\n",
      "\n",
      "           anger       0.00      0.00      0.00        28\n",
      "         disgust       0.00      0.00      0.00        13\n",
      "            fear       0.00      0.00      0.00        19\n",
      "             joy       0.00      0.00      0.00        41\n",
      "rare_combination       0.00      0.00      0.00         1\n",
      "         sadness       0.00      0.00      0.00        32\n",
      "        surprise       0.00      0.00      0.00        14\n",
      "\n",
      "       micro avg       0.00      0.00      0.00       148\n",
      "       macro avg       0.00      0.00      0.00       148\n",
      "    weighted avg       0.00      0.00      0.00       148\n",
      "     samples avg       0.00      0.00      0.00       148\n",
      "\n"
     ]
    }
   ],
   "source": [
    "genai.configure(api_key=\"....\")\n",
    "\n",
    "model_gemini_pro = None\n",
    "try:\n",
    "    model_gemini_pro = genai.GenerativeModel('gemini-pro')\n",
    "except Exception as e:\n",
    "    print(f\"Gagal menginisialisasi model Gemini: {e}\")\n",
    "\n",
    "all_possible_labels_str = \", \".join(global_target_emotion_labels)\n",
    "\n",
    "def get_llm_zero_shot_prediction(text, llm_model_client, model_type=\"gemini\"):\n",
    "    prompt = f\"Berikan daftar emosi yang sesuai dari teks Bahasa Indonesia berikut. Emosi yang relevan adalah: {all_possible_labels_str}. Hasil Emosi berupa multilabel.\\n\\nTeks: '{text}'\"\n",
    "\n",
    "    try:\n",
    "        if model_type == \"gemini\" and llm_model_client is not None:\n",
    "            response = llm_model_client.generate_content(prompt)\n",
    "            raw_output = response.text\n",
    "        else:\n",
    "            return []\n",
    "\n",
    "        predicted_labels = []\n",
    "        matches = re.findall(r\"['\\\"]([^'\\\"]+)['\\\"]\", raw_output, re.IGNORECASE)\n",
    "\n",
    "        for match in matches:\n",
    "            if match.lower() in [s.lower() for s in global_target_emotion_labels]:\n",
    "                predicted_labels.append(match.lower())\n",
    "\n",
    "        if not predicted_labels and 'neutral' in [s.lower() for s in global_target_emotion_labels]:\n",
    "            if 'neutral' in raw_output.lower():\n",
    "                predicted_labels.append('neutral')\n",
    "\n",
    "        return sorted(list(set(predicted_labels)))\n",
    "\n",
    "    except Exception as e:\n",
    "        print(f\"Error calling LLM for text: '{text[:50]}...'. Error: {e}\")\n",
    "        return []\n",
    "\n",
    "sample_df_test_zero_shot = df_test.sample(n=min(100, len(df_test)), random_state=RANDOM_SEED)\n",
    "\n",
    "llm_predictions_zero_shot = []\n",
    "\n",
    "if model_gemini_pro is not None:\n",
    "    print(\"\\nMelakukan prediksi Zero-Shot dengan Gemini Pro pada sampel test set...\")\n",
    "    for index, row in sample_df_test_zero_shot.iterrows():\n",
    "        text = row['preprocessed_text']\n",
    "        pred = get_llm_zero_shot_prediction(text, model_gemini_pro, model_type=\"gemini\")\n",
    "        llm_predictions_zero_shot.append(pred)\n",
    "else:\n",
    "    llm_predictions_zero_shot = [[] for _ in range(len(sample_df_test_zero_shot))]\n",
    "\n",
    "\n",
    "y_pred_llm_zero_shot_binary = mlb.transform(llm_predictions_zero_shot)\n",
    "\n",
    "y_true_llm_zero_shot_binary = mlb.transform(sample_df_test_zero_shot['final_multi_label_consolidated'].tolist())\n",
    "\n",
    "if model_gemini_pro is not None:\n",
    "    print(\"\\n--- Hasil Baseline LLM Multilingual Zero-Shot (pada Sampel Test Set) ---\")\n",
    "    print(classification_report(y_true_llm_zero_shot_binary, y_pred_llm_zero_shot_binary, target_names=global_target_emotion_labels, zero_division=0))\n",
    "\n",
    "    results_baseline_llm = {\n",
    "        'Model': 'LLM Zero-Shot (Gemini)',\n",
    "        'micro_f1': f1_score(y_true_llm_zero_shot_binary, y_pred_llm_zero_shot_binary, average='micro', zero_division=0),\n",
    "        'macro_f1': f1_score(y_true_llm_zero_shot_binary, y_pred_llm_zero_shot_binary, average='macro', zero_division=0),\n",
    "        'samples_f1': f1_score(y_true_llm_zero_shot_binary, y_pred_llm_zero_shot_binary, average='samples', zero_division=0),\n",
    "        'Accuracy': accuracy_score(y_true_llm_zero_shot_binary, y_pred_llm_zero_shot_binary),\n",
    "    }\n",
    "else:\n",
    "    results_baseline_llm = {\n",
    "        'Model': 'LLM Zero-Shot (Gemini)',\n",
    "        'micro_f1': np.nan, 'macro_f1': np.nan, 'samples_f1': np.nan, 'Accuracy': np.nan\n",
    "    }"
   ]
  },
  {
   "cell_type": "markdown",
   "metadata": {
    "id": "QDPsD08nJAZ5"
   },
   "source": [
    "##**4.2 Metrik dan Perbandingan Hasil**"
   ]
  },
  {
   "cell_type": "markdown",
   "metadata": {
    "id": "r7N5YIo7o75B"
   },
   "source": [
    "###**4.2.1 Metrik Evaluasi**"
   ]
  },
  {
   "cell_type": "code",
   "execution_count": null,
   "metadata": {
    "id": "VhIaU9NHo4cD"
   },
   "outputs": [],
   "source": [
    "import matplotlib.pyplot as plt\n",
    "import seaborn as sns\n",
    "import pandas as pd\n",
    "import numpy as np\n",
    "from sklearn.metrics import f1_score, accuracy_score, classification_report\n",
    "\n",
    "def evaluate_and_get_results(y_true_binary, y_pred_binary, model_name):\n",
    "    \"\"\"\n",
    "    Menghitung metrik evaluasi dan mengembalikan dictionary hasil.\n",
    "    y_true_binary: ground truth labels dalam format multi-hot binary.\n",
    "    y_pred_binary: predicted labels dalam format multi-hot binary.\n",
    "    \"\"\"\n",
    "    macro_f1 = f1_score(y_true_binary, y_pred_binary, average='macro', zero_division=0)\n",
    "    micro_f1 = f1_score(y_true_binary, y_pred_binary, average='micro', zero_division=0)\n",
    "    samples_f1 = f1_score(y_true_binary, y_pred_binary, average='samples', zero_division=0)\n",
    "    accuracy = accuracy_score(y_true_binary, y_pred_binary) # Subset accuracy\n",
    "\n",
    "    print(f\"\\n=== Hasil {model_name} (pada Test Set) ===\")\n",
    "    print(classification_report(y_true_binary, y_pred_binary, target_names=global_target_emotion_labels, zero_division=0))\n",
    "    print(f\"Macro F1-score: {macro_f1:.4f}\")\n",
    "    print(f\"Micro F1-score: {micro_f1:.4f}\")\n",
    "    print(f\"Samples F1-score: {samples_f1:.4f}\")\n",
    "    print(f\"Akurasi (Subset Accuracy): {accuracy:.4f}\")\n",
    "\n",
    "    return {\n",
    "        'Model': model_name,\n",
    "        'Micro F1': micro_f1,\n",
    "        'Macro F1': macro_f1,\n",
    "        'Samples F1': samples_f1,\n",
    "        'Accuracy': accuracy\n",
    "    }"
   ]
  },
  {
   "cell_type": "markdown",
   "metadata": {
    "id": "43jNQz2gpH0l"
   },
   "source": [
    "###**4.2.2 Hasil dan Perbandingan Model**"
   ]
  },
  {
   "cell_type": "code",
   "execution_count": null,
   "metadata": {
    "colab": {
     "base_uri": "https://localhost:8080/",
     "height": 1000
    },
    "id": "SeGlS5dEpCnt",
    "outputId": "9c03b792-5ab9-4768-b91b-c2e71e1c2353"
   },
   "outputs": [
    {
     "name": "stdout",
     "output_type": "stream",
     "text": [
      "\n",
      "Melakukan prediksi dan evaluasi BiLSTM...\n",
      "\n",
      "=== Hasil BiLSTM (pada Test Set) ===\n",
      "                  precision    recall  f1-score   support\n",
      "\n",
      "           anger       0.65      0.52      0.58       148\n",
      "         disgust       0.51      0.35      0.41        80\n",
      "            fear       0.74      0.33      0.46        88\n",
      "             joy       0.64      0.70      0.67       227\n",
      "rare_combination       0.00      0.00      0.00         6\n",
      "         sadness       0.64      0.37      0.46       167\n",
      "        surprise       0.33      0.15      0.20        61\n",
      "\n",
      "       micro avg       0.62      0.47      0.53       777\n",
      "       macro avg       0.50      0.34      0.40       777\n",
      "    weighted avg       0.61      0.47      0.52       777\n",
      "     samples avg       0.61      0.53      0.54       777\n",
      "\n",
      "Macro F1-score: 0.3980\n",
      "Micro F1-score: 0.5331\n",
      "Samples F1-score: 0.5427\n",
      "Akurasi (Subset Accuracy): 0.3411\n",
      "\n",
      "Melakukan prediksi dan evaluasi IndoBERT...\n"
     ]
    },
    {
     "name": "stderr",
     "output_type": "stream",
     "text": [
      "/usr/local/lib/python3.11/dist-packages/torch/nn/modules/module.py:1750: FutureWarning: `encoder_attention_mask` is deprecated and will be removed in version 4.55.0 for `BertSdpaSelfAttention.forward`.\n",
      "  return forward_call(*args, **kwargs)\n"
     ]
    },
    {
     "data": {
      "text/html": [],
      "text/plain": [
       "<IPython.core.display.HTML object>"
      ]
     },
     "metadata": {},
     "output_type": "display_data"
    },
    {
     "name": "stdout",
     "output_type": "stream",
     "text": [
      "\n",
      "=== Hasil IndoBERT (pada Test Set) ===\n",
      "                  precision    recall  f1-score   support\n",
      "\n",
      "           anger       0.72      0.68      0.70       148\n",
      "         disgust       0.71      0.45      0.55        80\n",
      "            fear       0.66      0.49      0.56        88\n",
      "             joy       0.81      0.79      0.80       227\n",
      "rare_combination       0.00      0.00      0.00         6\n",
      "         sadness       0.69      0.71      0.70       167\n",
      "        surprise       0.34      0.33      0.33        61\n",
      "\n",
      "       micro avg       0.70      0.64      0.67       777\n",
      "       macro avg       0.56      0.49      0.52       777\n",
      "    weighted avg       0.70      0.64      0.66       777\n",
      "     samples avg       0.74      0.71      0.69       777\n",
      "\n",
      "Macro F1-score: 0.5202\n",
      "Micro F1-score: 0.6694\n",
      "Samples F1-score: 0.6923\n",
      "Akurasi (Subset Accuracy): 0.4288\n",
      "\n",
      "Melakukan prediksi dan evaluasi XLM-RoBERTa...\n"
     ]
    },
    {
     "name": "stderr",
     "output_type": "stream",
     "text": [
      "/usr/local/lib/python3.11/dist-packages/torch/nn/modules/module.py:1750: FutureWarning: `encoder_attention_mask` is deprecated and will be removed in version 4.55.0 for `XLMRobertaSdpaSelfAttention.forward`.\n",
      "  return forward_call(*args, **kwargs)\n"
     ]
    },
    {
     "data": {
      "text/html": [],
      "text/plain": [
       "<IPython.core.display.HTML object>"
      ]
     },
     "metadata": {},
     "output_type": "display_data"
    },
    {
     "name": "stdout",
     "output_type": "stream",
     "text": [
      "\n",
      "=== Hasil XLM-RoBERTa (pada Test Set) ===\n",
      "                  precision    recall  f1-score   support\n",
      "\n",
      "           anger       0.69      0.51      0.59       148\n",
      "         disgust       0.75      0.30      0.43        80\n",
      "            fear       0.71      0.44      0.55        88\n",
      "             joy       0.72      0.74      0.73       227\n",
      "rare_combination       0.00      0.00      0.00         6\n",
      "         sadness       0.67      0.54      0.60       167\n",
      "        surprise       0.00      0.00      0.00        61\n",
      "\n",
      "       micro avg       0.70      0.51      0.59       777\n",
      "       macro avg       0.51      0.36      0.41       777\n",
      "    weighted avg       0.64      0.51      0.56       777\n",
      "     samples avg       0.65      0.58      0.59       777\n",
      "\n",
      "Macro F1-score: 0.4120\n",
      "Micro F1-score: 0.5900\n",
      "Samples F1-score: 0.5856\n",
      "Akurasi (Subset Accuracy): 0.3723\n",
      "\n",
      "--- Ringkasan Hasil Evaluasi Semua Model ---\n",
      "                        Micro F1  Macro F1  Samples F1  Accuracy  micro_f1  \\\n",
      "Model                                                                        \n",
      "IndoBERT                  0.6694    0.5202      0.6923    0.4288       NaN   \n",
      "XLM-RoBERTa               0.5900    0.4120      0.5856    0.3723       NaN   \n",
      "BiLSTM                    0.5331    0.3980      0.5427    0.3411       NaN   \n",
      "SemEval 2025 Baseline        NaN    0.3760         NaN       NaN       NaN   \n",
      "Majority Baseline            NaN       NaN         NaN    0.0058     0.468   \n",
      "LLM Zero-Shot (Gemini)       NaN       NaN         NaN    0.0000     0.000   \n",
      "\n",
      "                        macro_f1  samples_f1  \n",
      "Model                                         \n",
      "IndoBERT                     NaN         NaN  \n",
      "XLM-RoBERTa                  NaN         NaN  \n",
      "BiLSTM                       NaN         NaN  \n",
      "SemEval 2025 Baseline        NaN         NaN  \n",
      "Majority Baseline         0.2218      0.4591  \n",
      "LLM Zero-Shot (Gemini)    0.0000      0.0000  \n"
     ]
    }
   ],
   "source": [
    "all_results = []\n",
    "\n",
    "# --- Prediksi dan Evaluasi BiLSTM ---\n",
    "print(\"\\nMelakukan prediksi dan evaluasi BiLSTM...\")\n",
    "model_bilstm.eval()\n",
    "y_pred_bilstm_list = []\n",
    "with torch.no_grad():\n",
    "    for batch in test_loader_bilstm:\n",
    "        text_indices = batch['text_indices'].to(device)\n",
    "        predictions = model_bilstm(text_indices)\n",
    "        y_pred_bilstm_list.extend(predictions.cpu().numpy())\n",
    "\n",
    "y_pred_bilstm_bin = (np.array(y_pred_bilstm_list) > 0.5).astype(int)\n",
    "results_bilstm = evaluate_and_get_results(y_test_multihot, y_pred_bilstm_bin, \"BiLSTM\")\n",
    "all_results.append(results_bilstm)\n",
    "\n",
    "\n",
    "# --- Prediksi dan Evaluasi IndoBERT ---\n",
    "print(\"\\nMelakukan prediksi dan evaluasi IndoBERT...\")\n",
    "trainer_indo_bert.model.eval()\n",
    "predictions_indo = trainer_indo_bert.predict(test_dataset_indo)\n",
    "y_pred_indobert_raw = predictions_indo.predictions\n",
    "y_pred_indobert_bin = (torch.sigmoid(torch.tensor(y_pred_indobert_raw)) > 0.5).int().cpu().numpy()\n",
    "results_indobert = evaluate_and_get_results(y_test_multihot, y_pred_indobert_bin, \"IndoBERT\")\n",
    "all_results.append(results_indobert)\n",
    "\n",
    "\n",
    "# --- Prediksi dan Evaluasi XLM-RoBERTa ---\n",
    "print(\"\\nMelakukan prediksi dan evaluasi XLM-RoBERTa...\")\n",
    "trainer_xlmr.model.eval()\n",
    "predictions_xlmr = trainer_xlmr.predict(test_dataset_xlmr)\n",
    "y_pred_xlmr_raw = predictions_xlmr.predictions\n",
    "y_pred_xlmr_bin = (torch.sigmoid(torch.tensor(y_pred_xlmr_raw)) > 0.5).int().cpu().numpy()\n",
    "results_xlmr = evaluate_and_get_results(y_test_multihot, y_pred_xlmr_bin, \"XLM-RoBERTa\")\n",
    "all_results.append(results_xlmr)\n",
    "\n",
    "\n",
    "# --- Baseline Atribusi Kelas Mayoritas ---\n",
    "# results_baseline_majority sudah dihitung di 4.1.1\n",
    "all_results.append(results_baseline_majority)\n",
    "\n",
    "\n",
    "# --- Baseline LLM Multilingual Zero-Shot (Gemini) ---\n",
    "# results_baseline_llm sudah dihitung di 4.1.2\n",
    "all_results.append(results_baseline_llm)\n",
    "\n",
    "\n",
    "# --- Baseline SemEval 2025 (dari data yang dilaporkan) ---\n",
    "results_baseline_semeval = {\n",
    "    'Model': 'SemEval 2025 Baseline',\n",
    "    'Micro F1': np.nan, # Tidak dilaporkan secara eksplisit untuk baseline ini\n",
    "    'Macro F1': 0.376, # Nilai dari Table 2 dan 4 untuk 'ind' Rbaseline\n",
    "    'Samples F1': np.nan, # Tidak dilaporkan\n",
    "    'Accuracy': np.nan # Tidak dilaporkan\n",
    "}\n",
    "all_results.append(results_baseline_semeval)\n",
    "\n",
    "\n",
    "# --- Ringkasan Hasil Evaluasi dalam DataFrame ---\n",
    "results_summary_df = pd.DataFrame(all_results)\n",
    "results_summary_df = results_summary_df.sort_values(by=\"Macro F1\", ascending=False).reset_index(drop=True)\n",
    "\n",
    "print(\"\\n--- Ringkasan Hasil Evaluasi Semua Model ---\")\n",
    "print(results_summary_df.set_index(\"Model\").round(4))"
   ]
  },
  {
   "cell_type": "markdown",
   "metadata": {
    "id": "VDhv81FLpTFC"
   },
   "source": [
    "###**4.2.3 Visualisasi Hasil**"
   ]
  },
  {
   "cell_type": "code",
   "execution_count": null,
   "metadata": {
    "colab": {
     "base_uri": "https://localhost:8080/",
     "height": 1000
    },
    "id": "yJAH6luWpP9R",
    "outputId": "b6161c3e-16ad-41e3-bc97-04761a58a044"
   },
   "outputs": [
    {
     "name": "stderr",
     "output_type": "stream",
     "text": [
      "/tmp/ipython-input-1239006243.py:3: FutureWarning: \n",
      "\n",
      "Passing `palette` without assigning `hue` is deprecated and will be removed in v0.14.0. Assign the `x` variable to `hue` and set `legend=False` for the same effect.\n",
      "\n",
      "  sns.barplot(x=\"Model\", y=\"Macro F1\", data=results_summary_df, palette=\"viridis\")\n"
     ]
    },
    {
     "data": {
      "image/png": "[encoded data removed]",
      "text/plain": [
       "<Figure size 1400x800 with 1 Axes>"
      ]
     },
     "metadata": {},
     "output_type": "display_data"
    },
    {
     "name": "stderr",
     "output_type": "stream",
     "text": [
      "/tmp/ipython-input-1239006243.py:14: FutureWarning: \n",
      "\n",
      "Passing `palette` without assigning `hue` is deprecated and will be removed in v0.14.0. Assign the `x` variable to `hue` and set `legend=False` for the same effect.\n",
      "\n",
      "  sns.barplot(x=\"Model\", y=\"Micro F1\", data=results_summary_df, palette=\"plasma\")\n"
     ]
    },
    {
     "data": {
      "image/png": "[encoded data removed]",
      "text/plain": [
       "<Figure size 1400x800 with 1 Axes>"
      ]
     },
     "metadata": {},
     "output_type": "display_data"
    }
   ],
   "source": [
    "# Visualisasi Hasil (Macro F1)\n",
    "plt.figure(figsize=(14, 8))\n",
    "sns.barplot(x=\"Model\", y=\"Macro F1\", data=results_summary_df, palette=\"viridis\")\n",
    "plt.title(\"Perbandingan Kinerja Model (Macro F1-score) pada Test Set\")\n",
    "plt.ylabel(\"Macro F1-score\")\n",
    "plt.ylim(0, 1)\n",
    "plt.xticks(rotation=45, ha='right')\n",
    "plt.grid(axis='y', linestyle='--', alpha=0.7)\n",
    "plt.tight_layout()\n",
    "plt.savefig(\"macro_f1_comparison.png\") # Save the Macro F1 plot\n",
    "plt.show()\n",
    "\n",
    "# Visualisasi Hasil (Micro F1)\n",
    "plt.figure(figsize=(14, 8))\n",
    "sns.barplot(x=\"Model\", y=\"Micro F1\", data=results_summary_df, palette=\"plasma\")\n",
    "plt.title(\"Perbandingan Kinerja Model (Micro F1-score) pada Test Set\")\n",
    "plt.ylabel(\"Micro F1-score\")\n",
    "plt.ylim(0, 1)\n",
    "plt.xticks(rotation=45, ha='right')\n",
    "plt.grid(axis='y', linestyle='--', alpha=0.7)\n",
    "plt.tight_layout()\n",
    "plt.savefig(\"micro_f1_comparison.png\") # Save the Micro F1 plot\n",
    "plt.show()"
   ]
  }
 ],
 "metadata": {
  "accelerator": "GPU",
  "colab": {
   "gpuType": "T4",
   "provenance": []
  },
  "kernelspec": {
   "display_name": "Python 3",
   "name": "python3"
  },
  "language_info": {
   "name": "python"
  }
 },
 "nbformat": 4,
 "nbformat_minor": 0
}
